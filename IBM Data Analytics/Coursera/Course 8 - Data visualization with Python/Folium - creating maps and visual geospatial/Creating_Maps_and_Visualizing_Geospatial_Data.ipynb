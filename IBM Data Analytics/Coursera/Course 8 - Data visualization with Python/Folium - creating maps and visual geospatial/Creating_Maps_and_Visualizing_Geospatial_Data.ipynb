{
  "nbformat": 4,
  "nbformat_minor": 0,
  "metadata": {
    "colab": {
      "provenance": []
    },
    "kernelspec": {
      "name": "python3",
      "display_name": "Python 3"
    },
    "language_info": {
      "name": "python"
    }
  },
  "cells": [
    {
      "cell_type": "markdown",
      "source": [
        "# Exploring Datasets<a id=\"0\"></a>\n",
        "\n",
        "Toolkits: This lab heavily relies on [*pandas*](http://pandas.pydata.org/) and [*Numpy*](http://www.numpy.org/) for data wrangling, analysis, and visualization. The primary plotting library we will explore in this lab is [**Folium**](https://github.com/python-visualization/folium/).\n",
        "\n",
        "Datasets:\n",
        "\n",
        "1. San Francisco Police Department Incidents for the year 2016 - [Police Department Incidents](https://data.sfgov.org/Public-Safety/Police-Department-Incident-Reports-Historical-2003/tmnf-yvry) from San Francisco public data portal. Incidents derived from San Francisco Police Department (SFPD) Crime Incident Reporting system. Updated daily, showing data for the entire year of 2016. Address and location has been anonymized by moving to mid-block or to an intersection. Note: this dataset no longer exists on the original website since systems updates in the department.  The link included will take you to the page explaining the change of system since this exercise was created.   \n",
        "\n",
        "2. Immigration to Canada from 1980 to 2013 - [International migration flows to and from selected countries - The 2015 revision](https://www.un.org/development/desa/pd/data/international-migration-flows) from United Nation's website. The dataset contains annual data on the flows of international migrants as recorded by the countries of destination. The data presents both inflows and outflows according to the place of birth, citizenship or place of previous / next residence both for foreigners and nationals. For this lesson, we will focus on the Canadian Immigration data and use the *already cleaned dataset*.<br><br>\n",
        "You can refer to the lab on data pre-processing wherein this dataset is cleaned for a quick refresh your Pandas skill [Data pre-processing with Pandas](https://cf-courses-data.s3.us.cloud-object-storage.appdomain.cloud/IBMDeveloperSkillsNetwork-DV0101EN-SkillsNetwork/labs/v4/DV0101EN-Exercise-Dataset-Preprocessing-Exploring-with-Pandas.ipynb)"
      ],
      "metadata": {
        "id": "9LgRAkV6F6Pd"
      }
    },
    {
      "cell_type": "code",
      "execution_count": 1,
      "metadata": {
        "id": "TLc6fXhCF5Ca"
      },
      "outputs": [],
      "source": [
        "import numpy as np  # useful for many scientific computing in Python\n",
        "import pandas as pd # primary data structure library"
      ]
    },
    {
      "cell_type": "markdown",
      "source": [
        "Folium is not available by default. So, we first need to install it before we are able to import it."
      ],
      "metadata": {
        "id": "qXMSmvS0RKrP"
      }
    },
    {
      "cell_type": "code",
      "source": [
        "#!pip3 install folium==0.5.0\n",
        "import folium\n",
        "\n",
        "print('Folium installed and imported!')"
      ],
      "metadata": {
        "colab": {
          "base_uri": "https://localhost:8080/"
        },
        "id": "ZWW0Vm6fF-4P",
        "outputId": "c615fb40-c515-407e-8ecd-1c01d0a82365"
      },
      "execution_count": 2,
      "outputs": [
        {
          "output_type": "stream",
          "name": "stdout",
          "text": [
            "Folium installed and imported!\n"
          ]
        }
      ]
    },
    {
      "cell_type": "markdown",
      "source": [
        "Folium is a powerful Python library that helps you create several types of Leaflet maps. The fact that the Folium results are interactive makes this library very useful for dashboard building.\n",
        "\n",
        "From the official Folium documentation page:\n",
        "\n",
        "> Folium builds on the data wrangling strengths of the Python ecosystem and the mapping strengths of the Leaflet.js library. Manipulate your data in Python, then visualize it in on a Leaflet map via Folium.\n",
        "\n",
        "> Folium makes it easy to visualize data that's been manipulated in Python on an interactive Leaflet map. It enables both the binding of data to a map for choropleth visualizations as well as passing Vincent/Vega visualizations as markers on the map.\n",
        "\n",
        "> The library has a number of built-in tilesets from OpenStreetMap, Mapbox, Cartodb and supports custom tilesets with Mapbox or Cloudmade API keys. Folium supports both GeoJSON and TopoJSON overlays, as well as the binding of data to those overlays to create choropleth maps with color-brewer color schemes.\n",
        "\n",
        "\n",
        "Generating the world map is straightforward in Folium. You simply create a Folium Map object, and then you display it. What is attractive about Folium maps is that they are interactive, so you can zoom into any region of interest despite the initial zoom level."
      ],
      "metadata": {
        "id": "PfXRjs2iRRuM"
      }
    },
    {
      "cell_type": "code",
      "source": [
        "# define the world map\n",
        "world_map = folium.Map()\n",
        "\n",
        "# display world map\n",
        "#world_map"
      ],
      "metadata": {
        "id": "yuPhIu9GF_g2"
      },
      "execution_count": 4,
      "outputs": []
    },
    {
      "cell_type": "markdown",
      "source": [
        "You can customize this default definition of the world map by specifying the centre of your map, and the initial zoom level.\n",
        "\n",
        "All locations on a map are defined by their respective *Latitude* and *Longitude* values. So you can create a map and pass in a center of *Latitude* and *Longitude* values of **[0, 0]**.\n",
        "\n",
        "For a defined center, you can also define the initial zoom level into that location when the map is rendered. **The higher the zoom level the more the map is zoomed into the center**.\n",
        "\n",
        "Let's create a map centered around Canada and play with the zoom level to see how it affects the rendered map.\n"
      ],
      "metadata": {
        "id": "Lam-zNZPRnmO"
      }
    },
    {
      "cell_type": "code",
      "source": [
        "# define the world map centered around Canada with a low zoom level\n",
        "world_map = folium.Map(location=[56.130, -106.35], zoom_start=4)\n",
        "\n",
        "# display world map\n",
        "#world_map"
      ],
      "metadata": {
        "id": "nBpxf1U6Ow0e"
      },
      "execution_count": 6,
      "outputs": []
    },
    {
      "cell_type": "markdown",
      "source": [
        "Let's create the map again with a higher zoom level.\n"
      ],
      "metadata": {
        "id": "vT3M4DG7RqQl"
      }
    },
    {
      "cell_type": "code",
      "source": [
        "# define the world map centered around Canada with a higher zoom level\n",
        "world_map = folium.Map(location=[56.130, -106.35], zoom_start=8)\n",
        "\n",
        "# display world map\n",
        "#world_map"
      ],
      "metadata": {
        "id": "vt9aSs1NO51v"
      },
      "execution_count": 8,
      "outputs": []
    },
    {
      "cell_type": "markdown",
      "source": [
        "Creating a map of Mexico with a zoom level of 4."
      ],
      "metadata": {
        "id": "0zKb2V0CPdke"
      }
    },
    {
      "cell_type": "code",
      "source": [
        "#define Mexico's geolocation coordinates\n",
        "mexico_latitude = 23.6345\n",
        "mexico_longitude = -102.5528\n",
        "\n",
        "# define the world map centered around Canada with a higher zoom level\n",
        "mexico_map = folium.Map(location=[mexico_latitude, mexico_longitude], zoom_start=4)\n",
        "\n",
        "# display world map\n",
        "#mexico_map"
      ],
      "metadata": {
        "id": "-6VIQnvoO_Lk"
      },
      "execution_count": 14,
      "outputs": []
    },
    {
      "cell_type": "markdown",
      "source": [
        "### A. Cartodb dark_matter Maps\n",
        "\n",
        "These are high-contrast B+W (black and white) maps. They are perfect for data mashups and exploring river meanders and coastal zones.\n"
      ],
      "metadata": {
        "id": "VZPE0_e3R4Et"
      }
    },
    {
      "cell_type": "code",
      "source": [
        "# create a Cartodb dark_matter map of the world centered around Canada\n",
        "world_map = folium.Map(location=[56.130, -106.35], zoom_start=4, tiles='Cartodb dark_matter')\n",
        "\n",
        "# display map\n",
        "#world_map"
      ],
      "metadata": {
        "id": "Sn4nVEZVPlwk"
      },
      "execution_count": 16,
      "outputs": []
    },
    {
      "cell_type": "markdown",
      "source": [
        "### B. Cartodb positron Maps\n",
        "\n",
        "CartoDB Positron maps are designed with a light and minimalistic aesthetic. They have a white or light-colored background and feature simple, clean lines for map elements. These maps are known for their modern and visually appealing design.\n"
      ],
      "metadata": {
        "id": "pXKRUrrxSBeF"
      }
    },
    {
      "cell_type": "code",
      "source": [
        "# create a Cartodb positron map of the world centered around Canada\n",
        "world_map = folium.Map(location=[56.130, -106.35], zoom_start=4, tiles='Cartodb positron')\n",
        "\n",
        "# display map\n",
        "#world_map"
      ],
      "metadata": {
        "id": "0Hjj6k6LR670"
      },
      "execution_count": 20,
      "outputs": []
    },
    {
      "cell_type": "markdown",
      "source": [
        "Create a map of Mexico to visualize a clean and modern design with a light-colored background. Use a zoom level of 6."
      ],
      "metadata": {
        "id": "aV_5e-tJScSc"
      }
    },
    {
      "cell_type": "code",
      "source": [
        "#define Mexico's geolocation coordinates\n",
        "mexico_latitude = 23.6345\n",
        "mexico_longitude = -102.5528\n",
        "\n",
        "# define the world map centered around Canada with a higher zoom level\n",
        "mexico_map = folium.Map(location=[mexico_latitude, mexico_longitude], zoom_start=6, tiles='Cartodb positron')\n",
        "\n",
        "# display world map\n",
        "#mexico_map"
      ],
      "metadata": {
        "id": "rzD1lSuGSDxg"
      },
      "execution_count": 22,
      "outputs": []
    },
    {
      "cell_type": "markdown",
      "source": [
        "## **Maps with Markers**\n",
        "\n",
        "Let's download and import the data on police department incidents using *pandas* `read_csv()` method."
      ],
      "metadata": {
        "id": "XYB3IhxMSm1_"
      }
    },
    {
      "cell_type": "code",
      "source": [
        "df_incidents = pd.read_csv('https://cf-courses-data.s3.us.cloud-object-storage.appdomain.cloud/IBMDeveloperSkillsNetwork-DV0101EN-SkillsNetwork/Data%20Files/Police_Department_Incidents_-_Previous_Year__2016_.csv')\n",
        "\n",
        "print('Dataset downloaded and read into a pandas dataframe!')"
      ],
      "metadata": {
        "colab": {
          "base_uri": "https://localhost:8080/"
        },
        "id": "j1EbcrlvSf2b",
        "outputId": "26a18677-592c-4e5d-d97b-a1e1389f24c9"
      },
      "execution_count": 23,
      "outputs": [
        {
          "output_type": "stream",
          "name": "stdout",
          "text": [
            "Dataset downloaded and read into a pandas dataframe!\n"
          ]
        }
      ]
    },
    {
      "cell_type": "code",
      "source": [
        "df_incidents.head()"
      ],
      "metadata": {
        "colab": {
          "base_uri": "https://localhost:8080/",
          "height": 452
        },
        "id": "uLbyff5-StJv",
        "outputId": "053de71b-0568-4d75-eb02-f1a99cb00ca5"
      },
      "execution_count": 24,
      "outputs": [
        {
          "output_type": "execute_result",
          "data": {
            "text/plain": [
              "   IncidntNum      Category                                        Descript  \\\n",
              "0   120058272   WEAPON LAWS                       POSS OF PROHIBITED WEAPON   \n",
              "1   120058272   WEAPON LAWS  FIREARM, LOADED, IN VEHICLE, POSSESSION OR USE   \n",
              "2   141059263      WARRANTS                                  WARRANT ARREST   \n",
              "3   160013662  NON-CRIMINAL                                   LOST PROPERTY   \n",
              "4   160002740  NON-CRIMINAL                                   LOST PROPERTY   \n",
              "\n",
              "  DayOfWeek                    Date   Time  PdDistrict      Resolution  \\\n",
              "0    Friday  01/29/2016 12:00:00 AM  11:00    SOUTHERN  ARREST, BOOKED   \n",
              "1    Friday  01/29/2016 12:00:00 AM  11:00    SOUTHERN  ARREST, BOOKED   \n",
              "2    Monday  04/25/2016 12:00:00 AM  14:59     BAYVIEW  ARREST, BOOKED   \n",
              "3   Tuesday  01/05/2016 12:00:00 AM  23:50  TENDERLOIN            NONE   \n",
              "4    Friday  01/01/2016 12:00:00 AM  00:30     MISSION            NONE   \n",
              "\n",
              "                  Address           X          Y  \\\n",
              "0  800 Block of BRYANT ST -122.403405  37.775421   \n",
              "1  800 Block of BRYANT ST -122.403405  37.775421   \n",
              "2   KEITH ST / SHAFTER AV -122.388856  37.729981   \n",
              "3  JONES ST / OFARRELL ST -122.412971  37.785788   \n",
              "4    16TH ST / MISSION ST -122.419672  37.765050   \n",
              "\n",
              "                                Location            PdId  \n",
              "0   (37.775420706711, -122.403404791479)  12005827212120  \n",
              "1   (37.775420706711, -122.403404791479)  12005827212168  \n",
              "2  (37.7299809672996, -122.388856204292)  14105926363010  \n",
              "3  (37.7857883766888, -122.412970537591)  16001366271000  \n",
              "4  (37.7650501214668, -122.419671780296)  16000274071000  "
            ],
            "text/html": [
              "\n",
              "  <div id=\"df-af27740e-29e0-487b-a35d-cea5db1b8c9b\" class=\"colab-df-container\">\n",
              "    <div>\n",
              "<style scoped>\n",
              "    .dataframe tbody tr th:only-of-type {\n",
              "        vertical-align: middle;\n",
              "    }\n",
              "\n",
              "    .dataframe tbody tr th {\n",
              "        vertical-align: top;\n",
              "    }\n",
              "\n",
              "    .dataframe thead th {\n",
              "        text-align: right;\n",
              "    }\n",
              "</style>\n",
              "<table border=\"1\" class=\"dataframe\">\n",
              "  <thead>\n",
              "    <tr style=\"text-align: right;\">\n",
              "      <th></th>\n",
              "      <th>IncidntNum</th>\n",
              "      <th>Category</th>\n",
              "      <th>Descript</th>\n",
              "      <th>DayOfWeek</th>\n",
              "      <th>Date</th>\n",
              "      <th>Time</th>\n",
              "      <th>PdDistrict</th>\n",
              "      <th>Resolution</th>\n",
              "      <th>Address</th>\n",
              "      <th>X</th>\n",
              "      <th>Y</th>\n",
              "      <th>Location</th>\n",
              "      <th>PdId</th>\n",
              "    </tr>\n",
              "  </thead>\n",
              "  <tbody>\n",
              "    <tr>\n",
              "      <th>0</th>\n",
              "      <td>120058272</td>\n",
              "      <td>WEAPON LAWS</td>\n",
              "      <td>POSS OF PROHIBITED WEAPON</td>\n",
              "      <td>Friday</td>\n",
              "      <td>01/29/2016 12:00:00 AM</td>\n",
              "      <td>11:00</td>\n",
              "      <td>SOUTHERN</td>\n",
              "      <td>ARREST, BOOKED</td>\n",
              "      <td>800 Block of BRYANT ST</td>\n",
              "      <td>-122.403405</td>\n",
              "      <td>37.775421</td>\n",
              "      <td>(37.775420706711, -122.403404791479)</td>\n",
              "      <td>12005827212120</td>\n",
              "    </tr>\n",
              "    <tr>\n",
              "      <th>1</th>\n",
              "      <td>120058272</td>\n",
              "      <td>WEAPON LAWS</td>\n",
              "      <td>FIREARM, LOADED, IN VEHICLE, POSSESSION OR USE</td>\n",
              "      <td>Friday</td>\n",
              "      <td>01/29/2016 12:00:00 AM</td>\n",
              "      <td>11:00</td>\n",
              "      <td>SOUTHERN</td>\n",
              "      <td>ARREST, BOOKED</td>\n",
              "      <td>800 Block of BRYANT ST</td>\n",
              "      <td>-122.403405</td>\n",
              "      <td>37.775421</td>\n",
              "      <td>(37.775420706711, -122.403404791479)</td>\n",
              "      <td>12005827212168</td>\n",
              "    </tr>\n",
              "    <tr>\n",
              "      <th>2</th>\n",
              "      <td>141059263</td>\n",
              "      <td>WARRANTS</td>\n",
              "      <td>WARRANT ARREST</td>\n",
              "      <td>Monday</td>\n",
              "      <td>04/25/2016 12:00:00 AM</td>\n",
              "      <td>14:59</td>\n",
              "      <td>BAYVIEW</td>\n",
              "      <td>ARREST, BOOKED</td>\n",
              "      <td>KEITH ST / SHAFTER AV</td>\n",
              "      <td>-122.388856</td>\n",
              "      <td>37.729981</td>\n",
              "      <td>(37.7299809672996, -122.388856204292)</td>\n",
              "      <td>14105926363010</td>\n",
              "    </tr>\n",
              "    <tr>\n",
              "      <th>3</th>\n",
              "      <td>160013662</td>\n",
              "      <td>NON-CRIMINAL</td>\n",
              "      <td>LOST PROPERTY</td>\n",
              "      <td>Tuesday</td>\n",
              "      <td>01/05/2016 12:00:00 AM</td>\n",
              "      <td>23:50</td>\n",
              "      <td>TENDERLOIN</td>\n",
              "      <td>NONE</td>\n",
              "      <td>JONES ST / OFARRELL ST</td>\n",
              "      <td>-122.412971</td>\n",
              "      <td>37.785788</td>\n",
              "      <td>(37.7857883766888, -122.412970537591)</td>\n",
              "      <td>16001366271000</td>\n",
              "    </tr>\n",
              "    <tr>\n",
              "      <th>4</th>\n",
              "      <td>160002740</td>\n",
              "      <td>NON-CRIMINAL</td>\n",
              "      <td>LOST PROPERTY</td>\n",
              "      <td>Friday</td>\n",
              "      <td>01/01/2016 12:00:00 AM</td>\n",
              "      <td>00:30</td>\n",
              "      <td>MISSION</td>\n",
              "      <td>NONE</td>\n",
              "      <td>16TH ST / MISSION ST</td>\n",
              "      <td>-122.419672</td>\n",
              "      <td>37.765050</td>\n",
              "      <td>(37.7650501214668, -122.419671780296)</td>\n",
              "      <td>16000274071000</td>\n",
              "    </tr>\n",
              "  </tbody>\n",
              "</table>\n",
              "</div>\n",
              "    <div class=\"colab-df-buttons\">\n",
              "\n",
              "  <div class=\"colab-df-container\">\n",
              "    <button class=\"colab-df-convert\" onclick=\"convertToInteractive('df-af27740e-29e0-487b-a35d-cea5db1b8c9b')\"\n",
              "            title=\"Convert this dataframe to an interactive table.\"\n",
              "            style=\"display:none;\">\n",
              "\n",
              "  <svg xmlns=\"http://www.w3.org/2000/svg\" height=\"24px\" viewBox=\"0 -960 960 960\">\n",
              "    <path d=\"M120-120v-720h720v720H120Zm60-500h600v-160H180v160Zm220 220h160v-160H400v160Zm0 220h160v-160H400v160ZM180-400h160v-160H180v160Zm440 0h160v-160H620v160ZM180-180h160v-160H180v160Zm440 0h160v-160H620v160Z\"/>\n",
              "  </svg>\n",
              "    </button>\n",
              "\n",
              "  <style>\n",
              "    .colab-df-container {\n",
              "      display:flex;\n",
              "      gap: 12px;\n",
              "    }\n",
              "\n",
              "    .colab-df-convert {\n",
              "      background-color: #E8F0FE;\n",
              "      border: none;\n",
              "      border-radius: 50%;\n",
              "      cursor: pointer;\n",
              "      display: none;\n",
              "      fill: #1967D2;\n",
              "      height: 32px;\n",
              "      padding: 0 0 0 0;\n",
              "      width: 32px;\n",
              "    }\n",
              "\n",
              "    .colab-df-convert:hover {\n",
              "      background-color: #E2EBFA;\n",
              "      box-shadow: 0px 1px 2px rgba(60, 64, 67, 0.3), 0px 1px 3px 1px rgba(60, 64, 67, 0.15);\n",
              "      fill: #174EA6;\n",
              "    }\n",
              "\n",
              "    .colab-df-buttons div {\n",
              "      margin-bottom: 4px;\n",
              "    }\n",
              "\n",
              "    [theme=dark] .colab-df-convert {\n",
              "      background-color: #3B4455;\n",
              "      fill: #D2E3FC;\n",
              "    }\n",
              "\n",
              "    [theme=dark] .colab-df-convert:hover {\n",
              "      background-color: #434B5C;\n",
              "      box-shadow: 0px 1px 3px 1px rgba(0, 0, 0, 0.15);\n",
              "      filter: drop-shadow(0px 1px 2px rgba(0, 0, 0, 0.3));\n",
              "      fill: #FFFFFF;\n",
              "    }\n",
              "  </style>\n",
              "\n",
              "    <script>\n",
              "      const buttonEl =\n",
              "        document.querySelector('#df-af27740e-29e0-487b-a35d-cea5db1b8c9b button.colab-df-convert');\n",
              "      buttonEl.style.display =\n",
              "        google.colab.kernel.accessAllowed ? 'block' : 'none';\n",
              "\n",
              "      async function convertToInteractive(key) {\n",
              "        const element = document.querySelector('#df-af27740e-29e0-487b-a35d-cea5db1b8c9b');\n",
              "        const dataTable =\n",
              "          await google.colab.kernel.invokeFunction('convertToInteractive',\n",
              "                                                    [key], {});\n",
              "        if (!dataTable) return;\n",
              "\n",
              "        const docLinkHtml = 'Like what you see? Visit the ' +\n",
              "          '<a target=\"_blank\" href=https://colab.research.google.com/notebooks/data_table.ipynb>data table notebook</a>'\n",
              "          + ' to learn more about interactive tables.';\n",
              "        element.innerHTML = '';\n",
              "        dataTable['output_type'] = 'display_data';\n",
              "        await google.colab.output.renderOutput(dataTable, element);\n",
              "        const docLink = document.createElement('div');\n",
              "        docLink.innerHTML = docLinkHtml;\n",
              "        element.appendChild(docLink);\n",
              "      }\n",
              "    </script>\n",
              "  </div>\n",
              "\n",
              "\n",
              "<div id=\"df-d8e6684c-3835-4d8c-b1b3-117cd42e709c\">\n",
              "  <button class=\"colab-df-quickchart\" onclick=\"quickchart('df-d8e6684c-3835-4d8c-b1b3-117cd42e709c')\"\n",
              "            title=\"Suggest charts\"\n",
              "            style=\"display:none;\">\n",
              "\n",
              "<svg xmlns=\"http://www.w3.org/2000/svg\" height=\"24px\"viewBox=\"0 0 24 24\"\n",
              "     width=\"24px\">\n",
              "    <g>\n",
              "        <path d=\"M19 3H5c-1.1 0-2 .9-2 2v14c0 1.1.9 2 2 2h14c1.1 0 2-.9 2-2V5c0-1.1-.9-2-2-2zM9 17H7v-7h2v7zm4 0h-2V7h2v10zm4 0h-2v-4h2v4z\"/>\n",
              "    </g>\n",
              "</svg>\n",
              "  </button>\n",
              "\n",
              "<style>\n",
              "  .colab-df-quickchart {\n",
              "      --bg-color: #E8F0FE;\n",
              "      --fill-color: #1967D2;\n",
              "      --hover-bg-color: #E2EBFA;\n",
              "      --hover-fill-color: #174EA6;\n",
              "      --disabled-fill-color: #AAA;\n",
              "      --disabled-bg-color: #DDD;\n",
              "  }\n",
              "\n",
              "  [theme=dark] .colab-df-quickchart {\n",
              "      --bg-color: #3B4455;\n",
              "      --fill-color: #D2E3FC;\n",
              "      --hover-bg-color: #434B5C;\n",
              "      --hover-fill-color: #FFFFFF;\n",
              "      --disabled-bg-color: #3B4455;\n",
              "      --disabled-fill-color: #666;\n",
              "  }\n",
              "\n",
              "  .colab-df-quickchart {\n",
              "    background-color: var(--bg-color);\n",
              "    border: none;\n",
              "    border-radius: 50%;\n",
              "    cursor: pointer;\n",
              "    display: none;\n",
              "    fill: var(--fill-color);\n",
              "    height: 32px;\n",
              "    padding: 0;\n",
              "    width: 32px;\n",
              "  }\n",
              "\n",
              "  .colab-df-quickchart:hover {\n",
              "    background-color: var(--hover-bg-color);\n",
              "    box-shadow: 0 1px 2px rgba(60, 64, 67, 0.3), 0 1px 3px 1px rgba(60, 64, 67, 0.15);\n",
              "    fill: var(--button-hover-fill-color);\n",
              "  }\n",
              "\n",
              "  .colab-df-quickchart-complete:disabled,\n",
              "  .colab-df-quickchart-complete:disabled:hover {\n",
              "    background-color: var(--disabled-bg-color);\n",
              "    fill: var(--disabled-fill-color);\n",
              "    box-shadow: none;\n",
              "  }\n",
              "\n",
              "  .colab-df-spinner {\n",
              "    border: 2px solid var(--fill-color);\n",
              "    border-color: transparent;\n",
              "    border-bottom-color: var(--fill-color);\n",
              "    animation:\n",
              "      spin 1s steps(1) infinite;\n",
              "  }\n",
              "\n",
              "  @keyframes spin {\n",
              "    0% {\n",
              "      border-color: transparent;\n",
              "      border-bottom-color: var(--fill-color);\n",
              "      border-left-color: var(--fill-color);\n",
              "    }\n",
              "    20% {\n",
              "      border-color: transparent;\n",
              "      border-left-color: var(--fill-color);\n",
              "      border-top-color: var(--fill-color);\n",
              "    }\n",
              "    30% {\n",
              "      border-color: transparent;\n",
              "      border-left-color: var(--fill-color);\n",
              "      border-top-color: var(--fill-color);\n",
              "      border-right-color: var(--fill-color);\n",
              "    }\n",
              "    40% {\n",
              "      border-color: transparent;\n",
              "      border-right-color: var(--fill-color);\n",
              "      border-top-color: var(--fill-color);\n",
              "    }\n",
              "    60% {\n",
              "      border-color: transparent;\n",
              "      border-right-color: var(--fill-color);\n",
              "    }\n",
              "    80% {\n",
              "      border-color: transparent;\n",
              "      border-right-color: var(--fill-color);\n",
              "      border-bottom-color: var(--fill-color);\n",
              "    }\n",
              "    90% {\n",
              "      border-color: transparent;\n",
              "      border-bottom-color: var(--fill-color);\n",
              "    }\n",
              "  }\n",
              "</style>\n",
              "\n",
              "  <script>\n",
              "    async function quickchart(key) {\n",
              "      const quickchartButtonEl =\n",
              "        document.querySelector('#' + key + ' button');\n",
              "      quickchartButtonEl.disabled = true;  // To prevent multiple clicks.\n",
              "      quickchartButtonEl.classList.add('colab-df-spinner');\n",
              "      try {\n",
              "        const charts = await google.colab.kernel.invokeFunction(\n",
              "            'suggestCharts', [key], {});\n",
              "      } catch (error) {\n",
              "        console.error('Error during call to suggestCharts:', error);\n",
              "      }\n",
              "      quickchartButtonEl.classList.remove('colab-df-spinner');\n",
              "      quickchartButtonEl.classList.add('colab-df-quickchart-complete');\n",
              "    }\n",
              "    (() => {\n",
              "      let quickchartButtonEl =\n",
              "        document.querySelector('#df-d8e6684c-3835-4d8c-b1b3-117cd42e709c button');\n",
              "      quickchartButtonEl.style.display =\n",
              "        google.colab.kernel.accessAllowed ? 'block' : 'none';\n",
              "    })();\n",
              "  </script>\n",
              "</div>\n",
              "\n",
              "    </div>\n",
              "  </div>\n"
            ],
            "application/vnd.google.colaboratory.intrinsic+json": {
              "type": "dataframe",
              "variable_name": "df_incidents"
            }
          },
          "metadata": {},
          "execution_count": 24
        }
      ]
    },
    {
      "cell_type": "code",
      "source": [
        "df_incidents.shape"
      ],
      "metadata": {
        "colab": {
          "base_uri": "https://localhost:8080/"
        },
        "id": "dVqJ5KKdS2oW",
        "outputId": "fd839cd5-e45d-4d75-b01b-05db3444011b"
      },
      "execution_count": 25,
      "outputs": [
        {
          "output_type": "execute_result",
          "data": {
            "text/plain": [
              "(150500, 13)"
            ]
          },
          "metadata": {},
          "execution_count": 25
        }
      ]
    },
    {
      "cell_type": "markdown",
      "source": [
        "So the dataframe consists of 150,500 crimes, which took place in the year 2016. In order to reduce computational cost, let's just work with the first 100 incidents in this dataset."
      ],
      "metadata": {
        "id": "AydYYyATUaMF"
      }
    },
    {
      "cell_type": "code",
      "source": [
        "# get the first 100 crimes in the df_incidents dataframe\n",
        "limit = 100\n",
        "df_incidents = df_incidents.iloc[0:limit, :]"
      ],
      "metadata": {
        "id": "TmTioytVUCOA"
      },
      "execution_count": 26,
      "outputs": []
    },
    {
      "cell_type": "code",
      "source": [
        "df_incidents.shape"
      ],
      "metadata": {
        "colab": {
          "base_uri": "https://localhost:8080/"
        },
        "id": "G7f4KAVUUEp_",
        "outputId": "4ea72e22-3c3b-4ab0-9a6e-ed590944facc"
      },
      "execution_count": 27,
      "outputs": [
        {
          "output_type": "execute_result",
          "data": {
            "text/plain": [
              "(100, 13)"
            ]
          },
          "metadata": {},
          "execution_count": 27
        }
      ]
    },
    {
      "cell_type": "markdown",
      "source": [
        "Now that we reduced the data a little, let's visualize where these crimes took place in the city of San Francisco. We will use the default style, and we will initialize the zoom level to 12."
      ],
      "metadata": {
        "id": "8iz29s7SUtqY"
      }
    },
    {
      "cell_type": "code",
      "source": [
        "# San Francisco latitude and longitude values\n",
        "latitude = 37.77\n",
        "longitude = -122.42"
      ],
      "metadata": {
        "id": "EChb_gGOUHVM"
      },
      "execution_count": 28,
      "outputs": []
    },
    {
      "cell_type": "code",
      "source": [
        "# create map and display it\n",
        "sanfran_map = folium.Map(location=[latitude, longitude], zoom_start=12)\n",
        "\n",
        "# display the map of San Francisco\n",
        "#sanfran_map"
      ],
      "metadata": {
        "id": "bLTFYT6KUygP"
      },
      "execution_count": 30,
      "outputs": []
    },
    {
      "cell_type": "markdown",
      "source": [
        "Now let's superimpose the locations of the crimes onto the map. The way to do that in **Folium** is to create a *feature group* with its own features and style and then add it to the `sanfran_map`.\n"
      ],
      "metadata": {
        "id": "8dTQnj5_VLJS"
      }
    },
    {
      "cell_type": "code",
      "source": [
        "# instantiate a feature group for the incidents in the dataframe\n",
        "incidents = folium.map.FeatureGroup()\n",
        "\n",
        "# loop through the 100 crimes and add each to the incidents feature group\n",
        "for lat, lng, in zip(df_incidents.Y, df_incidents.X):\n",
        "    incidents.add_child(\n",
        "        folium.vector_layers.CircleMarker(\n",
        "            [lat, lng],\n",
        "            radius=5, # define how big you want the circle markers to be\n",
        "            color='yellow',\n",
        "            fill=True,\n",
        "            fill_color='blue',\n",
        "            fill_opacity=0.6\n",
        "        )\n",
        "    )\n",
        "\n",
        "# add incidents to map\n",
        "#sanfran_map.add_child(incidents)"
      ],
      "metadata": {
        "id": "NY6GdUx1U0Kr"
      },
      "execution_count": 32,
      "outputs": []
    },
    {
      "cell_type": "markdown",
      "source": [
        "You can also add some pop-up text that would get displayed when you hover over a marker. Let's make each marker display the category of the crime when hovered over."
      ],
      "metadata": {
        "id": "PDlGCPwDVagi"
      }
    },
    {
      "cell_type": "code",
      "source": [
        "# instantiate a feature group for the incidents in the dataframe\n",
        "incidents = folium.map.FeatureGroup()\n",
        "\n",
        "# loop through the 100 crimes and add each to the incidents feature group\n",
        "for lat, lng, in zip(df_incidents.Y, df_incidents.X):\n",
        "    incidents.add_child(\n",
        "        folium.vector_layers.CircleMarker(\n",
        "            [lat, lng],\n",
        "            radius=5, # define how big you want the circle markers to be\n",
        "            color='yellow',\n",
        "            fill=True,\n",
        "            fill_color='blue',\n",
        "            fill_opacity=0.6\n",
        "        )\n",
        "    )\n",
        "\n",
        "# add pop-up text to each marker on the map\n",
        "latitudes = list(df_incidents.Y)\n",
        "longitudes = list(df_incidents.X)\n",
        "labels = list(df_incidents.Category)\n",
        "\n",
        "for lat, lng, label in zip(latitudes, longitudes, labels):\n",
        "    folium.Marker([lat, lng], popup=label).add_to(sanfran_map)\n",
        "\n",
        "# add incidents to map\n",
        "#sanfran_map.add_child(incidents)"
      ],
      "metadata": {
        "id": "0SfvQvSaVN1K"
      },
      "execution_count": 34,
      "outputs": []
    },
    {
      "cell_type": "markdown",
      "source": [
        "Isn't this really cool? Now you are able to know what crime category occurred at each marker.\n",
        "\n",
        "If you find the map to be so congested will all these markers, there are two remedies to this problem. The simpler solution is to remove these location markers and just add the text to the circle markers themselves as follows:\n"
      ],
      "metadata": {
        "id": "hjEGrmLMVeVG"
      }
    },
    {
      "cell_type": "code",
      "source": [
        "# create map and display it\n",
        "sanfran_map = folium.Map(location=[latitude, longitude], zoom_start=12)\n",
        "\n",
        "# loop through the 100 crimes and add each to the map\n",
        "for lat, lng, label in zip(df_incidents.Y, df_incidents.X, df_incidents.Category):\n",
        "    folium.vector_layers.CircleMarker(\n",
        "        [lat, lng],\n",
        "        radius=5, # define how big you want the circle markers to be\n",
        "        color='yellow',\n",
        "        fill=True,\n",
        "        popup=label,\n",
        "        fill_color='blue',\n",
        "        fill_opacity=0.6\n",
        "    ).add_to(sanfran_map)\n",
        "\n",
        "# show map\n",
        "#sanfran_map"
      ],
      "metadata": {
        "id": "5E24K32HVSDX"
      },
      "execution_count": 36,
      "outputs": []
    },
    {
      "cell_type": "markdown",
      "source": [
        "The other proper remedy is to group the markers into different clusters. Each cluster is then represented by the number of crimes in each neighborhood. These clusters can be thought of as pockets of San Francisco which you can then analyze separately.\n",
        "\n",
        "To implement this, we start off by instantiating a *MarkerCluster* object and adding all the data points in the dataframe to this object.\n"
      ],
      "metadata": {
        "id": "amz7JzUBVmSy"
      }
    },
    {
      "cell_type": "code",
      "source": [
        "from folium import plugins\n",
        "\n",
        "# let's start again with a clean copy of the map of San Francisco\n",
        "sanfran_map = folium.Map(location = [latitude, longitude], zoom_start = 12)\n",
        "\n",
        "# instantiate a mark cluster object for the incidents in the dataframe\n",
        "incidents = plugins.MarkerCluster().add_to(sanfran_map)\n",
        "\n",
        "# loop through the dataframe and add each data point to the mark cluster\n",
        "for lat, lng, label, in zip(df_incidents.Y, df_incidents.X, df_incidents.Category):\n",
        "    folium.Marker(\n",
        "        location=[lat, lng],\n",
        "        icon=None,\n",
        "        popup=label,\n",
        "    ).add_to(incidents)\n",
        "\n",
        "# display map\n",
        "#sanfran_map"
      ],
      "metadata": {
        "id": "GETIiqCuViVs"
      },
      "execution_count": 41,
      "outputs": []
    },
    {
      "cell_type": "markdown",
      "source": [
        "A `Choropleth` map is a thematic map in which areas are shaded or patterned in proportion to the measurement of the statistical variable being displayed on the map, such as population density or per-capita income. The choropleth map provides an easy way to visualize how a measurement varies across a geographic area, or it shows the level of variability within a region. Below is a `Choropleth` map of the US depicting the population by square mile per state.\n",
        "\n",
        "<!-- <img src=\"https://cf-courses-data.s3.us.cloud-object-storage.appdomain.cloud/IBMDeveloperSkillsNetwork-DV0101EN-SkillsNetwork/labs/Module%205/images/2000_census_population_density_map_by_state.png\" width=\"600\"> -->\n",
        "\n"
      ],
      "metadata": {
        "id": "RyidNz40VvLi"
      }
    },
    {
      "cell_type": "markdown",
      "source": [
        "Now, let's create our own `Choropleth` map of the world depicting immigration from various countries to Canada.\n"
      ],
      "metadata": {
        "id": "6jolut2NWhch"
      }
    },
    {
      "cell_type": "code",
      "source": [
        "df_can = pd.read_csv('https://cf-courses-data.s3.us.cloud-object-storage.appdomain.cloud/IBMDeveloperSkillsNetwork-DV0101EN-SkillsNetwork/Data%20Files/Canada.csv')\n",
        "#df_can = pd.read_csv('Canada.csv')\n",
        "print('Data downloaded and read into a dataframe!')"
      ],
      "metadata": {
        "colab": {
          "base_uri": "https://localhost:8080/"
        },
        "id": "-a0b4lK8Vo1X",
        "outputId": "fc5b2ba0-e597-4834-ef3a-3440a7c34d92"
      },
      "execution_count": 38,
      "outputs": [
        {
          "output_type": "stream",
          "name": "stdout",
          "text": [
            "Data downloaded and read into a dataframe!\n"
          ]
        }
      ]
    },
    {
      "cell_type": "code",
      "source": [
        "df_can.head()"
      ],
      "metadata": {
        "colab": {
          "base_uri": "https://localhost:8080/",
          "height": 342
        },
        "id": "iQK8S6JzW6Au",
        "outputId": "bd8c4302-19cd-450a-d69d-8e7cf8963b27"
      },
      "execution_count": 39,
      "outputs": [
        {
          "output_type": "execute_result",
          "data": {
            "text/plain": [
              "          Country Continent           Region             DevName  1980  1981  \\\n",
              "0     Afghanistan      Asia    Southern Asia  Developing regions    16    39   \n",
              "1         Albania    Europe  Southern Europe   Developed regions     1     0   \n",
              "2         Algeria    Africa  Northern Africa  Developing regions    80    67   \n",
              "3  American Samoa   Oceania        Polynesia  Developing regions     0     1   \n",
              "4         Andorra    Europe  Southern Europe   Developed regions     0     0   \n",
              "\n",
              "   1982  1983  1984  1985  ...  2005  2006  2007  2008  2009  2010  2011  \\\n",
              "0    39    47    71   340  ...  3436  3009  2652  2111  1746  1758  2203   \n",
              "1     0     0     0     0  ...  1223   856   702   560   716   561   539   \n",
              "2    71    69    63    44  ...  3626  4807  3623  4005  5393  4752  4325   \n",
              "3     0     0     0     0  ...     0     1     0     0     0     0     0   \n",
              "4     0     0     0     0  ...     0     1     1     0     0     0     0   \n",
              "\n",
              "   2012  2013  Total  \n",
              "0  2635  2004  58639  \n",
              "1   620   603  15699  \n",
              "2  3774  4331  69439  \n",
              "3     0     0      6  \n",
              "4     1     1     15  \n",
              "\n",
              "[5 rows x 39 columns]"
            ],
            "text/html": [
              "\n",
              "  <div id=\"df-0c622b1d-742f-4c24-b3c0-af1d0f012df5\" class=\"colab-df-container\">\n",
              "    <div>\n",
              "<style scoped>\n",
              "    .dataframe tbody tr th:only-of-type {\n",
              "        vertical-align: middle;\n",
              "    }\n",
              "\n",
              "    .dataframe tbody tr th {\n",
              "        vertical-align: top;\n",
              "    }\n",
              "\n",
              "    .dataframe thead th {\n",
              "        text-align: right;\n",
              "    }\n",
              "</style>\n",
              "<table border=\"1\" class=\"dataframe\">\n",
              "  <thead>\n",
              "    <tr style=\"text-align: right;\">\n",
              "      <th></th>\n",
              "      <th>Country</th>\n",
              "      <th>Continent</th>\n",
              "      <th>Region</th>\n",
              "      <th>DevName</th>\n",
              "      <th>1980</th>\n",
              "      <th>1981</th>\n",
              "      <th>1982</th>\n",
              "      <th>1983</th>\n",
              "      <th>1984</th>\n",
              "      <th>1985</th>\n",
              "      <th>...</th>\n",
              "      <th>2005</th>\n",
              "      <th>2006</th>\n",
              "      <th>2007</th>\n",
              "      <th>2008</th>\n",
              "      <th>2009</th>\n",
              "      <th>2010</th>\n",
              "      <th>2011</th>\n",
              "      <th>2012</th>\n",
              "      <th>2013</th>\n",
              "      <th>Total</th>\n",
              "    </tr>\n",
              "  </thead>\n",
              "  <tbody>\n",
              "    <tr>\n",
              "      <th>0</th>\n",
              "      <td>Afghanistan</td>\n",
              "      <td>Asia</td>\n",
              "      <td>Southern Asia</td>\n",
              "      <td>Developing regions</td>\n",
              "      <td>16</td>\n",
              "      <td>39</td>\n",
              "      <td>39</td>\n",
              "      <td>47</td>\n",
              "      <td>71</td>\n",
              "      <td>340</td>\n",
              "      <td>...</td>\n",
              "      <td>3436</td>\n",
              "      <td>3009</td>\n",
              "      <td>2652</td>\n",
              "      <td>2111</td>\n",
              "      <td>1746</td>\n",
              "      <td>1758</td>\n",
              "      <td>2203</td>\n",
              "      <td>2635</td>\n",
              "      <td>2004</td>\n",
              "      <td>58639</td>\n",
              "    </tr>\n",
              "    <tr>\n",
              "      <th>1</th>\n",
              "      <td>Albania</td>\n",
              "      <td>Europe</td>\n",
              "      <td>Southern Europe</td>\n",
              "      <td>Developed regions</td>\n",
              "      <td>1</td>\n",
              "      <td>0</td>\n",
              "      <td>0</td>\n",
              "      <td>0</td>\n",
              "      <td>0</td>\n",
              "      <td>0</td>\n",
              "      <td>...</td>\n",
              "      <td>1223</td>\n",
              "      <td>856</td>\n",
              "      <td>702</td>\n",
              "      <td>560</td>\n",
              "      <td>716</td>\n",
              "      <td>561</td>\n",
              "      <td>539</td>\n",
              "      <td>620</td>\n",
              "      <td>603</td>\n",
              "      <td>15699</td>\n",
              "    </tr>\n",
              "    <tr>\n",
              "      <th>2</th>\n",
              "      <td>Algeria</td>\n",
              "      <td>Africa</td>\n",
              "      <td>Northern Africa</td>\n",
              "      <td>Developing regions</td>\n",
              "      <td>80</td>\n",
              "      <td>67</td>\n",
              "      <td>71</td>\n",
              "      <td>69</td>\n",
              "      <td>63</td>\n",
              "      <td>44</td>\n",
              "      <td>...</td>\n",
              "      <td>3626</td>\n",
              "      <td>4807</td>\n",
              "      <td>3623</td>\n",
              "      <td>4005</td>\n",
              "      <td>5393</td>\n",
              "      <td>4752</td>\n",
              "      <td>4325</td>\n",
              "      <td>3774</td>\n",
              "      <td>4331</td>\n",
              "      <td>69439</td>\n",
              "    </tr>\n",
              "    <tr>\n",
              "      <th>3</th>\n",
              "      <td>American Samoa</td>\n",
              "      <td>Oceania</td>\n",
              "      <td>Polynesia</td>\n",
              "      <td>Developing regions</td>\n",
              "      <td>0</td>\n",
              "      <td>1</td>\n",
              "      <td>0</td>\n",
              "      <td>0</td>\n",
              "      <td>0</td>\n",
              "      <td>0</td>\n",
              "      <td>...</td>\n",
              "      <td>0</td>\n",
              "      <td>1</td>\n",
              "      <td>0</td>\n",
              "      <td>0</td>\n",
              "      <td>0</td>\n",
              "      <td>0</td>\n",
              "      <td>0</td>\n",
              "      <td>0</td>\n",
              "      <td>0</td>\n",
              "      <td>6</td>\n",
              "    </tr>\n",
              "    <tr>\n",
              "      <th>4</th>\n",
              "      <td>Andorra</td>\n",
              "      <td>Europe</td>\n",
              "      <td>Southern Europe</td>\n",
              "      <td>Developed regions</td>\n",
              "      <td>0</td>\n",
              "      <td>0</td>\n",
              "      <td>0</td>\n",
              "      <td>0</td>\n",
              "      <td>0</td>\n",
              "      <td>0</td>\n",
              "      <td>...</td>\n",
              "      <td>0</td>\n",
              "      <td>1</td>\n",
              "      <td>1</td>\n",
              "      <td>0</td>\n",
              "      <td>0</td>\n",
              "      <td>0</td>\n",
              "      <td>0</td>\n",
              "      <td>1</td>\n",
              "      <td>1</td>\n",
              "      <td>15</td>\n",
              "    </tr>\n",
              "  </tbody>\n",
              "</table>\n",
              "<p>5 rows × 39 columns</p>\n",
              "</div>\n",
              "    <div class=\"colab-df-buttons\">\n",
              "\n",
              "  <div class=\"colab-df-container\">\n",
              "    <button class=\"colab-df-convert\" onclick=\"convertToInteractive('df-0c622b1d-742f-4c24-b3c0-af1d0f012df5')\"\n",
              "            title=\"Convert this dataframe to an interactive table.\"\n",
              "            style=\"display:none;\">\n",
              "\n",
              "  <svg xmlns=\"http://www.w3.org/2000/svg\" height=\"24px\" viewBox=\"0 -960 960 960\">\n",
              "    <path d=\"M120-120v-720h720v720H120Zm60-500h600v-160H180v160Zm220 220h160v-160H400v160Zm0 220h160v-160H400v160ZM180-400h160v-160H180v160Zm440 0h160v-160H620v160ZM180-180h160v-160H180v160Zm440 0h160v-160H620v160Z\"/>\n",
              "  </svg>\n",
              "    </button>\n",
              "\n",
              "  <style>\n",
              "    .colab-df-container {\n",
              "      display:flex;\n",
              "      gap: 12px;\n",
              "    }\n",
              "\n",
              "    .colab-df-convert {\n",
              "      background-color: #E8F0FE;\n",
              "      border: none;\n",
              "      border-radius: 50%;\n",
              "      cursor: pointer;\n",
              "      display: none;\n",
              "      fill: #1967D2;\n",
              "      height: 32px;\n",
              "      padding: 0 0 0 0;\n",
              "      width: 32px;\n",
              "    }\n",
              "\n",
              "    .colab-df-convert:hover {\n",
              "      background-color: #E2EBFA;\n",
              "      box-shadow: 0px 1px 2px rgba(60, 64, 67, 0.3), 0px 1px 3px 1px rgba(60, 64, 67, 0.15);\n",
              "      fill: #174EA6;\n",
              "    }\n",
              "\n",
              "    .colab-df-buttons div {\n",
              "      margin-bottom: 4px;\n",
              "    }\n",
              "\n",
              "    [theme=dark] .colab-df-convert {\n",
              "      background-color: #3B4455;\n",
              "      fill: #D2E3FC;\n",
              "    }\n",
              "\n",
              "    [theme=dark] .colab-df-convert:hover {\n",
              "      background-color: #434B5C;\n",
              "      box-shadow: 0px 1px 3px 1px rgba(0, 0, 0, 0.15);\n",
              "      filter: drop-shadow(0px 1px 2px rgba(0, 0, 0, 0.3));\n",
              "      fill: #FFFFFF;\n",
              "    }\n",
              "  </style>\n",
              "\n",
              "    <script>\n",
              "      const buttonEl =\n",
              "        document.querySelector('#df-0c622b1d-742f-4c24-b3c0-af1d0f012df5 button.colab-df-convert');\n",
              "      buttonEl.style.display =\n",
              "        google.colab.kernel.accessAllowed ? 'block' : 'none';\n",
              "\n",
              "      async function convertToInteractive(key) {\n",
              "        const element = document.querySelector('#df-0c622b1d-742f-4c24-b3c0-af1d0f012df5');\n",
              "        const dataTable =\n",
              "          await google.colab.kernel.invokeFunction('convertToInteractive',\n",
              "                                                    [key], {});\n",
              "        if (!dataTable) return;\n",
              "\n",
              "        const docLinkHtml = 'Like what you see? Visit the ' +\n",
              "          '<a target=\"_blank\" href=https://colab.research.google.com/notebooks/data_table.ipynb>data table notebook</a>'\n",
              "          + ' to learn more about interactive tables.';\n",
              "        element.innerHTML = '';\n",
              "        dataTable['output_type'] = 'display_data';\n",
              "        await google.colab.output.renderOutput(dataTable, element);\n",
              "        const docLink = document.createElement('div');\n",
              "        docLink.innerHTML = docLinkHtml;\n",
              "        element.appendChild(docLink);\n",
              "      }\n",
              "    </script>\n",
              "  </div>\n",
              "\n",
              "\n",
              "<div id=\"df-414d6305-65cf-4a29-b97a-09c791899425\">\n",
              "  <button class=\"colab-df-quickchart\" onclick=\"quickchart('df-414d6305-65cf-4a29-b97a-09c791899425')\"\n",
              "            title=\"Suggest charts\"\n",
              "            style=\"display:none;\">\n",
              "\n",
              "<svg xmlns=\"http://www.w3.org/2000/svg\" height=\"24px\"viewBox=\"0 0 24 24\"\n",
              "     width=\"24px\">\n",
              "    <g>\n",
              "        <path d=\"M19 3H5c-1.1 0-2 .9-2 2v14c0 1.1.9 2 2 2h14c1.1 0 2-.9 2-2V5c0-1.1-.9-2-2-2zM9 17H7v-7h2v7zm4 0h-2V7h2v10zm4 0h-2v-4h2v4z\"/>\n",
              "    </g>\n",
              "</svg>\n",
              "  </button>\n",
              "\n",
              "<style>\n",
              "  .colab-df-quickchart {\n",
              "      --bg-color: #E8F0FE;\n",
              "      --fill-color: #1967D2;\n",
              "      --hover-bg-color: #E2EBFA;\n",
              "      --hover-fill-color: #174EA6;\n",
              "      --disabled-fill-color: #AAA;\n",
              "      --disabled-bg-color: #DDD;\n",
              "  }\n",
              "\n",
              "  [theme=dark] .colab-df-quickchart {\n",
              "      --bg-color: #3B4455;\n",
              "      --fill-color: #D2E3FC;\n",
              "      --hover-bg-color: #434B5C;\n",
              "      --hover-fill-color: #FFFFFF;\n",
              "      --disabled-bg-color: #3B4455;\n",
              "      --disabled-fill-color: #666;\n",
              "  }\n",
              "\n",
              "  .colab-df-quickchart {\n",
              "    background-color: var(--bg-color);\n",
              "    border: none;\n",
              "    border-radius: 50%;\n",
              "    cursor: pointer;\n",
              "    display: none;\n",
              "    fill: var(--fill-color);\n",
              "    height: 32px;\n",
              "    padding: 0;\n",
              "    width: 32px;\n",
              "  }\n",
              "\n",
              "  .colab-df-quickchart:hover {\n",
              "    background-color: var(--hover-bg-color);\n",
              "    box-shadow: 0 1px 2px rgba(60, 64, 67, 0.3), 0 1px 3px 1px rgba(60, 64, 67, 0.15);\n",
              "    fill: var(--button-hover-fill-color);\n",
              "  }\n",
              "\n",
              "  .colab-df-quickchart-complete:disabled,\n",
              "  .colab-df-quickchart-complete:disabled:hover {\n",
              "    background-color: var(--disabled-bg-color);\n",
              "    fill: var(--disabled-fill-color);\n",
              "    box-shadow: none;\n",
              "  }\n",
              "\n",
              "  .colab-df-spinner {\n",
              "    border: 2px solid var(--fill-color);\n",
              "    border-color: transparent;\n",
              "    border-bottom-color: var(--fill-color);\n",
              "    animation:\n",
              "      spin 1s steps(1) infinite;\n",
              "  }\n",
              "\n",
              "  @keyframes spin {\n",
              "    0% {\n",
              "      border-color: transparent;\n",
              "      border-bottom-color: var(--fill-color);\n",
              "      border-left-color: var(--fill-color);\n",
              "    }\n",
              "    20% {\n",
              "      border-color: transparent;\n",
              "      border-left-color: var(--fill-color);\n",
              "      border-top-color: var(--fill-color);\n",
              "    }\n",
              "    30% {\n",
              "      border-color: transparent;\n",
              "      border-left-color: var(--fill-color);\n",
              "      border-top-color: var(--fill-color);\n",
              "      border-right-color: var(--fill-color);\n",
              "    }\n",
              "    40% {\n",
              "      border-color: transparent;\n",
              "      border-right-color: var(--fill-color);\n",
              "      border-top-color: var(--fill-color);\n",
              "    }\n",
              "    60% {\n",
              "      border-color: transparent;\n",
              "      border-right-color: var(--fill-color);\n",
              "    }\n",
              "    80% {\n",
              "      border-color: transparent;\n",
              "      border-right-color: var(--fill-color);\n",
              "      border-bottom-color: var(--fill-color);\n",
              "    }\n",
              "    90% {\n",
              "      border-color: transparent;\n",
              "      border-bottom-color: var(--fill-color);\n",
              "    }\n",
              "  }\n",
              "</style>\n",
              "\n",
              "  <script>\n",
              "    async function quickchart(key) {\n",
              "      const quickchartButtonEl =\n",
              "        document.querySelector('#' + key + ' button');\n",
              "      quickchartButtonEl.disabled = true;  // To prevent multiple clicks.\n",
              "      quickchartButtonEl.classList.add('colab-df-spinner');\n",
              "      try {\n",
              "        const charts = await google.colab.kernel.invokeFunction(\n",
              "            'suggestCharts', [key], {});\n",
              "      } catch (error) {\n",
              "        console.error('Error during call to suggestCharts:', error);\n",
              "      }\n",
              "      quickchartButtonEl.classList.remove('colab-df-spinner');\n",
              "      quickchartButtonEl.classList.add('colab-df-quickchart-complete');\n",
              "    }\n",
              "    (() => {\n",
              "      let quickchartButtonEl =\n",
              "        document.querySelector('#df-414d6305-65cf-4a29-b97a-09c791899425 button');\n",
              "      quickchartButtonEl.style.display =\n",
              "        google.colab.kernel.accessAllowed ? 'block' : 'none';\n",
              "    })();\n",
              "  </script>\n",
              "</div>\n",
              "\n",
              "    </div>\n",
              "  </div>\n"
            ],
            "application/vnd.google.colaboratory.intrinsic+json": {
              "type": "dataframe",
              "variable_name": "df_can"
            }
          },
          "metadata": {},
          "execution_count": 39
        }
      ]
    },
    {
      "cell_type": "code",
      "source": [
        "# print the dimensions of the dataframe\n",
        "print(df_can.shape)"
      ],
      "metadata": {
        "colab": {
          "base_uri": "https://localhost:8080/"
        },
        "id": "p5boqEn-Wkn-",
        "outputId": "047c1d5c-f64d-4433-e35a-6e1a929e076a"
      },
      "execution_count": 40,
      "outputs": [
        {
          "output_type": "stream",
          "name": "stdout",
          "text": [
            "(195, 39)\n"
          ]
        }
      ]
    },
    {
      "cell_type": "markdown",
      "source": [
        "In order to create a Choropleth map, we need a GeoJSON file that defines the areas/boundaries of the state, county, or country that we are interested in. In our case, since we are endeavoring to create a world map, we want a GeoJSON that defines the boundaries of all world countries. For your convenience, we will be providing you with this file, so let's go ahead and download it. Let's name it world_countries.json."
      ],
      "metadata": {
        "id": "MYp9_Z8xXpC6"
      }
    },
    {
      "cell_type": "code",
      "source": [
        "# download countries geojson file\n",
        "! wget --quiet https://cf-courses-data.s3.us.cloud-object-storage.appdomain.cloud/IBMDeveloperSkillsNetwork-DV0101EN-SkillsNetwork/Data%20Files/world_countries.json\n",
        "\n",
        "print('GeoJSON file downloaded!')"
      ],
      "metadata": {
        "colab": {
          "base_uri": "https://localhost:8080/"
        },
        "id": "4iAwW2g1W-VP",
        "outputId": "e1c65a37-04ff-4a7a-c883-ba62c0c46415"
      },
      "execution_count": 42,
      "outputs": [
        {
          "output_type": "stream",
          "name": "stdout",
          "text": [
            "GeoJSON file downloaded!\n"
          ]
        }
      ]
    },
    {
      "cell_type": "markdown",
      "source": [
        "Now that we have the GeoJSON file, let's create a world map, centered around **[0, 0]** *latitude* and *longitude* values, with an initisal zoom level of 2.\n"
      ],
      "metadata": {
        "id": "_shSVmjEXmxc"
      }
    },
    {
      "cell_type": "code",
      "source": [
        "world_geo = r'https://cf-courses-data.s3.us.cloud-object-storage.appdomain.cloud/IBMDeveloperSkillsNetwork-DV0101EN-SkillsNetwork/Data%20Files/world_countries.json' # geojson file\n",
        "#world_geo = r'world_countries.json' # geojson file\n",
        "# create a plain world map\n",
        "world_map = folium.Map(location=[0, 0], zoom_start=2)"
      ],
      "metadata": {
        "id": "e1JDd_JWXe-1"
      },
      "execution_count": 44,
      "outputs": []
    },
    {
      "cell_type": "markdown",
      "source": [
        "And now to create a `Choropleth` map, we will use the *choropleth* method with the following main parameters:\n",
        "\n",
        "1. `geo_data`, which is the GeoJSON file.\n",
        "2. `data`, which is the dataframe containing the data.\n",
        "3. `columns`, which represents the columns in the dataframe that will be used to create the `Choropleth` map.\n",
        "4. `key_on`, which is the key or variable in the GeoJSON file that contains the name of the variable of interest. To determine that, you will need to open the GeoJSON file using any text editor and note the name of the key or variable that contains the name of the countries, since the countries are our variable of interest. In this case, **name** is the key in the GeoJSON file that contains the name of the countries. Note that this key is case_sensitive, so you need to pass exactly as it exists in the GeoJSON file.\n"
      ],
      "metadata": {
        "id": "QlBCm6R4YSWr"
      }
    },
    {
      "cell_type": "code",
      "source": [
        "# generate choropleth map using the total immigration of each country to Canada from 1980 to 2013\n",
        "world_map.choropleth(\n",
        "    geo_data=world_geo,\n",
        "    data=df_can,\n",
        "    columns=['Country', 'Total'],\n",
        "    key_on='feature.properties.name',\n",
        "    fill_color='YlOrRd',\n",
        "    fill_opacity=0.7,\n",
        "    line_opacity=0.2,\n",
        "    legend_name='Immigration to Canada',\n",
        "    reset=True\n",
        ")\n",
        "\n",
        "# display map\n",
        "#world_map"
      ],
      "metadata": {
        "colab": {
          "base_uri": "https://localhost:8080/"
        },
        "id": "3qYxQTu4Yo-I",
        "outputId": "5606cce7-88d1-488e-c978-3f2092e45141"
      },
      "execution_count": 46,
      "outputs": [
        {
          "output_type": "stream",
          "name": "stderr",
          "text": [
            "/usr/local/lib/python3.10/dist-packages/folium/folium.py:465: FutureWarning: The choropleth  method has been deprecated. Instead use the new Choropleth class, which has the same arguments. See the example notebook 'GeoJSON_and_choropleth' for how to do this.\n",
            "  warnings.warn(\n"
          ]
        }
      ]
    },
    {
      "cell_type": "markdown",
      "source": [
        "As per our `Choropleth` map legend, the darker the color of a country and the closer the color to red, the higher the number of immigrants from that country. Accordingly, the highest immigration over the course of 33 years (from 1980 to 2013) was from China, India, and the Philippines, followed by Poland, Pakistan, and interestingly, the US."
      ],
      "metadata": {
        "id": "VoJZjIBXYxi3"
      }
    },
    {
      "cell_type": "code",
      "source": [],
      "metadata": {
        "id": "rThbKLtdYrXX"
      },
      "execution_count": null,
      "outputs": []
    }
  ]
}