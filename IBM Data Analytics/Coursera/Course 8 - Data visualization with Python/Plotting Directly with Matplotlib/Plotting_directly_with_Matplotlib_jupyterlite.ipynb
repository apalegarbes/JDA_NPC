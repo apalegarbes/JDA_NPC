{
  "metadata": {
    "kernelspec": {
      "name": "python",
      "display_name": "Python (Pyodide)",
      "language": "python"
    },
    "language_info": {
      "codemirror_mode": {
        "name": "python",
        "version": 3
      },
      "file_extension": ".py",
      "mimetype": "text/x-python",
      "name": "python",
      "nbconvert_exporter": "python",
      "pygments_lexer": "ipython3",
      "version": "3.8"
    },
    "colab": {
      "provenance": []
    }
  },
  "nbformat_minor": 0,
  "nbformat": 4,
  "cells": [
    {
      "cell_type": "markdown",
      "source": [
        "<center>\n",
        "    <img src=\"https://cf-courses-data.s3.us.cloud-object-storage.appdomain.cloud/IBMDeveloperSkillsNetwork-DV0101EN-SkillsNetwork/labs/Module%202/images/IDSNlogo.png\" width=\"300\" alt=\"cognitiveclass.ai logo\">\n",
        "</center>\n",
        "\n",
        "# Plotting directly with Matplotlib\n",
        "\n",
        "Estimated time needed: **45** minutes\n",
        "\n",
        "## Objectives\n",
        "\n",
        "After completing this lab you will be able to:\n",
        "\n",
        "*   Create and customize basic plots directly with Matplotlib on dataset\n"
      ],
      "metadata": {
        "id": "eCWm4LDXA9MY"
      }
    },
    {
      "cell_type": "markdown",
      "source": [
        "## Table of Contents\n",
        "\n",
        "<div class=\"alert alert-block alert-info\" style=\"margin-top: 20px\">\n",
        "\n",
        "1.  [Import Libraries](#0)<br>\n",
        "2.  [Fetching Data](#1) <br>\n",
        "3.  [Line Plot](#6) <br>\n",
        "4.  [Scatter Plot](#8) <br>\n",
        "5.  [Bar Plot](#10) <br>\n",
        "6.  [Histogram](#12) <br>\n",
        "7.  [Pie](#14) <br>\n",
        "8.  [Subplotting](#16) <br>\n",
        "</div>\n"
      ],
      "metadata": {
        "id": "CRsmJKhvA9Ma"
      }
    },
    {
      "cell_type": "markdown",
      "source": [
        "# Import Libraries<a id=\"0\"></a>\n"
      ],
      "metadata": {
        "id": "ZwjOtKVpA9Ma"
      }
    },
    {
      "cell_type": "markdown",
      "source": [
        "Import the `matplotlib` library.\n"
      ],
      "metadata": {
        "id": "uBMAD42OA9Mb"
      }
    },
    {
      "cell_type": "code",
      "source": [
        "#Import Primary Modules:\n",
        "import numpy as np  # useful for many scientific computing in Python\n",
        "import pandas as pd # primary data structure library\n",
        "\n",
        "# use the inline backend to generate the plots within the browser\n",
        "%matplotlib inline\n",
        "\n",
        "import matplotlib as mpl\n",
        "import matplotlib.pyplot as plt\n",
        "\n",
        "# check for latest version of Matplotlib\n",
        "print('Matplotlib version: ', mpl.__version__) # >= 2.0.0"
      ],
      "metadata": {
        "trusted": true,
        "colab": {
          "base_uri": "https://localhost:8080/"
        },
        "id": "vEXCdPNaA9Mb",
        "outputId": "18d6eb6b-ce1b-4ae2-a5fc-906b1bb80b2b"
      },
      "outputs": [
        {
          "output_type": "stream",
          "name": "stdout",
          "text": [
            "Matplotlib version:  3.7.1\n"
          ]
        }
      ],
      "execution_count": 1
    },
    {
      "cell_type": "markdown",
      "source": [
        "# Fetching Data<a id=\"1\"></a>\n",
        "\n",
        "Dataset: Immigration to Canada from 1980 to 2013 - [International migration flows to and from selected countries - The 2015 revision](https://www.un.org/development/desa/pd/data/international-migration-flows) from United Nation's website.<br>\n",
        "In this lab, we will focus on the Canadian Immigration data and use the *already cleaned dataset* and can be fetched from <a href=\"https://cf-courses-data.s3.us.cloud-object-storage.appdomain.cloud/IBMDeveloperSkillsNetwork-DV0101EN-SkillsNetwork/Data%20Files/Canada.csv\">here</a>.\n",
        "<br><br>\n",
        "You can refer to the lab on data pre-processing wherein this dataset is cleaned for a quick refresh your Panads skill [Data pre-processing with Pandas](https://cf-courses-data.s3.us.cloud-object-storage.appdomain.cloud/IBMDeveloperSkillsNetwork-DV0101EN-SkillsNetwork/labs/june2023_updates/Module%201/DV0101EN-Exercise-Dataset-Preprocessing-Exploring-with-Pandas.ipynb)\n"
      ],
      "metadata": {
        "id": "KkVlu3nhA9Md"
      }
    },
    {
      "cell_type": "code",
      "source": [
        "#from js import fetch\n",
        "import io\n",
        "\n",
        "URL = \"https://cf-courses-data.s3.us.cloud-object-storage.appdomain.cloud/IBMDeveloperSkillsNetwork-DV0101EN-SkillsNetwork/Data%20Files/Canada.csv\"\n",
        "#resp = await fetch(URL)\n",
        "#text = io.BytesIO((await resp.arrayBuffer()).to_py())\n",
        "df_can = pd.read_csv(URL)\n",
        "print('Data read into a pandas dataframe!')"
      ],
      "metadata": {
        "trusted": true,
        "colab": {
          "base_uri": "https://localhost:8080/"
        },
        "id": "HOnJ4iIcA9Md",
        "outputId": "b301b49c-b2ba-46fe-eeb9-0a59c30786b0"
      },
      "outputs": [
        {
          "output_type": "stream",
          "name": "stdout",
          "text": [
            "Data read into a pandas dataframe!\n"
          ]
        }
      ],
      "execution_count": 5
    },
    {
      "cell_type": "markdown",
      "source": [
        "Let's take a look at the first five items in our dataset.\n"
      ],
      "metadata": {
        "id": "fB-pb7FJA9Me"
      }
    },
    {
      "cell_type": "code",
      "source": [
        "df_can.head()"
      ],
      "metadata": {
        "trusted": true,
        "colab": {
          "base_uri": "https://localhost:8080/",
          "height": 342
        },
        "id": "EPBvM2bAA9Me",
        "outputId": "bc5b9f7d-10e4-453d-892f-fa7bf851bcfb"
      },
      "outputs": [
        {
          "output_type": "execute_result",
          "data": {
            "text/plain": [
              "          Country Continent           Region             DevName  1980  1981  \\\n",
              "0     Afghanistan      Asia    Southern Asia  Developing regions    16    39   \n",
              "1         Albania    Europe  Southern Europe   Developed regions     1     0   \n",
              "2         Algeria    Africa  Northern Africa  Developing regions    80    67   \n",
              "3  American Samoa   Oceania        Polynesia  Developing regions     0     1   \n",
              "4         Andorra    Europe  Southern Europe   Developed regions     0     0   \n",
              "\n",
              "   1982  1983  1984  1985  ...  2005  2006  2007  2008  2009  2010  2011  \\\n",
              "0    39    47    71   340  ...  3436  3009  2652  2111  1746  1758  2203   \n",
              "1     0     0     0     0  ...  1223   856   702   560   716   561   539   \n",
              "2    71    69    63    44  ...  3626  4807  3623  4005  5393  4752  4325   \n",
              "3     0     0     0     0  ...     0     1     0     0     0     0     0   \n",
              "4     0     0     0     0  ...     0     1     1     0     0     0     0   \n",
              "\n",
              "   2012  2013  Total  \n",
              "0  2635  2004  58639  \n",
              "1   620   603  15699  \n",
              "2  3774  4331  69439  \n",
              "3     0     0      6  \n",
              "4     1     1     15  \n",
              "\n",
              "[5 rows x 39 columns]"
            ],
            "text/html": [
              "\n",
              "  <div id=\"df-17dd0a2e-3be2-4cf4-b3ab-98f029c0117b\" class=\"colab-df-container\">\n",
              "    <div>\n",
              "<style scoped>\n",
              "    .dataframe tbody tr th:only-of-type {\n",
              "        vertical-align: middle;\n",
              "    }\n",
              "\n",
              "    .dataframe tbody tr th {\n",
              "        vertical-align: top;\n",
              "    }\n",
              "\n",
              "    .dataframe thead th {\n",
              "        text-align: right;\n",
              "    }\n",
              "</style>\n",
              "<table border=\"1\" class=\"dataframe\">\n",
              "  <thead>\n",
              "    <tr style=\"text-align: right;\">\n",
              "      <th></th>\n",
              "      <th>Country</th>\n",
              "      <th>Continent</th>\n",
              "      <th>Region</th>\n",
              "      <th>DevName</th>\n",
              "      <th>1980</th>\n",
              "      <th>1981</th>\n",
              "      <th>1982</th>\n",
              "      <th>1983</th>\n",
              "      <th>1984</th>\n",
              "      <th>1985</th>\n",
              "      <th>...</th>\n",
              "      <th>2005</th>\n",
              "      <th>2006</th>\n",
              "      <th>2007</th>\n",
              "      <th>2008</th>\n",
              "      <th>2009</th>\n",
              "      <th>2010</th>\n",
              "      <th>2011</th>\n",
              "      <th>2012</th>\n",
              "      <th>2013</th>\n",
              "      <th>Total</th>\n",
              "    </tr>\n",
              "  </thead>\n",
              "  <tbody>\n",
              "    <tr>\n",
              "      <th>0</th>\n",
              "      <td>Afghanistan</td>\n",
              "      <td>Asia</td>\n",
              "      <td>Southern Asia</td>\n",
              "      <td>Developing regions</td>\n",
              "      <td>16</td>\n",
              "      <td>39</td>\n",
              "      <td>39</td>\n",
              "      <td>47</td>\n",
              "      <td>71</td>\n",
              "      <td>340</td>\n",
              "      <td>...</td>\n",
              "      <td>3436</td>\n",
              "      <td>3009</td>\n",
              "      <td>2652</td>\n",
              "      <td>2111</td>\n",
              "      <td>1746</td>\n",
              "      <td>1758</td>\n",
              "      <td>2203</td>\n",
              "      <td>2635</td>\n",
              "      <td>2004</td>\n",
              "      <td>58639</td>\n",
              "    </tr>\n",
              "    <tr>\n",
              "      <th>1</th>\n",
              "      <td>Albania</td>\n",
              "      <td>Europe</td>\n",
              "      <td>Southern Europe</td>\n",
              "      <td>Developed regions</td>\n",
              "      <td>1</td>\n",
              "      <td>0</td>\n",
              "      <td>0</td>\n",
              "      <td>0</td>\n",
              "      <td>0</td>\n",
              "      <td>0</td>\n",
              "      <td>...</td>\n",
              "      <td>1223</td>\n",
              "      <td>856</td>\n",
              "      <td>702</td>\n",
              "      <td>560</td>\n",
              "      <td>716</td>\n",
              "      <td>561</td>\n",
              "      <td>539</td>\n",
              "      <td>620</td>\n",
              "      <td>603</td>\n",
              "      <td>15699</td>\n",
              "    </tr>\n",
              "    <tr>\n",
              "      <th>2</th>\n",
              "      <td>Algeria</td>\n",
              "      <td>Africa</td>\n",
              "      <td>Northern Africa</td>\n",
              "      <td>Developing regions</td>\n",
              "      <td>80</td>\n",
              "      <td>67</td>\n",
              "      <td>71</td>\n",
              "      <td>69</td>\n",
              "      <td>63</td>\n",
              "      <td>44</td>\n",
              "      <td>...</td>\n",
              "      <td>3626</td>\n",
              "      <td>4807</td>\n",
              "      <td>3623</td>\n",
              "      <td>4005</td>\n",
              "      <td>5393</td>\n",
              "      <td>4752</td>\n",
              "      <td>4325</td>\n",
              "      <td>3774</td>\n",
              "      <td>4331</td>\n",
              "      <td>69439</td>\n",
              "    </tr>\n",
              "    <tr>\n",
              "      <th>3</th>\n",
              "      <td>American Samoa</td>\n",
              "      <td>Oceania</td>\n",
              "      <td>Polynesia</td>\n",
              "      <td>Developing regions</td>\n",
              "      <td>0</td>\n",
              "      <td>1</td>\n",
              "      <td>0</td>\n",
              "      <td>0</td>\n",
              "      <td>0</td>\n",
              "      <td>0</td>\n",
              "      <td>...</td>\n",
              "      <td>0</td>\n",
              "      <td>1</td>\n",
              "      <td>0</td>\n",
              "      <td>0</td>\n",
              "      <td>0</td>\n",
              "      <td>0</td>\n",
              "      <td>0</td>\n",
              "      <td>0</td>\n",
              "      <td>0</td>\n",
              "      <td>6</td>\n",
              "    </tr>\n",
              "    <tr>\n",
              "      <th>4</th>\n",
              "      <td>Andorra</td>\n",
              "      <td>Europe</td>\n",
              "      <td>Southern Europe</td>\n",
              "      <td>Developed regions</td>\n",
              "      <td>0</td>\n",
              "      <td>0</td>\n",
              "      <td>0</td>\n",
              "      <td>0</td>\n",
              "      <td>0</td>\n",
              "      <td>0</td>\n",
              "      <td>...</td>\n",
              "      <td>0</td>\n",
              "      <td>1</td>\n",
              "      <td>1</td>\n",
              "      <td>0</td>\n",
              "      <td>0</td>\n",
              "      <td>0</td>\n",
              "      <td>0</td>\n",
              "      <td>1</td>\n",
              "      <td>1</td>\n",
              "      <td>15</td>\n",
              "    </tr>\n",
              "  </tbody>\n",
              "</table>\n",
              "<p>5 rows × 39 columns</p>\n",
              "</div>\n",
              "    <div class=\"colab-df-buttons\">\n",
              "\n",
              "  <div class=\"colab-df-container\">\n",
              "    <button class=\"colab-df-convert\" onclick=\"convertToInteractive('df-17dd0a2e-3be2-4cf4-b3ab-98f029c0117b')\"\n",
              "            title=\"Convert this dataframe to an interactive table.\"\n",
              "            style=\"display:none;\">\n",
              "\n",
              "  <svg xmlns=\"http://www.w3.org/2000/svg\" height=\"24px\" viewBox=\"0 -960 960 960\">\n",
              "    <path d=\"M120-120v-720h720v720H120Zm60-500h600v-160H180v160Zm220 220h160v-160H400v160Zm0 220h160v-160H400v160ZM180-400h160v-160H180v160Zm440 0h160v-160H620v160ZM180-180h160v-160H180v160Zm440 0h160v-160H620v160Z\"/>\n",
              "  </svg>\n",
              "    </button>\n",
              "\n",
              "  <style>\n",
              "    .colab-df-container {\n",
              "      display:flex;\n",
              "      gap: 12px;\n",
              "    }\n",
              "\n",
              "    .colab-df-convert {\n",
              "      background-color: #E8F0FE;\n",
              "      border: none;\n",
              "      border-radius: 50%;\n",
              "      cursor: pointer;\n",
              "      display: none;\n",
              "      fill: #1967D2;\n",
              "      height: 32px;\n",
              "      padding: 0 0 0 0;\n",
              "      width: 32px;\n",
              "    }\n",
              "\n",
              "    .colab-df-convert:hover {\n",
              "      background-color: #E2EBFA;\n",
              "      box-shadow: 0px 1px 2px rgba(60, 64, 67, 0.3), 0px 1px 3px 1px rgba(60, 64, 67, 0.15);\n",
              "      fill: #174EA6;\n",
              "    }\n",
              "\n",
              "    .colab-df-buttons div {\n",
              "      margin-bottom: 4px;\n",
              "    }\n",
              "\n",
              "    [theme=dark] .colab-df-convert {\n",
              "      background-color: #3B4455;\n",
              "      fill: #D2E3FC;\n",
              "    }\n",
              "\n",
              "    [theme=dark] .colab-df-convert:hover {\n",
              "      background-color: #434B5C;\n",
              "      box-shadow: 0px 1px 3px 1px rgba(0, 0, 0, 0.15);\n",
              "      filter: drop-shadow(0px 1px 2px rgba(0, 0, 0, 0.3));\n",
              "      fill: #FFFFFF;\n",
              "    }\n",
              "  </style>\n",
              "\n",
              "    <script>\n",
              "      const buttonEl =\n",
              "        document.querySelector('#df-17dd0a2e-3be2-4cf4-b3ab-98f029c0117b button.colab-df-convert');\n",
              "      buttonEl.style.display =\n",
              "        google.colab.kernel.accessAllowed ? 'block' : 'none';\n",
              "\n",
              "      async function convertToInteractive(key) {\n",
              "        const element = document.querySelector('#df-17dd0a2e-3be2-4cf4-b3ab-98f029c0117b');\n",
              "        const dataTable =\n",
              "          await google.colab.kernel.invokeFunction('convertToInteractive',\n",
              "                                                    [key], {});\n",
              "        if (!dataTable) return;\n",
              "\n",
              "        const docLinkHtml = 'Like what you see? Visit the ' +\n",
              "          '<a target=\"_blank\" href=https://colab.research.google.com/notebooks/data_table.ipynb>data table notebook</a>'\n",
              "          + ' to learn more about interactive tables.';\n",
              "        element.innerHTML = '';\n",
              "        dataTable['output_type'] = 'display_data';\n",
              "        await google.colab.output.renderOutput(dataTable, element);\n",
              "        const docLink = document.createElement('div');\n",
              "        docLink.innerHTML = docLinkHtml;\n",
              "        element.appendChild(docLink);\n",
              "      }\n",
              "    </script>\n",
              "  </div>\n",
              "\n",
              "\n",
              "<div id=\"df-16155886-7d49-4e2b-8a25-31a5ae081801\">\n",
              "  <button class=\"colab-df-quickchart\" onclick=\"quickchart('df-16155886-7d49-4e2b-8a25-31a5ae081801')\"\n",
              "            title=\"Suggest charts\"\n",
              "            style=\"display:none;\">\n",
              "\n",
              "<svg xmlns=\"http://www.w3.org/2000/svg\" height=\"24px\"viewBox=\"0 0 24 24\"\n",
              "     width=\"24px\">\n",
              "    <g>\n",
              "        <path d=\"M19 3H5c-1.1 0-2 .9-2 2v14c0 1.1.9 2 2 2h14c1.1 0 2-.9 2-2V5c0-1.1-.9-2-2-2zM9 17H7v-7h2v7zm4 0h-2V7h2v10zm4 0h-2v-4h2v4z\"/>\n",
              "    </g>\n",
              "</svg>\n",
              "  </button>\n",
              "\n",
              "<style>\n",
              "  .colab-df-quickchart {\n",
              "      --bg-color: #E8F0FE;\n",
              "      --fill-color: #1967D2;\n",
              "      --hover-bg-color: #E2EBFA;\n",
              "      --hover-fill-color: #174EA6;\n",
              "      --disabled-fill-color: #AAA;\n",
              "      --disabled-bg-color: #DDD;\n",
              "  }\n",
              "\n",
              "  [theme=dark] .colab-df-quickchart {\n",
              "      --bg-color: #3B4455;\n",
              "      --fill-color: #D2E3FC;\n",
              "      --hover-bg-color: #434B5C;\n",
              "      --hover-fill-color: #FFFFFF;\n",
              "      --disabled-bg-color: #3B4455;\n",
              "      --disabled-fill-color: #666;\n",
              "  }\n",
              "\n",
              "  .colab-df-quickchart {\n",
              "    background-color: var(--bg-color);\n",
              "    border: none;\n",
              "    border-radius: 50%;\n",
              "    cursor: pointer;\n",
              "    display: none;\n",
              "    fill: var(--fill-color);\n",
              "    height: 32px;\n",
              "    padding: 0;\n",
              "    width: 32px;\n",
              "  }\n",
              "\n",
              "  .colab-df-quickchart:hover {\n",
              "    background-color: var(--hover-bg-color);\n",
              "    box-shadow: 0 1px 2px rgba(60, 64, 67, 0.3), 0 1px 3px 1px rgba(60, 64, 67, 0.15);\n",
              "    fill: var(--button-hover-fill-color);\n",
              "  }\n",
              "\n",
              "  .colab-df-quickchart-complete:disabled,\n",
              "  .colab-df-quickchart-complete:disabled:hover {\n",
              "    background-color: var(--disabled-bg-color);\n",
              "    fill: var(--disabled-fill-color);\n",
              "    box-shadow: none;\n",
              "  }\n",
              "\n",
              "  .colab-df-spinner {\n",
              "    border: 2px solid var(--fill-color);\n",
              "    border-color: transparent;\n",
              "    border-bottom-color: var(--fill-color);\n",
              "    animation:\n",
              "      spin 1s steps(1) infinite;\n",
              "  }\n",
              "\n",
              "  @keyframes spin {\n",
              "    0% {\n",
              "      border-color: transparent;\n",
              "      border-bottom-color: var(--fill-color);\n",
              "      border-left-color: var(--fill-color);\n",
              "    }\n",
              "    20% {\n",
              "      border-color: transparent;\n",
              "      border-left-color: var(--fill-color);\n",
              "      border-top-color: var(--fill-color);\n",
              "    }\n",
              "    30% {\n",
              "      border-color: transparent;\n",
              "      border-left-color: var(--fill-color);\n",
              "      border-top-color: var(--fill-color);\n",
              "      border-right-color: var(--fill-color);\n",
              "    }\n",
              "    40% {\n",
              "      border-color: transparent;\n",
              "      border-right-color: var(--fill-color);\n",
              "      border-top-color: var(--fill-color);\n",
              "    }\n",
              "    60% {\n",
              "      border-color: transparent;\n",
              "      border-right-color: var(--fill-color);\n",
              "    }\n",
              "    80% {\n",
              "      border-color: transparent;\n",
              "      border-right-color: var(--fill-color);\n",
              "      border-bottom-color: var(--fill-color);\n",
              "    }\n",
              "    90% {\n",
              "      border-color: transparent;\n",
              "      border-bottom-color: var(--fill-color);\n",
              "    }\n",
              "  }\n",
              "</style>\n",
              "\n",
              "  <script>\n",
              "    async function quickchart(key) {\n",
              "      const quickchartButtonEl =\n",
              "        document.querySelector('#' + key + ' button');\n",
              "      quickchartButtonEl.disabled = true;  // To prevent multiple clicks.\n",
              "      quickchartButtonEl.classList.add('colab-df-spinner');\n",
              "      try {\n",
              "        const charts = await google.colab.kernel.invokeFunction(\n",
              "            'suggestCharts', [key], {});\n",
              "      } catch (error) {\n",
              "        console.error('Error during call to suggestCharts:', error);\n",
              "      }\n",
              "      quickchartButtonEl.classList.remove('colab-df-spinner');\n",
              "      quickchartButtonEl.classList.add('colab-df-quickchart-complete');\n",
              "    }\n",
              "    (() => {\n",
              "      let quickchartButtonEl =\n",
              "        document.querySelector('#df-16155886-7d49-4e2b-8a25-31a5ae081801 button');\n",
              "      quickchartButtonEl.style.display =\n",
              "        google.colab.kernel.accessAllowed ? 'block' : 'none';\n",
              "    })();\n",
              "  </script>\n",
              "</div>\n",
              "\n",
              "    </div>\n",
              "  </div>\n"
            ],
            "application/vnd.google.colaboratory.intrinsic+json": {
              "type": "dataframe",
              "variable_name": "df_can"
            }
          },
          "metadata": {},
          "execution_count": 6
        }
      ],
      "execution_count": 6
    },
    {
      "cell_type": "markdown",
      "source": [
        "Let's find out how many entries there are in our dataset.\n"
      ],
      "metadata": {
        "id": "itb702G_A9Me"
      }
    },
    {
      "cell_type": "code",
      "source": [
        "# print the dimensions of the dataframe\n",
        "print(df_can.shape)"
      ],
      "metadata": {
        "trusted": true,
        "colab": {
          "base_uri": "https://localhost:8080/"
        },
        "id": "Esxt0F_eA9Mf",
        "outputId": "e963cbf8-2774-473b-ab99-fd35c10aaf72"
      },
      "outputs": [
        {
          "output_type": "stream",
          "name": "stdout",
          "text": [
            "(195, 39)\n"
          ]
        }
      ],
      "execution_count": 7
    },
    {
      "cell_type": "markdown",
      "source": [
        "Set the country name as index - useful for quickly looking up countries using .loc method.\n"
      ],
      "metadata": {
        "id": "1BpY5pfLA9Mf"
      }
    },
    {
      "cell_type": "code",
      "source": [
        "df_can.set_index('Country', inplace=True)\n",
        "\n",
        "# Let's view the first five elements and see how the dataframe was changed\n",
        "df_can.head()"
      ],
      "metadata": {
        "trusted": true,
        "colab": {
          "base_uri": "https://localhost:8080/",
          "height": 374
        },
        "id": "DAYLJC7LA9Mf",
        "outputId": "92405084-b27f-466e-d3c7-8b41eb9e0e9a"
      },
      "outputs": [
        {
          "output_type": "execute_result",
          "data": {
            "text/plain": [
              "               Continent           Region             DevName  1980  1981  \\\n",
              "Country                                                                     \n",
              "Afghanistan         Asia    Southern Asia  Developing regions    16    39   \n",
              "Albania           Europe  Southern Europe   Developed regions     1     0   \n",
              "Algeria           Africa  Northern Africa  Developing regions    80    67   \n",
              "American Samoa   Oceania        Polynesia  Developing regions     0     1   \n",
              "Andorra           Europe  Southern Europe   Developed regions     0     0   \n",
              "\n",
              "                1982  1983  1984  1985  1986  ...  2005  2006  2007  2008  \\\n",
              "Country                                       ...                           \n",
              "Afghanistan       39    47    71   340   496  ...  3436  3009  2652  2111   \n",
              "Albania            0     0     0     0     1  ...  1223   856   702   560   \n",
              "Algeria           71    69    63    44    69  ...  3626  4807  3623  4005   \n",
              "American Samoa     0     0     0     0     0  ...     0     1     0     0   \n",
              "Andorra            0     0     0     0     2  ...     0     1     1     0   \n",
              "\n",
              "                2009  2010  2011  2012  2013  Total  \n",
              "Country                                              \n",
              "Afghanistan     1746  1758  2203  2635  2004  58639  \n",
              "Albania          716   561   539   620   603  15699  \n",
              "Algeria         5393  4752  4325  3774  4331  69439  \n",
              "American Samoa     0     0     0     0     0      6  \n",
              "Andorra            0     0     0     1     1     15  \n",
              "\n",
              "[5 rows x 38 columns]"
            ],
            "text/html": [
              "\n",
              "  <div id=\"df-53112b36-ff37-46de-a7e2-827782c0faa6\" class=\"colab-df-container\">\n",
              "    <div>\n",
              "<style scoped>\n",
              "    .dataframe tbody tr th:only-of-type {\n",
              "        vertical-align: middle;\n",
              "    }\n",
              "\n",
              "    .dataframe tbody tr th {\n",
              "        vertical-align: top;\n",
              "    }\n",
              "\n",
              "    .dataframe thead th {\n",
              "        text-align: right;\n",
              "    }\n",
              "</style>\n",
              "<table border=\"1\" class=\"dataframe\">\n",
              "  <thead>\n",
              "    <tr style=\"text-align: right;\">\n",
              "      <th></th>\n",
              "      <th>Continent</th>\n",
              "      <th>Region</th>\n",
              "      <th>DevName</th>\n",
              "      <th>1980</th>\n",
              "      <th>1981</th>\n",
              "      <th>1982</th>\n",
              "      <th>1983</th>\n",
              "      <th>1984</th>\n",
              "      <th>1985</th>\n",
              "      <th>1986</th>\n",
              "      <th>...</th>\n",
              "      <th>2005</th>\n",
              "      <th>2006</th>\n",
              "      <th>2007</th>\n",
              "      <th>2008</th>\n",
              "      <th>2009</th>\n",
              "      <th>2010</th>\n",
              "      <th>2011</th>\n",
              "      <th>2012</th>\n",
              "      <th>2013</th>\n",
              "      <th>Total</th>\n",
              "    </tr>\n",
              "    <tr>\n",
              "      <th>Country</th>\n",
              "      <th></th>\n",
              "      <th></th>\n",
              "      <th></th>\n",
              "      <th></th>\n",
              "      <th></th>\n",
              "      <th></th>\n",
              "      <th></th>\n",
              "      <th></th>\n",
              "      <th></th>\n",
              "      <th></th>\n",
              "      <th></th>\n",
              "      <th></th>\n",
              "      <th></th>\n",
              "      <th></th>\n",
              "      <th></th>\n",
              "      <th></th>\n",
              "      <th></th>\n",
              "      <th></th>\n",
              "      <th></th>\n",
              "      <th></th>\n",
              "      <th></th>\n",
              "    </tr>\n",
              "  </thead>\n",
              "  <tbody>\n",
              "    <tr>\n",
              "      <th>Afghanistan</th>\n",
              "      <td>Asia</td>\n",
              "      <td>Southern Asia</td>\n",
              "      <td>Developing regions</td>\n",
              "      <td>16</td>\n",
              "      <td>39</td>\n",
              "      <td>39</td>\n",
              "      <td>47</td>\n",
              "      <td>71</td>\n",
              "      <td>340</td>\n",
              "      <td>496</td>\n",
              "      <td>...</td>\n",
              "      <td>3436</td>\n",
              "      <td>3009</td>\n",
              "      <td>2652</td>\n",
              "      <td>2111</td>\n",
              "      <td>1746</td>\n",
              "      <td>1758</td>\n",
              "      <td>2203</td>\n",
              "      <td>2635</td>\n",
              "      <td>2004</td>\n",
              "      <td>58639</td>\n",
              "    </tr>\n",
              "    <tr>\n",
              "      <th>Albania</th>\n",
              "      <td>Europe</td>\n",
              "      <td>Southern Europe</td>\n",
              "      <td>Developed regions</td>\n",
              "      <td>1</td>\n",
              "      <td>0</td>\n",
              "      <td>0</td>\n",
              "      <td>0</td>\n",
              "      <td>0</td>\n",
              "      <td>0</td>\n",
              "      <td>1</td>\n",
              "      <td>...</td>\n",
              "      <td>1223</td>\n",
              "      <td>856</td>\n",
              "      <td>702</td>\n",
              "      <td>560</td>\n",
              "      <td>716</td>\n",
              "      <td>561</td>\n",
              "      <td>539</td>\n",
              "      <td>620</td>\n",
              "      <td>603</td>\n",
              "      <td>15699</td>\n",
              "    </tr>\n",
              "    <tr>\n",
              "      <th>Algeria</th>\n",
              "      <td>Africa</td>\n",
              "      <td>Northern Africa</td>\n",
              "      <td>Developing regions</td>\n",
              "      <td>80</td>\n",
              "      <td>67</td>\n",
              "      <td>71</td>\n",
              "      <td>69</td>\n",
              "      <td>63</td>\n",
              "      <td>44</td>\n",
              "      <td>69</td>\n",
              "      <td>...</td>\n",
              "      <td>3626</td>\n",
              "      <td>4807</td>\n",
              "      <td>3623</td>\n",
              "      <td>4005</td>\n",
              "      <td>5393</td>\n",
              "      <td>4752</td>\n",
              "      <td>4325</td>\n",
              "      <td>3774</td>\n",
              "      <td>4331</td>\n",
              "      <td>69439</td>\n",
              "    </tr>\n",
              "    <tr>\n",
              "      <th>American Samoa</th>\n",
              "      <td>Oceania</td>\n",
              "      <td>Polynesia</td>\n",
              "      <td>Developing regions</td>\n",
              "      <td>0</td>\n",
              "      <td>1</td>\n",
              "      <td>0</td>\n",
              "      <td>0</td>\n",
              "      <td>0</td>\n",
              "      <td>0</td>\n",
              "      <td>0</td>\n",
              "      <td>...</td>\n",
              "      <td>0</td>\n",
              "      <td>1</td>\n",
              "      <td>0</td>\n",
              "      <td>0</td>\n",
              "      <td>0</td>\n",
              "      <td>0</td>\n",
              "      <td>0</td>\n",
              "      <td>0</td>\n",
              "      <td>0</td>\n",
              "      <td>6</td>\n",
              "    </tr>\n",
              "    <tr>\n",
              "      <th>Andorra</th>\n",
              "      <td>Europe</td>\n",
              "      <td>Southern Europe</td>\n",
              "      <td>Developed regions</td>\n",
              "      <td>0</td>\n",
              "      <td>0</td>\n",
              "      <td>0</td>\n",
              "      <td>0</td>\n",
              "      <td>0</td>\n",
              "      <td>0</td>\n",
              "      <td>2</td>\n",
              "      <td>...</td>\n",
              "      <td>0</td>\n",
              "      <td>1</td>\n",
              "      <td>1</td>\n",
              "      <td>0</td>\n",
              "      <td>0</td>\n",
              "      <td>0</td>\n",
              "      <td>0</td>\n",
              "      <td>1</td>\n",
              "      <td>1</td>\n",
              "      <td>15</td>\n",
              "    </tr>\n",
              "  </tbody>\n",
              "</table>\n",
              "<p>5 rows × 38 columns</p>\n",
              "</div>\n",
              "    <div class=\"colab-df-buttons\">\n",
              "\n",
              "  <div class=\"colab-df-container\">\n",
              "    <button class=\"colab-df-convert\" onclick=\"convertToInteractive('df-53112b36-ff37-46de-a7e2-827782c0faa6')\"\n",
              "            title=\"Convert this dataframe to an interactive table.\"\n",
              "            style=\"display:none;\">\n",
              "\n",
              "  <svg xmlns=\"http://www.w3.org/2000/svg\" height=\"24px\" viewBox=\"0 -960 960 960\">\n",
              "    <path d=\"M120-120v-720h720v720H120Zm60-500h600v-160H180v160Zm220 220h160v-160H400v160Zm0 220h160v-160H400v160ZM180-400h160v-160H180v160Zm440 0h160v-160H620v160ZM180-180h160v-160H180v160Zm440 0h160v-160H620v160Z\"/>\n",
              "  </svg>\n",
              "    </button>\n",
              "\n",
              "  <style>\n",
              "    .colab-df-container {\n",
              "      display:flex;\n",
              "      gap: 12px;\n",
              "    }\n",
              "\n",
              "    .colab-df-convert {\n",
              "      background-color: #E8F0FE;\n",
              "      border: none;\n",
              "      border-radius: 50%;\n",
              "      cursor: pointer;\n",
              "      display: none;\n",
              "      fill: #1967D2;\n",
              "      height: 32px;\n",
              "      padding: 0 0 0 0;\n",
              "      width: 32px;\n",
              "    }\n",
              "\n",
              "    .colab-df-convert:hover {\n",
              "      background-color: #E2EBFA;\n",
              "      box-shadow: 0px 1px 2px rgba(60, 64, 67, 0.3), 0px 1px 3px 1px rgba(60, 64, 67, 0.15);\n",
              "      fill: #174EA6;\n",
              "    }\n",
              "\n",
              "    .colab-df-buttons div {\n",
              "      margin-bottom: 4px;\n",
              "    }\n",
              "\n",
              "    [theme=dark] .colab-df-convert {\n",
              "      background-color: #3B4455;\n",
              "      fill: #D2E3FC;\n",
              "    }\n",
              "\n",
              "    [theme=dark] .colab-df-convert:hover {\n",
              "      background-color: #434B5C;\n",
              "      box-shadow: 0px 1px 3px 1px rgba(0, 0, 0, 0.15);\n",
              "      filter: drop-shadow(0px 1px 2px rgba(0, 0, 0, 0.3));\n",
              "      fill: #FFFFFF;\n",
              "    }\n",
              "  </style>\n",
              "\n",
              "    <script>\n",
              "      const buttonEl =\n",
              "        document.querySelector('#df-53112b36-ff37-46de-a7e2-827782c0faa6 button.colab-df-convert');\n",
              "      buttonEl.style.display =\n",
              "        google.colab.kernel.accessAllowed ? 'block' : 'none';\n",
              "\n",
              "      async function convertToInteractive(key) {\n",
              "        const element = document.querySelector('#df-53112b36-ff37-46de-a7e2-827782c0faa6');\n",
              "        const dataTable =\n",
              "          await google.colab.kernel.invokeFunction('convertToInteractive',\n",
              "                                                    [key], {});\n",
              "        if (!dataTable) return;\n",
              "\n",
              "        const docLinkHtml = 'Like what you see? Visit the ' +\n",
              "          '<a target=\"_blank\" href=https://colab.research.google.com/notebooks/data_table.ipynb>data table notebook</a>'\n",
              "          + ' to learn more about interactive tables.';\n",
              "        element.innerHTML = '';\n",
              "        dataTable['output_type'] = 'display_data';\n",
              "        await google.colab.output.renderOutput(dataTable, element);\n",
              "        const docLink = document.createElement('div');\n",
              "        docLink.innerHTML = docLinkHtml;\n",
              "        element.appendChild(docLink);\n",
              "      }\n",
              "    </script>\n",
              "  </div>\n",
              "\n",
              "\n",
              "<div id=\"df-8204624e-852b-41f7-a331-5ae72b8cc646\">\n",
              "  <button class=\"colab-df-quickchart\" onclick=\"quickchart('df-8204624e-852b-41f7-a331-5ae72b8cc646')\"\n",
              "            title=\"Suggest charts\"\n",
              "            style=\"display:none;\">\n",
              "\n",
              "<svg xmlns=\"http://www.w3.org/2000/svg\" height=\"24px\"viewBox=\"0 0 24 24\"\n",
              "     width=\"24px\">\n",
              "    <g>\n",
              "        <path d=\"M19 3H5c-1.1 0-2 .9-2 2v14c0 1.1.9 2 2 2h14c1.1 0 2-.9 2-2V5c0-1.1-.9-2-2-2zM9 17H7v-7h2v7zm4 0h-2V7h2v10zm4 0h-2v-4h2v4z\"/>\n",
              "    </g>\n",
              "</svg>\n",
              "  </button>\n",
              "\n",
              "<style>\n",
              "  .colab-df-quickchart {\n",
              "      --bg-color: #E8F0FE;\n",
              "      --fill-color: #1967D2;\n",
              "      --hover-bg-color: #E2EBFA;\n",
              "      --hover-fill-color: #174EA6;\n",
              "      --disabled-fill-color: #AAA;\n",
              "      --disabled-bg-color: #DDD;\n",
              "  }\n",
              "\n",
              "  [theme=dark] .colab-df-quickchart {\n",
              "      --bg-color: #3B4455;\n",
              "      --fill-color: #D2E3FC;\n",
              "      --hover-bg-color: #434B5C;\n",
              "      --hover-fill-color: #FFFFFF;\n",
              "      --disabled-bg-color: #3B4455;\n",
              "      --disabled-fill-color: #666;\n",
              "  }\n",
              "\n",
              "  .colab-df-quickchart {\n",
              "    background-color: var(--bg-color);\n",
              "    border: none;\n",
              "    border-radius: 50%;\n",
              "    cursor: pointer;\n",
              "    display: none;\n",
              "    fill: var(--fill-color);\n",
              "    height: 32px;\n",
              "    padding: 0;\n",
              "    width: 32px;\n",
              "  }\n",
              "\n",
              "  .colab-df-quickchart:hover {\n",
              "    background-color: var(--hover-bg-color);\n",
              "    box-shadow: 0 1px 2px rgba(60, 64, 67, 0.3), 0 1px 3px 1px rgba(60, 64, 67, 0.15);\n",
              "    fill: var(--button-hover-fill-color);\n",
              "  }\n",
              "\n",
              "  .colab-df-quickchart-complete:disabled,\n",
              "  .colab-df-quickchart-complete:disabled:hover {\n",
              "    background-color: var(--disabled-bg-color);\n",
              "    fill: var(--disabled-fill-color);\n",
              "    box-shadow: none;\n",
              "  }\n",
              "\n",
              "  .colab-df-spinner {\n",
              "    border: 2px solid var(--fill-color);\n",
              "    border-color: transparent;\n",
              "    border-bottom-color: var(--fill-color);\n",
              "    animation:\n",
              "      spin 1s steps(1) infinite;\n",
              "  }\n",
              "\n",
              "  @keyframes spin {\n",
              "    0% {\n",
              "      border-color: transparent;\n",
              "      border-bottom-color: var(--fill-color);\n",
              "      border-left-color: var(--fill-color);\n",
              "    }\n",
              "    20% {\n",
              "      border-color: transparent;\n",
              "      border-left-color: var(--fill-color);\n",
              "      border-top-color: var(--fill-color);\n",
              "    }\n",
              "    30% {\n",
              "      border-color: transparent;\n",
              "      border-left-color: var(--fill-color);\n",
              "      border-top-color: var(--fill-color);\n",
              "      border-right-color: var(--fill-color);\n",
              "    }\n",
              "    40% {\n",
              "      border-color: transparent;\n",
              "      border-right-color: var(--fill-color);\n",
              "      border-top-color: var(--fill-color);\n",
              "    }\n",
              "    60% {\n",
              "      border-color: transparent;\n",
              "      border-right-color: var(--fill-color);\n",
              "    }\n",
              "    80% {\n",
              "      border-color: transparent;\n",
              "      border-right-color: var(--fill-color);\n",
              "      border-bottom-color: var(--fill-color);\n",
              "    }\n",
              "    90% {\n",
              "      border-color: transparent;\n",
              "      border-bottom-color: var(--fill-color);\n",
              "    }\n",
              "  }\n",
              "</style>\n",
              "\n",
              "  <script>\n",
              "    async function quickchart(key) {\n",
              "      const quickchartButtonEl =\n",
              "        document.querySelector('#' + key + ' button');\n",
              "      quickchartButtonEl.disabled = true;  // To prevent multiple clicks.\n",
              "      quickchartButtonEl.classList.add('colab-df-spinner');\n",
              "      try {\n",
              "        const charts = await google.colab.kernel.invokeFunction(\n",
              "            'suggestCharts', [key], {});\n",
              "      } catch (error) {\n",
              "        console.error('Error during call to suggestCharts:', error);\n",
              "      }\n",
              "      quickchartButtonEl.classList.remove('colab-df-spinner');\n",
              "      quickchartButtonEl.classList.add('colab-df-quickchart-complete');\n",
              "    }\n",
              "    (() => {\n",
              "      let quickchartButtonEl =\n",
              "        document.querySelector('#df-8204624e-852b-41f7-a331-5ae72b8cc646 button');\n",
              "      quickchartButtonEl.style.display =\n",
              "        google.colab.kernel.accessAllowed ? 'block' : 'none';\n",
              "    })();\n",
              "  </script>\n",
              "</div>\n",
              "\n",
              "    </div>\n",
              "  </div>\n"
            ],
            "application/vnd.google.colaboratory.intrinsic+json": {
              "type": "dataframe",
              "variable_name": "df_can"
            }
          },
          "metadata": {},
          "execution_count": 8
        }
      ],
      "execution_count": 8
    },
    {
      "cell_type": "markdown",
      "source": [
        "Notice now the country names now serve as indices.\n"
      ],
      "metadata": {
        "id": "FmC1a2udA9Mf"
      }
    },
    {
      "cell_type": "code",
      "source": [
        "print('data dimensions:', df_can.shape)"
      ],
      "metadata": {
        "trusted": true,
        "colab": {
          "base_uri": "https://localhost:8080/"
        },
        "id": "GbzHyDqKA9Mg",
        "outputId": "3d88eb47-4909-46d0-a234-418e87500ced"
      },
      "outputs": [
        {
          "output_type": "stream",
          "name": "stdout",
          "text": [
            "data dimensions: (195, 38)\n"
          ]
        }
      ],
      "execution_count": 9
    },
    {
      "cell_type": "code",
      "source": [
        "# finally, let's create a list of years from 1980 - 2013\n",
        "# this will come in handy when we start plotting the data\n",
        "years = list(map(str, range(1980, 2014)))\n",
        "#years = np.arange(1980,2014)"
      ],
      "metadata": {
        "trusted": true,
        "id": "WIkZHnURA9Mg"
      },
      "outputs": [],
      "execution_count": 11
    },
    {
      "cell_type": "markdown",
      "source": [
        "# Line Plot<a id=\"6\"></a>\n"
      ],
      "metadata": {
        "id": "JHW7f_XxA9Mg"
      }
    },
    {
      "cell_type": "markdown",
      "source": [
        "A line plot displays the relationship between two continuous variables over a continuous interval, showing the trend or pattern of the data.<br><br>Let's created a line plot to visualize the immigrants (to Canada) trend during 1980 to 2013.<br>We need the Total of year-wise immigrants,<br><br>We will create a new dataframe for only columns containing the years<br> then, we will apply sum() on the dataframe<br><br>You can do create a line plot directly on **axes** by calling plot function **plot()**\n"
      ],
      "metadata": {
        "id": "IrwRhspKA9Mg"
      }
    },
    {
      "cell_type": "code",
      "source": [
        "#As years is in the array format, you will be required to map it to str for plotting\n",
        "#y=list(map(str, years))\n",
        "\n",
        "#creating df with only years columns from 1980 - 2013\n",
        "df_line=df_can[years]\n",
        "\n",
        "#Applying sum to get total immigrants year-wise\n",
        "total_immigrants=df_line.sum()\n",
        "total_immigrants"
      ],
      "metadata": {
        "trusted": true,
        "colab": {
          "base_uri": "https://localhost:8080/"
        },
        "id": "Euu7rOH4A9Mg",
        "outputId": "676bf5fe-6a00-4180-faf8-561158e082fc"
      },
      "outputs": [
        {
          "output_type": "execute_result",
          "data": {
            "text/plain": [
              "1980     99137\n",
              "1981    110563\n",
              "1982    104271\n",
              "1983     75550\n",
              "1984     73417\n",
              "1985     69978\n",
              "1986     86048\n",
              "1987    134771\n",
              "1988    139306\n",
              "1989    164432\n",
              "1990    188054\n",
              "1991    207509\n",
              "1992    221687\n",
              "1993    222049\n",
              "1994    193665\n",
              "1995    187712\n",
              "1996    200085\n",
              "1997    192885\n",
              "1998    160727\n",
              "1999    179818\n",
              "2000    216712\n",
              "2001    242643\n",
              "2002    223111\n",
              "2003    217297\n",
              "2004    232083\n",
              "2005    257457\n",
              "2006    247057\n",
              "2007    232405\n",
              "2008    243047\n",
              "2009    248768\n",
              "2010    276956\n",
              "2011    246194\n",
              "2012    256222\n",
              "2013    257537\n",
              "dtype: int64"
            ]
          },
          "metadata": {},
          "execution_count": 12
        }
      ],
      "execution_count": 12
    },
    {
      "cell_type": "code",
      "source": [
        "#Create figure and axes\n",
        "fig, ax = plt.subplots()\n",
        "\n",
        "# Plot the line\n",
        "ax.plot(total_immigrants)\n",
        "\n",
        "#Setting up the Title\n",
        "ax.set_title('Immigrants between 1980 to 2013')\n",
        "#Setting up the Labels\n",
        "ax.set_xlabel('Years')\n",
        "ax.set_ylabel('Total Immigrants')\n",
        "\n",
        "#Display the plot\n",
        "plt.show()"
      ],
      "metadata": {
        "trusted": true,
        "colab": {
          "base_uri": "https://localhost:8080/",
          "height": 70
        },
        "id": "PIGFYZ8kA9Mg",
        "outputId": "570e2611-1bf0-460a-87f8-e7a9899c4a5f"
      },
      "outputs": [
        {
          "output_type": "execute_result",
          "data": {
            "text/plain": [
              "\"fig, ax = plt.subplots()\\n\\n# Plot the line\\nax.plot(total_immigrants)\\n\\n#Setting up the Title\\nax.set_title('Immigrants between 1980 to 2013') \\n#Setting up the Labels\\nax.set_xlabel('Years')\\nax.set_ylabel('Total Immigrants')\\n\\n#Display the plot\\nplt.show()\""
            ],
            "application/vnd.google.colaboratory.intrinsic+json": {
              "type": "string"
            }
          },
          "metadata": {},
          "execution_count": 14
        }
      ],
      "execution_count": 14
    },
    {
      "cell_type": "markdown",
      "source": [
        "#### The plot function populated the x-axis with the index values (years), and the y-axis with the column values (population). <br>However, notice how the years were not displayed because they are of type string.<br> <br>Therefore, let's change the type of the index values to integer for plotting.\n"
      ],
      "metadata": {
        "id": "6suMfjCBA9Mh"
      }
    },
    {
      "cell_type": "code",
      "source": [
        "#Create figure and axes\n",
        "fig, ax = plt.subplots()\n",
        "\n",
        "#Changing the index type to integer\n",
        "total_immigrants.index = total_immigrants.index.map(int)\n",
        "\n",
        "# Plot the line\n",
        "ax.plot(total_immigrants)\n",
        "\n",
        "#Setting up the Title\n",
        "ax.set_title('Immigrants between 1980 to 2013')\n",
        "\n",
        "#Setting up the Labels\n",
        "ax.set_xlabel('Years')\n",
        "ax.set_ylabel('Total Immigrants')\n",
        "\n",
        "#Display the plot\n",
        "plt.show()"
      ],
      "metadata": {
        "trusted": true,
        "colab": {
          "base_uri": "https://localhost:8080/",
          "height": 87
        },
        "id": "CMUFXnCoA9Mh",
        "outputId": "a5c01243-4eb6-4f32-abec-0183515d8d5e"
      },
      "outputs": [
        {
          "output_type": "execute_result",
          "data": {
            "text/plain": [
              "\"fig, ax = plt.subplots()\\n\\n#Changing the index type to integer\\ntotal_immigrants.index = total_immigrants.index.map(int)\\n\\n# Plot the line\\nax.plot(total_immigrants)\\n\\n#Setting up the Title\\nax.set_title('Immigrants between 1980 to 2013') \\n\\n#Setting up the Labels\\nax.set_xlabel('Years')\\nax.set_ylabel('Total Immigrants')\\n\\n#Display the plot\\nplt.show()\""
            ],
            "application/vnd.google.colaboratory.intrinsic+json": {
              "type": "string"
            }
          },
          "metadata": {},
          "execution_count": 16
        }
      ],
      "execution_count": 16
    },
    {
      "cell_type": "markdown",
      "source": [
        "#### Let's now customize the above plot's appearance\n"
      ],
      "metadata": {
        "id": "X6LAEeJRA9Mh"
      }
    },
    {
      "cell_type": "code",
      "source": [
        "#Create figure and axes\n",
        "fig, ax = plt.subplots()\n",
        "\n",
        "#Changing the index type to integer\n",
        "total_immigrants.index = total_immigrants.index.map(int)\n",
        "\n",
        "# Customizing the appearance of Plot\n",
        "ax.plot(total_immigrants,\n",
        "        marker='s', #Including markers in squares shapes\n",
        "        markersize=5, #Setting the size of the marker\n",
        "        color='green', #Changing the color of the line\n",
        "        linestyle=\"dotted\") #Changing the line style to a Dotted line\n",
        "#Setting up the Title\n",
        "ax.set_title('Immigrants between 1980 to 2013')\n",
        "\n",
        "#Setting up the Labels\n",
        "ax.set_xlabel('Years')\n",
        "ax.set_ylabel('Total Immigrants')\n",
        "ax.legend(['Immigrants'])\n",
        "\n",
        "plt.show()"
      ],
      "metadata": {
        "colab": {
          "base_uri": "https://localhost:8080/",
          "height": 122
        },
        "id": "kJn-SssJA9Mh",
        "outputId": "1f25d6cd-4e77-4031-8578-696921ea6c06"
      },
      "outputs": [
        {
          "output_type": "execute_result",
          "data": {
            "text/plain": [
              "'fig, ax = plt.subplots()\\n\\n#Changing the index type to integer\\ntotal_immigrants.index = total_immigrants.index.map(int)\\n\\n# Customizing the appearance of Plot\\nax.plot(total_immigrants, \\n        marker=\\'s\\', #Including markers in squares shapes\\n        markersize=5, #Setting the size of the marker\\n        color=\\'green\\', #Changing the color of the line\\n        linestyle=\"dotted\") #Changing the line style to a Dotted line\\n#Setting up the Title\\nax.set_title(\\'Immigrants between 1980 to 2013\\') \\n\\n#Setting up the Labels\\nax.set_xlabel(\\'Years\\')\\nax.set_ylabel(\\'Total Immigrants\\')\\nax.legend([\\'Immigrants\\'])\\n\\nplt.show()'"
            ],
            "application/vnd.google.colaboratory.intrinsic+json": {
              "type": "string"
            }
          },
          "metadata": {},
          "execution_count": 18
        }
      ],
      "execution_count": 18
    },
    {
      "cell_type": "markdown",
      "source": [
        "#### Let's include the background grid, a legend and try to change the limits on the axis\n"
      ],
      "metadata": {
        "id": "oSD0whddA9Mh"
      }
    },
    {
      "cell_type": "code",
      "source": [
        "#Create figure and axes\n",
        "fig, ax = plt.subplots()\n",
        "\n",
        "# Plot the line\n",
        "ax.plot(total_immigrants,\n",
        "        marker='s', #Including markers in squares shapes\n",
        "        markersize=5, #Setting the size of the marker\n",
        "        color='green', #Changing the color of the line\n",
        "        linestyle=\"dotted\") #Changing the line style to a Dotted line\n",
        "\n",
        "#Setting up the Title\n",
        "ax.set_title('Immigrants between 1980 to 2013')\n",
        "\n",
        "#Setting up the Labels\n",
        "ax.set_xlabel('Years')\n",
        "ax.set_ylabel('Total Immigrants')\n",
        "\n",
        "#limits on x-axis\n",
        "plt.xlim(1975, 2015)  #or ax.set_xlim()\n",
        "\n",
        "#Enabling Grid\n",
        "plt.grid(True)  #or ax.grid()\n",
        "\n",
        "#Legend\n",
        "plt.legend([\"Immigrants\"]) #or ax.legend()\n",
        "\n",
        "#Display the plot\n",
        "plt.show()"
      ],
      "metadata": {
        "colab": {
          "base_uri": "https://localhost:8080/",
          "height": 140
        },
        "id": "XaOZisSAA9Mh",
        "outputId": "ac4f5a94-e9ea-4a93-d522-aa61c07c852c"
      },
      "outputs": [
        {
          "output_type": "execute_result",
          "data": {
            "text/plain": [
              "'fig, ax = plt.subplots()\\n\\n# Plot the line\\nax.plot(total_immigrants, \\n        marker=\\'s\\', #Including markers in squares shapes\\n        markersize=5, #Setting the size of the marker\\n        color=\\'green\\', #Changing the color of the line\\n        linestyle=\"dotted\") #Changing the line style to a Dotted line\\n\\n#Setting up the Title\\nax.set_title(\\'Immigrants between 1980 to 2013\\') \\n\\n#Setting up the Labels\\nax.set_xlabel(\\'Years\\')\\nax.set_ylabel(\\'Total Immigrants\\')\\n\\n#limits on x-axis\\nplt.xlim(1975, 2015)  #or ax.set_xlim()\\n\\n#Enabling Grid\\nplt.grid(True)  #or ax.grid()\\n\\n#Legend\\nplt.legend([\"Immigrants\"]) #or ax.legend()\\n\\n#Display the plot\\nplt.show()'"
            ],
            "application/vnd.google.colaboratory.intrinsic+json": {
              "type": "string"
            }
          },
          "metadata": {},
          "execution_count": 20
        }
      ],
      "execution_count": 20
    },
    {
      "cell_type": "markdown",
      "source": [
        "Let's start with a case study:\n",
        "\n",
        "In 2010, Haiti suffered a catastrophic magnitude 7.0 earthquake. The quake caused widespread devastation and loss of life and aout three million people were affected by this natural disaster. As part of Canada's humanitarian effort, the Government of Canada stepped up its effort in accepting refugees from Haiti. We can quickly visualize this effort using a Line plot:\n",
        "\n",
        "### Question: Plot a line graph of immigration from Haiti\n"
      ],
      "metadata": {
        "id": "4qdpzivoA9Mh"
      }
    },
    {
      "cell_type": "markdown",
      "source": [
        "You be required to create a dataframe where the name of the 'Country' is equal to 'Haiti' and years from 1980 - 2013<br> Also you will be required to transpose the new dataframe in to a series for plotting<br>Might also have to change the type of index of the series to integer for a better look of the plot<br> Then create fig and ax and call function plot() on the data.\n"
      ],
      "metadata": {
        "id": "tMDS2kTIA9Mh"
      }
    },
    {
      "cell_type": "markdown",
      "source": [
        "<details><summary>Click here for a sample python solution</summary>\n",
        "\n",
        "```python\n",
        "    #Creating data for plotting\n",
        "    df_can.reset_index(inplace=True)\n",
        "    haiti=df_can[df_can['Country']=='Haiti']\n",
        "\n",
        "    #creating haiti with only years columns from 1980 - 2013\n",
        "    #and transposing to get the result as a series\n",
        "    haiti=haiti[years].T\n",
        "\n",
        "    #converting the index to type integer\n",
        "    haiti.index = haiti.index.map(int)\n",
        "    \n",
        "    #Plotting the line plot on the data\n",
        "    fig, ax = plt.subplots()\n",
        "    ax.plot(haiti)\n",
        "    #Setting up the Title\n",
        "    ax.set_title('Immigrants from Haiti between 1980 to 2013')\n",
        "    #Setting up the Labels\n",
        "    ax.set_xlabel('Years')\n",
        "    ax.set_ylabel('Number of Immigrants')\n",
        "    #Enabling Grid\n",
        "    #plt.grid(True)  #or ax.grid()\n",
        "    #Legend\n",
        "    plt.legend([\"Immigrants\"]) #or ax.legend()\n",
        "    #Display the plot\n",
        "    plt.show()\n",
        "```\n",
        "</details>\n"
      ],
      "metadata": {
        "id": "oxTxc9MNA9Mh"
      }
    },
    {
      "cell_type": "code",
      "source": [
        "#Creating data for plotting\n",
        "df_can.reset_index(inplace=True)\n",
        "haiti=df_can[df_can['Country']=='Haiti']\n",
        "\n",
        "#creating haiti with only years columns from 1980 - 2013\n",
        "#and transposing to get the result as a series\n",
        "haiti=haiti[years].T\n",
        "\n",
        "#converting the index to type integer\n",
        "haiti.index = haiti.index.map(int)\n",
        "\n",
        "#Plotting the line plot on the data\n",
        "fig, ax = plt.subplots()\n",
        "ax.plot(haiti)\n",
        "#Setting up the Title\n",
        "ax.set_title('Immigrants from Haiti between 1980 to 2013')\n",
        "#Setting up the Labels\n",
        "ax.set_xlabel('Years')\n",
        "ax.set_ylabel('Number of Immigrants')\n",
        "#Enabling Grid\n",
        "#plt.grid(True)  #or ax.grid()\n",
        "#Legend\n",
        "plt.legend([\"Immigrants\"]) #or ax.legend()\n",
        "#Display the plot\n",
        "plt.show()"
      ],
      "metadata": {
        "colab": {
          "base_uri": "https://localhost:8080/",
          "height": 87
        },
        "id": "7StMixgQA9Mi",
        "outputId": "ec0bb2f7-18b4-4929-eee0-2e67d220efd1"
      },
      "outputs": [
        {
          "output_type": "execute_result",
          "data": {
            "text/plain": [
              "'\\n#Plotting the line plot on the data\\nfig, ax = plt.subplots()\\nax.plot(haiti)\\n#Setting up the Title\\nax.set_title(\\'Immigrants from Haiti between 1980 to 2013\\') \\n#Setting up the Labels\\nax.set_xlabel(\\'Years\\')\\nax.set_ylabel(\\'Number of Immigrants\\')\\n#Enabling Grid\\n#plt.grid(True)  #or ax.grid()\\n#Legend\\nplt.legend([\"Immigrants\"]) #or ax.legend()\\n#Display the plot\\nplt.show()'"
            ],
            "application/vnd.google.colaboratory.intrinsic+json": {
              "type": "string"
            }
          },
          "metadata": {},
          "execution_count": 22
        }
      ],
      "execution_count": 22
    },
    {
      "cell_type": "markdown",
      "source": [
        "#### We can clearly notice how number of immigrants from Haiti spiked up from 2010 as Canada stepped up its efforts to accept refugees from Haiti. <br>Let's annotate this spike in the plot by using the *ax.annotate()* method.\n"
      ],
      "metadata": {
        "id": "iEZS_cg8A9Mi"
      }
    },
    {
      "cell_type": "code",
      "source": [
        "fig, ax = plt.subplots()\n",
        "\n",
        "ax.plot(haiti)\n",
        "\n",
        "#Setting up the Title\n",
        "ax.set_title('Immigrants from Haiti between 1980 to 2013')\n",
        "\n",
        "#Setting up the Labels\n",
        "ax.set_xlabel('Years')\n",
        "ax.set_ylabel('Number of Immigrants')\n",
        "\n",
        "#Enabling Grid and ticks\n",
        "#plt.grid(True)  #or ax.grid()\n",
        "#ax.set_xticks(list(range(n, m, s)))\n",
        "\n",
        "#Legend\n",
        "plt.legend([\"Immigrants\"]) #or ax.legend()\n",
        "\n",
        "ax.annotate('2010 Earthquake',xy=(2000, 6000))\n",
        "plt.show()"
      ],
      "metadata": {
        "colab": {
          "base_uri": "https://localhost:8080/",
          "height": 105
        },
        "id": "_z1M5jRXA9Mi",
        "outputId": "722450ec-fa7f-48c1-8da0-0110914d0dff"
      },
      "outputs": [
        {
          "output_type": "execute_result",
          "data": {
            "text/plain": [
              "'fig, ax = plt.subplots()\\n\\nax.plot(haiti)\\n\\n#Setting up the Title\\nax.set_title(\\'Immigrants from Haiti between 1980 to 2013\\') \\n\\n#Setting up the Labels\\nax.set_xlabel(\\'Years\\')\\nax.set_ylabel(\\'Number of Immigrants\\')\\n\\n#Enabling Grid and ticks\\n#plt.grid(True)  #or ax.grid()\\n#ax.set_xticks(list(range(n, m, s)))\\n\\n#Legend\\nplt.legend([\"Immigrants\"]) #or ax.legend()\\n\\nax.annotate(\\'2010 Earthquake\\',xy=(2000, 6000))\\nplt.show()'"
            ],
            "application/vnd.google.colaboratory.intrinsic+json": {
              "type": "string"
            }
          },
          "metadata": {},
          "execution_count": 24
        }
      ],
      "execution_count": 24
    },
    {
      "cell_type": "markdown",
      "source": [
        "You can also specify the ticks to be displayed on the plot like this - ax.set_xticks(list(range(1980, 2015,5)))\n"
      ],
      "metadata": {
        "id": "kA7vdss3A9Mi"
      }
    },
    {
      "cell_type": "markdown",
      "source": [
        "---\n"
      ],
      "metadata": {
        "id": "OqY-hA1dA9Mi"
      }
    },
    {
      "cell_type": "markdown",
      "source": [
        "# Scatter Plot<a id=\"8\"></a>\n"
      ],
      "metadata": {
        "id": "6zFkHq9PA9Mi"
      }
    },
    {
      "cell_type": "markdown",
      "source": [
        "A scatter plot visualizes the relationship between two continuous variables, displaying individual data points as dots on a two-dimensional plane, allowing for the examination of patterns, clusters, and correlations.<br><br>Let's created a *Scatter plot* to visualize the immigrants (to Canada) trend during 1980 to 2013.<br>We need the Total of year-wise immigrants,<br><br>We will create a new dataframe for only columns containing the years<br> then, we will apply sum() on the dataframe<br><br>You can do create a scatter plot directly on **ax** by calling plot function **scatter()**\n"
      ],
      "metadata": {
        "id": "3nnrBL9oA9Mi"
      }
    },
    {
      "cell_type": "code",
      "source": [
        "#Create figure and axes\n",
        "fig, ax = plt.subplots(figsize=(8, 4))\n",
        "\n",
        "# Customizing Scatter Plot\n",
        "ax.scatter(years, total_immigrants,\n",
        "           marker='o', #setting up the markers\n",
        "           s = 20, #setting up the size of the markers\n",
        "           color='darkblue')#the color for the marker\n",
        "\n",
        "#add title\n",
        "plt.title('Immigrants between 1980 to 2013')\n",
        "#add labels\n",
        "plt.xlabel('Years')\n",
        "plt.ylabel('Total Immigrants')\n",
        "#including grid\n",
        "plt.grid(True)\n",
        "\n",
        "#Legend at upper center of the figure\n",
        "ax.legend([\"Immigrants\"], loc='upper center')\n",
        "\n",
        "#Display the plot\n",
        "plt.show()"
      ],
      "metadata": {
        "colab": {
          "base_uri": "https://localhost:8080/",
          "height": 122
        },
        "id": "FNTYUaFUA9Mi",
        "outputId": "014ee648-fe8f-4eef-d30c-8e24c9167498"
      },
      "outputs": [
        {
          "output_type": "execute_result",
          "data": {
            "text/plain": [
              "'fig, ax = plt.subplots(figsize=(8, 4))\\n\\n# Customizing Scatter Plot \\nax.scatter(years, total_immigrants, \\n           marker=\\'o\\', #setting up the markers\\n           s = 20, #setting up the size of the markers\\n           color=\\'darkblue\\')#the color for the marker\\n\\n#add title \\nplt.title(\\'Immigrants between 1980 to 2013\\') \\n#add labels \\nplt.xlabel(\\'Years\\')\\nplt.ylabel(\\'Total Immigrants\\') \\n#including grid\\nplt.grid(True)\\n\\n#Legend at upper center of the figure\\nax.legend([\"Immigrants\"], loc=\\'upper center\\')\\n\\n#Display the plot\\nplt.show()'"
            ],
            "application/vnd.google.colaboratory.intrinsic+json": {
              "type": "string"
            }
          },
          "metadata": {},
          "execution_count": 26
        }
      ],
      "execution_count": 26
    },
    {
      "cell_type": "code",
      "source": [
        "#Create figure and axes\n",
        "fig, ax = plt.subplots(figsize=(8, 4))\n",
        "\n",
        "total_immigrants.index = total_immigrants.index.map(int)\n",
        "\n",
        "# Customizing Scatter Plot\n",
        "ax.scatter(total_immigrants.index, total_immigrants,\n",
        "           marker='o', #setting up the markers\n",
        "           s = 20, #setting up the size of the markers\n",
        "           color='darkblue')#the color for the marker\n",
        "\n",
        "#add title\n",
        "plt.title('Immigrants between 1980 to 2013')\n",
        "#add labels\n",
        "plt.xlabel('Years')\n",
        "plt.ylabel('Total Immigrants')\n",
        "#including grid\n",
        "plt.grid(True)\n",
        "\n",
        "#Legend at upper center of the figure\n",
        "ax.legend([\"Immigrants\"], loc='upper center')\n",
        "\n",
        "#Display the plot\n",
        "plt.show()"
      ],
      "metadata": {
        "colab": {
          "base_uri": "https://localhost:8080/",
          "height": 122
        },
        "id": "3VtlHcXvA9Mi",
        "outputId": "cbbfeadd-39a8-4e59-aa70-acf399a81f53"
      },
      "outputs": [
        {
          "output_type": "execute_result",
          "data": {
            "text/plain": [
              "'fig, ax = plt.subplots(figsize=(8, 4))\\n\\ntotal_immigrants.index = total_immigrants.index.map(int)\\n\\n# Customizing Scatter Plot \\nax.scatter(total_immigrants.index, total_immigrants, \\n           marker=\\'o\\', #setting up the markers\\n           s = 20, #setting up the size of the markers\\n           color=\\'darkblue\\')#the color for the marker\\n\\n#add title \\nplt.title(\\'Immigrants between 1980 to 2013\\') \\n#add labels \\nplt.xlabel(\\'Years\\')\\nplt.ylabel(\\'Total Immigrants\\') \\n#including grid\\nplt.grid(True)\\n\\n#Legend at upper center of the figure\\nax.legend([\"Immigrants\"], loc=\\'upper center\\')\\n\\n#Display the plot\\nplt.show()'"
            ],
            "application/vnd.google.colaboratory.intrinsic+json": {
              "type": "string"
            }
          },
          "metadata": {},
          "execution_count": 28
        }
      ],
      "execution_count": 28
    },
    {
      "cell_type": "markdown",
      "source": [
        "### Refer to the [matplotlib documentation](https://matplotlib.org/stable/api/markers_api.html) and change the marker and its size, color in the above code to see the difference in the appearance of the plot\n"
      ],
      "metadata": {
        "id": "K_vRdHmOA9Mj"
      }
    },
    {
      "cell_type": "markdown",
      "source": [
        "---\n"
      ],
      "metadata": {
        "id": "dvtoC6WjA9Mj"
      }
    },
    {
      "cell_type": "markdown",
      "source": [
        "# Bar Plot<a id=\"10\"></a>\n"
      ],
      "metadata": {
        "id": "SB2Rjg1CA9Mj"
      }
    },
    {
      "cell_type": "markdown",
      "source": [
        "A bar plot represents categorical data with rectangular bars, where the height of each bar corresponds to the value of a specific category, making it suitable for comparing values across different categories.<br><br>Let's create a bar plot to visualize the top 5 countries that contribued the most immigrants to Canada from 1980 to 2013.\n",
        "<br><br>Apply sort_values function on the 'Total' column of our data<br><br>We will create a new dataframe for only columns containing the years<br> then, we will apply sum() on the dataframe and can create a separatedataframe for top five countries<br><br>You can further use the names of the countries to label each bar on the plot\n"
      ],
      "metadata": {
        "id": "moVUzlgmA9Mj"
      }
    },
    {
      "cell_type": "code",
      "source": [
        "#Sorting the dataframe on 'Total' in descending order\n",
        "df_can.sort_values(['Total'], ascending=False, axis=0, inplace=True)\n",
        "\n",
        "# get the top 5 entries with head function\n",
        "df_top5 = df_can.head()\n",
        "\n",
        "#resetting the index back to original way\n",
        "df_bar_5=df_top5.reset_index()\n",
        "\n",
        "#Creating alist of names of the top 5 countries\n",
        "label=list(df_bar_5.Country)\n",
        "label"
      ],
      "metadata": {
        "colab": {
          "base_uri": "https://localhost:8080/"
        },
        "id": "v5pr3PlDA9Mj",
        "outputId": "9d6333f1-7e37-48fa-87a4-0cc49f546e6e"
      },
      "outputs": [
        {
          "output_type": "execute_result",
          "data": {
            "text/plain": [
              "['India',\n",
              " 'China',\n",
              " 'United Kingdom of Great Britain and Northern Ireland',\n",
              " 'Philippines',\n",
              " 'Pakistan']"
            ]
          },
          "metadata": {},
          "execution_count": 29
        }
      ],
      "execution_count": 29
    },
    {
      "cell_type": "markdown",
      "source": [
        "##### The third name is too lengthy to fit on the x-axis as label. Let's fix this using indexing\n"
      ],
      "metadata": {
        "id": "hGAOw0WdA9Mj"
      }
    },
    {
      "cell_type": "code",
      "source": [
        "label[2]='UK'\n",
        "label"
      ],
      "metadata": {
        "colab": {
          "base_uri": "https://localhost:8080/"
        },
        "id": "tcmMJ2X3A9Mj",
        "outputId": "fe2becda-1b41-4133-e6b8-375f3c4f95b7"
      },
      "outputs": [
        {
          "output_type": "execute_result",
          "data": {
            "text/plain": [
              "['India', 'China', 'UK', 'Philippines', 'Pakistan']"
            ]
          },
          "metadata": {},
          "execution_count": 30
        }
      ],
      "execution_count": 30
    },
    {
      "cell_type": "code",
      "source": [
        "fig, ax = plt.subplots(figsize=(10, 4))\n",
        "\n",
        "ax.bar(label,df_bar_5['Total'], label=label)\n",
        "ax.set_title('Immigration Trend of Top 5 Countries')\n",
        "ax.set_ylabel('Number of Immigrants')\n",
        "ax.set_xlabel('Years')\n",
        "\n",
        "plt.show()"
      ],
      "metadata": {
        "colab": {
          "base_uri": "https://localhost:8080/",
          "height": 70
        },
        "id": "8eSxxJlQA9Mk",
        "outputId": "5a56553a-c12b-4558-84f8-b8bc51b2ce78"
      },
      "outputs": [
        {
          "output_type": "execute_result",
          "data": {
            "text/plain": [
              "\"fig, ax = plt.subplots(figsize=(10, 4))\\n\\nax.bar(label,df_bar_5['Total'], label=label)\\nax.set_title('Immigration Trend of Top 5 Countries')\\nax.set_ylabel('Number of Immigrants')\\nax.set_xlabel('Years')\\n\\nplt.show()\""
            ],
            "application/vnd.google.colaboratory.intrinsic+json": {
              "type": "string"
            }
          },
          "metadata": {},
          "execution_count": 32
        }
      ],
      "execution_count": 32
    },
    {
      "cell_type": "markdown",
      "source": [
        "### Question: Create a bar plot of the 5 countries that contributed the **least** to immigration to Canada **from** 1980 to 2013.\n"
      ],
      "metadata": {
        "id": "nMSDsVMfA9Mk"
      }
    },
    {
      "cell_type": "code",
      "source": [
        "#Sorting the dataframe on 'Total' in descending order\n",
        "df_can.sort_values(['Total'], ascending=True, axis=0, inplace=True)\n",
        "\n",
        "# get the top 5 entries with head function\n",
        "df_least5 = df_can.head()\n",
        "\n",
        "#resetting the index back to original way\n",
        "df_least5_bar=df_least5.reset_index()\n",
        "\n",
        "#Creating alist of names of the top 5 countries\n",
        "label=list(df_least5_bar.Country)\n",
        "#label\n",
        "\n",
        "fig, ax = plt.subplots(figsize=(10, 4))\n",
        "\n",
        "ax.bar(label, df_least5_bar['Total'],label=label)\n",
        "ax.set_title('Immigration Trend of Top 5 Countries')\n",
        "ax.set_ylabel('Number of Immigrants')\n",
        "ax.set_xlabel('Years')\n",
        "\n",
        "plt.show()"
      ],
      "metadata": {
        "colab": {
          "base_uri": "https://localhost:8080/",
          "height": 122
        },
        "id": "u4HsarbuA9Mk",
        "outputId": "ceaa71d3-1bfa-4598-e68d-b784ef3cafa7"
      },
      "outputs": [
        {
          "output_type": "execute_result",
          "data": {
            "text/plain": [
              "\"df_can.sort_values(['Total'], ascending=True, axis=0, inplace=True)\\n\\n# get the top 5 entries with head function\\ndf_least5 = df_can.head()\\n\\n#resetting the index back to original way\\ndf_least5_bar=df_least5.reset_index()\\n\\n#Creating alist of names of the top 5 countries\\nlabel=list(df_least5_bar.Country)\\n#label\\n\\nfig, ax = plt.subplots(figsize=(10, 4))\\n\\nax.bar(label, df_least5_bar['Total'],label=label)\\nax.set_title('Immigration Trend of Top 5 Countries')\\nax.set_ylabel('Number of Immigrants')\\nax.set_xlabel('Years')\\n\\nplt.show()\""
            ],
            "application/vnd.google.colaboratory.intrinsic+json": {
              "type": "string"
            }
          },
          "metadata": {},
          "execution_count": 34
        }
      ],
      "execution_count": 34
    },
    {
      "cell_type": "markdown",
      "source": [
        "<details><summary>Click here for a sample python solution</summary>\n",
        "\n",
        "```python\n",
        "    #Sorting the dataframe on 'Total' in descending order\n",
        "    df_can.sort_values(['Total'], ascending=True, axis=0, inplace=True)\n",
        "\n",
        "    # get the top 5 entries with head function\n",
        "    df_least5 = df_can.head()\n",
        "\n",
        "    #resetting the index back to original way\n",
        "    df_least5_bar=df_least5.reset_index()\n",
        "\n",
        "    #Creating alist of names of the top 5 countries\n",
        "    label=list(df_least5_bar.Country)\n",
        "    #label\n",
        "\n",
        "    fig, ax = plt.subplots(figsize=(10, 4))\n",
        "\n",
        "    ax.bar(label, df_least5_bar['Total'],label=label)\n",
        "    ax.set_title('Immigration Trend of Top 5 Countries')\n",
        "    ax.set_ylabel('Number of Immigrants')\n",
        "    ax.set_xlabel('Years')\n",
        "\n",
        "    plt.show()\n",
        " ```\n",
        "    </details>\n"
      ],
      "metadata": {
        "id": "hxjk5X8oA9Mk"
      }
    },
    {
      "cell_type": "markdown",
      "source": [
        "---\n"
      ],
      "metadata": {
        "id": "4C_nWSv3A9Mk"
      }
    },
    {
      "cell_type": "markdown",
      "source": [
        "# Histogram<a id=\"12\"></a>\n"
      ],
      "metadata": {
        "id": "5IpGx0tMA9Mk"
      }
    },
    {
      "cell_type": "markdown",
      "source": [
        "A histogram is a way of representing the *frequency* distribution of numeric dataset. The way it works is it partitions the x-axis into *bins*, assigns each data point in our dataset to a bin, and then counts the number of data points that have been assigned to each bin. So the y-axis is the frequency or the number of data points in each bin. Note that we can change the bin size and usually one needs to tweak it so that the distribution is displayed nicely.\n",
        "<br><br>Let's find out the frequency distribution of the number (population) of new immigrants from the various countries to Canada in 2013?<br>\n"
      ],
      "metadata": {
        "id": "DAVQ0Z1OA9Mk"
      }
    },
    {
      "cell_type": "code",
      "source": [
        "df_country = df_can.groupby(['Country'])['2013'].sum().reset_index()\n",
        "\n",
        "#Create figure and axes\n",
        "fig, ax = plt.subplots(figsize=(10, 4))\n",
        "ax.hist(df_country['2013'])\n",
        "ax.set_title('New Immigrants in 2013')\n",
        "ax.set_xlabel('Number of Immigrants')\n",
        "ax.set_ylabel('Number of Countries')\n",
        "ax.legend(['Immigrants'])\n",
        "\n",
        "#Display the plot\n",
        "plt.show()"
      ],
      "metadata": {
        "colab": {
          "base_uri": "https://localhost:8080/",
          "height": 70
        },
        "id": "QxY670kgA9Mk",
        "outputId": "87ed3a2c-7f04-47ba-a616-f9d1068637ea"
      },
      "outputs": [
        {
          "output_type": "execute_result",
          "data": {
            "text/plain": [
              "\"\\n#Create figure and axes\\nfig, ax = plt.subplots(figsize=(10, 4))\\nax.hist(df_country['2013'])\\nax.set_title('New Immigrants in 2013') \\nax.set_xlabel('Number of Immigrants')\\nax.set_ylabel('Number of Countries')\\nax.legend(['Immigrants'])\\n\\n#Display the plot\\nplt.show()\""
            ],
            "application/vnd.google.colaboratory.intrinsic+json": {
              "type": "string"
            }
          },
          "metadata": {},
          "execution_count": 36
        }
      ],
      "execution_count": 36
    },
    {
      "cell_type": "markdown",
      "source": [
        "Our plot doesnot match with the bars<br>By default, the `histrogram` method breaks up the dataset into 10 bins. The figure below summarizes the bin ranges and the frequency distribution of immigration in 2013<br> The hist function retuns list of arrays with 1. counts and 2. bins. we can fetch that using unpacking functionality <br> and further use the bins as x-ticks\n"
      ],
      "metadata": {
        "id": "-6Ay8UePA9Mk"
      }
    },
    {
      "cell_type": "code",
      "source": [
        "# Plot the bar\n",
        "fig, ax = plt.subplots(figsize=(10, 4))\n",
        "count = ax.hist(df_country['2013'])\n",
        "\n",
        "#you can check the arrays in count with indexing count[0] for count, count[1] for bins\n",
        "\n",
        "ax.set_title('New Immigrants in 2013')\n",
        "ax.set_xlabel('Number of Immigrants')\n",
        "ax.set_ylabel('Number of Countries')\n",
        "ax.set_xticks(list(map(int,count[1])))\n",
        "ax.legend(['Immigrants'])\n",
        "\n",
        "#Display the plot\n",
        "plt.show()"
      ],
      "metadata": {
        "colab": {
          "base_uri": "https://localhost:8080/",
          "height": 87
        },
        "id": "GwfvtqRXA9Mk",
        "outputId": "824034de-ab6d-4be9-bad4-7cb36e7328fb"
      },
      "outputs": [
        {
          "output_type": "execute_result",
          "data": {
            "text/plain": [
              "\"fig, ax = plt.subplots(figsize=(10, 4))\\ncount = ax.hist(df_country['2013'])\\n\\n#you can check the arrays in count with indexing count[0] for count, count[1] for bins\\n\\nax.set_title('New Immigrants in 2013') \\nax.set_xlabel('Number of Immigrants')\\nax.set_ylabel('Number of Countries')\\nax.set_xticks(list(map(int,count[1])))\\nax.legend(['Immigrants'])\\n\\n#Display the plot\\nplt.show()\""
            ],
            "application/vnd.google.colaboratory.intrinsic+json": {
              "type": "string"
            }
          },
          "metadata": {},
          "execution_count": 38
        }
      ],
      "execution_count": 38
    },
    {
      "cell_type": "markdown",
      "source": [
        "#### We can also plot multiple histograms on the same plot. For example, let's try to answer the following questions using a histogram.\n",
        "\n",
        "#### What is the immigration distribution for Denmark, Norway, and Sweden for years 1980 - 2013?\n"
      ],
      "metadata": {
        "id": "ULg450Y5A9Mk"
      }
    },
    {
      "cell_type": "code",
      "source": [
        "# let's quickly view the dataset\n",
        "df=df_can.groupby(['Country'])[years].sum()\n",
        "df_dns=df.loc[['Denmark', 'Norway', 'Sweden'], years]\n",
        "df_dns=df_dns.T\n",
        "df_dns"
      ],
      "metadata": {
        "colab": {
          "base_uri": "https://localhost:8080/",
          "height": 1000
        },
        "id": "2wfiA_lFA9Mk",
        "outputId": "6314ee90-a916-4c72-a36a-79facc84a686"
      },
      "outputs": [
        {
          "output_type": "execute_result",
          "data": {
            "text/plain": [
              "Country  Denmark  Norway  Sweden\n",
              "1980         272     116     281\n",
              "1981         293      77     308\n",
              "1982         299     106     222\n",
              "1983         106      51     176\n",
              "1984          93      31     128\n",
              "1985          73      54     158\n",
              "1986          93      56     187\n",
              "1987         109      80     198\n",
              "1988         129      73     171\n",
              "1989         129      76     182\n",
              "1990         118      83     130\n",
              "1991         111     103     167\n",
              "1992         158      74     179\n",
              "1993         186      92     203\n",
              "1994          93      60     192\n",
              "1995         111      65     176\n",
              "1996          70      70     161\n",
              "1997          83     104     151\n",
              "1998          63      31     123\n",
              "1999          81      36     170\n",
              "2000          93      56     138\n",
              "2001          81      78     184\n",
              "2002          70      74     149\n",
              "2003          89      77     161\n",
              "2004          89      73     129\n",
              "2005          62      57     205\n",
              "2006         101      53     139\n",
              "2007          97      73     193\n",
              "2008         108      66     165\n",
              "2009          81      75     167\n",
              "2010          92      46     159\n",
              "2011          93      49     134\n",
              "2012          94      53     140\n",
              "2013          81      59     140"
            ],
            "text/html": [
              "\n",
              "  <div id=\"df-94acb55c-ba44-4240-8a5a-3d62e0c158c9\" class=\"colab-df-container\">\n",
              "    <div>\n",
              "<style scoped>\n",
              "    .dataframe tbody tr th:only-of-type {\n",
              "        vertical-align: middle;\n",
              "    }\n",
              "\n",
              "    .dataframe tbody tr th {\n",
              "        vertical-align: top;\n",
              "    }\n",
              "\n",
              "    .dataframe thead th {\n",
              "        text-align: right;\n",
              "    }\n",
              "</style>\n",
              "<table border=\"1\" class=\"dataframe\">\n",
              "  <thead>\n",
              "    <tr style=\"text-align: right;\">\n",
              "      <th>Country</th>\n",
              "      <th>Denmark</th>\n",
              "      <th>Norway</th>\n",
              "      <th>Sweden</th>\n",
              "    </tr>\n",
              "  </thead>\n",
              "  <tbody>\n",
              "    <tr>\n",
              "      <th>1980</th>\n",
              "      <td>272</td>\n",
              "      <td>116</td>\n",
              "      <td>281</td>\n",
              "    </tr>\n",
              "    <tr>\n",
              "      <th>1981</th>\n",
              "      <td>293</td>\n",
              "      <td>77</td>\n",
              "      <td>308</td>\n",
              "    </tr>\n",
              "    <tr>\n",
              "      <th>1982</th>\n",
              "      <td>299</td>\n",
              "      <td>106</td>\n",
              "      <td>222</td>\n",
              "    </tr>\n",
              "    <tr>\n",
              "      <th>1983</th>\n",
              "      <td>106</td>\n",
              "      <td>51</td>\n",
              "      <td>176</td>\n",
              "    </tr>\n",
              "    <tr>\n",
              "      <th>1984</th>\n",
              "      <td>93</td>\n",
              "      <td>31</td>\n",
              "      <td>128</td>\n",
              "    </tr>\n",
              "    <tr>\n",
              "      <th>1985</th>\n",
              "      <td>73</td>\n",
              "      <td>54</td>\n",
              "      <td>158</td>\n",
              "    </tr>\n",
              "    <tr>\n",
              "      <th>1986</th>\n",
              "      <td>93</td>\n",
              "      <td>56</td>\n",
              "      <td>187</td>\n",
              "    </tr>\n",
              "    <tr>\n",
              "      <th>1987</th>\n",
              "      <td>109</td>\n",
              "      <td>80</td>\n",
              "      <td>198</td>\n",
              "    </tr>\n",
              "    <tr>\n",
              "      <th>1988</th>\n",
              "      <td>129</td>\n",
              "      <td>73</td>\n",
              "      <td>171</td>\n",
              "    </tr>\n",
              "    <tr>\n",
              "      <th>1989</th>\n",
              "      <td>129</td>\n",
              "      <td>76</td>\n",
              "      <td>182</td>\n",
              "    </tr>\n",
              "    <tr>\n",
              "      <th>1990</th>\n",
              "      <td>118</td>\n",
              "      <td>83</td>\n",
              "      <td>130</td>\n",
              "    </tr>\n",
              "    <tr>\n",
              "      <th>1991</th>\n",
              "      <td>111</td>\n",
              "      <td>103</td>\n",
              "      <td>167</td>\n",
              "    </tr>\n",
              "    <tr>\n",
              "      <th>1992</th>\n",
              "      <td>158</td>\n",
              "      <td>74</td>\n",
              "      <td>179</td>\n",
              "    </tr>\n",
              "    <tr>\n",
              "      <th>1993</th>\n",
              "      <td>186</td>\n",
              "      <td>92</td>\n",
              "      <td>203</td>\n",
              "    </tr>\n",
              "    <tr>\n",
              "      <th>1994</th>\n",
              "      <td>93</td>\n",
              "      <td>60</td>\n",
              "      <td>192</td>\n",
              "    </tr>\n",
              "    <tr>\n",
              "      <th>1995</th>\n",
              "      <td>111</td>\n",
              "      <td>65</td>\n",
              "      <td>176</td>\n",
              "    </tr>\n",
              "    <tr>\n",
              "      <th>1996</th>\n",
              "      <td>70</td>\n",
              "      <td>70</td>\n",
              "      <td>161</td>\n",
              "    </tr>\n",
              "    <tr>\n",
              "      <th>1997</th>\n",
              "      <td>83</td>\n",
              "      <td>104</td>\n",
              "      <td>151</td>\n",
              "    </tr>\n",
              "    <tr>\n",
              "      <th>1998</th>\n",
              "      <td>63</td>\n",
              "      <td>31</td>\n",
              "      <td>123</td>\n",
              "    </tr>\n",
              "    <tr>\n",
              "      <th>1999</th>\n",
              "      <td>81</td>\n",
              "      <td>36</td>\n",
              "      <td>170</td>\n",
              "    </tr>\n",
              "    <tr>\n",
              "      <th>2000</th>\n",
              "      <td>93</td>\n",
              "      <td>56</td>\n",
              "      <td>138</td>\n",
              "    </tr>\n",
              "    <tr>\n",
              "      <th>2001</th>\n",
              "      <td>81</td>\n",
              "      <td>78</td>\n",
              "      <td>184</td>\n",
              "    </tr>\n",
              "    <tr>\n",
              "      <th>2002</th>\n",
              "      <td>70</td>\n",
              "      <td>74</td>\n",
              "      <td>149</td>\n",
              "    </tr>\n",
              "    <tr>\n",
              "      <th>2003</th>\n",
              "      <td>89</td>\n",
              "      <td>77</td>\n",
              "      <td>161</td>\n",
              "    </tr>\n",
              "    <tr>\n",
              "      <th>2004</th>\n",
              "      <td>89</td>\n",
              "      <td>73</td>\n",
              "      <td>129</td>\n",
              "    </tr>\n",
              "    <tr>\n",
              "      <th>2005</th>\n",
              "      <td>62</td>\n",
              "      <td>57</td>\n",
              "      <td>205</td>\n",
              "    </tr>\n",
              "    <tr>\n",
              "      <th>2006</th>\n",
              "      <td>101</td>\n",
              "      <td>53</td>\n",
              "      <td>139</td>\n",
              "    </tr>\n",
              "    <tr>\n",
              "      <th>2007</th>\n",
              "      <td>97</td>\n",
              "      <td>73</td>\n",
              "      <td>193</td>\n",
              "    </tr>\n",
              "    <tr>\n",
              "      <th>2008</th>\n",
              "      <td>108</td>\n",
              "      <td>66</td>\n",
              "      <td>165</td>\n",
              "    </tr>\n",
              "    <tr>\n",
              "      <th>2009</th>\n",
              "      <td>81</td>\n",
              "      <td>75</td>\n",
              "      <td>167</td>\n",
              "    </tr>\n",
              "    <tr>\n",
              "      <th>2010</th>\n",
              "      <td>92</td>\n",
              "      <td>46</td>\n",
              "      <td>159</td>\n",
              "    </tr>\n",
              "    <tr>\n",
              "      <th>2011</th>\n",
              "      <td>93</td>\n",
              "      <td>49</td>\n",
              "      <td>134</td>\n",
              "    </tr>\n",
              "    <tr>\n",
              "      <th>2012</th>\n",
              "      <td>94</td>\n",
              "      <td>53</td>\n",
              "      <td>140</td>\n",
              "    </tr>\n",
              "    <tr>\n",
              "      <th>2013</th>\n",
              "      <td>81</td>\n",
              "      <td>59</td>\n",
              "      <td>140</td>\n",
              "    </tr>\n",
              "  </tbody>\n",
              "</table>\n",
              "</div>\n",
              "    <div class=\"colab-df-buttons\">\n",
              "\n",
              "  <div class=\"colab-df-container\">\n",
              "    <button class=\"colab-df-convert\" onclick=\"convertToInteractive('df-94acb55c-ba44-4240-8a5a-3d62e0c158c9')\"\n",
              "            title=\"Convert this dataframe to an interactive table.\"\n",
              "            style=\"display:none;\">\n",
              "\n",
              "  <svg xmlns=\"http://www.w3.org/2000/svg\" height=\"24px\" viewBox=\"0 -960 960 960\">\n",
              "    <path d=\"M120-120v-720h720v720H120Zm60-500h600v-160H180v160Zm220 220h160v-160H400v160Zm0 220h160v-160H400v160ZM180-400h160v-160H180v160Zm440 0h160v-160H620v160ZM180-180h160v-160H180v160Zm440 0h160v-160H620v160Z\"/>\n",
              "  </svg>\n",
              "    </button>\n",
              "\n",
              "  <style>\n",
              "    .colab-df-container {\n",
              "      display:flex;\n",
              "      gap: 12px;\n",
              "    }\n",
              "\n",
              "    .colab-df-convert {\n",
              "      background-color: #E8F0FE;\n",
              "      border: none;\n",
              "      border-radius: 50%;\n",
              "      cursor: pointer;\n",
              "      display: none;\n",
              "      fill: #1967D2;\n",
              "      height: 32px;\n",
              "      padding: 0 0 0 0;\n",
              "      width: 32px;\n",
              "    }\n",
              "\n",
              "    .colab-df-convert:hover {\n",
              "      background-color: #E2EBFA;\n",
              "      box-shadow: 0px 1px 2px rgba(60, 64, 67, 0.3), 0px 1px 3px 1px rgba(60, 64, 67, 0.15);\n",
              "      fill: #174EA6;\n",
              "    }\n",
              "\n",
              "    .colab-df-buttons div {\n",
              "      margin-bottom: 4px;\n",
              "    }\n",
              "\n",
              "    [theme=dark] .colab-df-convert {\n",
              "      background-color: #3B4455;\n",
              "      fill: #D2E3FC;\n",
              "    }\n",
              "\n",
              "    [theme=dark] .colab-df-convert:hover {\n",
              "      background-color: #434B5C;\n",
              "      box-shadow: 0px 1px 3px 1px rgba(0, 0, 0, 0.15);\n",
              "      filter: drop-shadow(0px 1px 2px rgba(0, 0, 0, 0.3));\n",
              "      fill: #FFFFFF;\n",
              "    }\n",
              "  </style>\n",
              "\n",
              "    <script>\n",
              "      const buttonEl =\n",
              "        document.querySelector('#df-94acb55c-ba44-4240-8a5a-3d62e0c158c9 button.colab-df-convert');\n",
              "      buttonEl.style.display =\n",
              "        google.colab.kernel.accessAllowed ? 'block' : 'none';\n",
              "\n",
              "      async function convertToInteractive(key) {\n",
              "        const element = document.querySelector('#df-94acb55c-ba44-4240-8a5a-3d62e0c158c9');\n",
              "        const dataTable =\n",
              "          await google.colab.kernel.invokeFunction('convertToInteractive',\n",
              "                                                    [key], {});\n",
              "        if (!dataTable) return;\n",
              "\n",
              "        const docLinkHtml = 'Like what you see? Visit the ' +\n",
              "          '<a target=\"_blank\" href=https://colab.research.google.com/notebooks/data_table.ipynb>data table notebook</a>'\n",
              "          + ' to learn more about interactive tables.';\n",
              "        element.innerHTML = '';\n",
              "        dataTable['output_type'] = 'display_data';\n",
              "        await google.colab.output.renderOutput(dataTable, element);\n",
              "        const docLink = document.createElement('div');\n",
              "        docLink.innerHTML = docLinkHtml;\n",
              "        element.appendChild(docLink);\n",
              "      }\n",
              "    </script>\n",
              "  </div>\n",
              "\n",
              "\n",
              "<div id=\"df-f18e35c4-a3f0-4686-aea0-d62292b16a34\">\n",
              "  <button class=\"colab-df-quickchart\" onclick=\"quickchart('df-f18e35c4-a3f0-4686-aea0-d62292b16a34')\"\n",
              "            title=\"Suggest charts\"\n",
              "            style=\"display:none;\">\n",
              "\n",
              "<svg xmlns=\"http://www.w3.org/2000/svg\" height=\"24px\"viewBox=\"0 0 24 24\"\n",
              "     width=\"24px\">\n",
              "    <g>\n",
              "        <path d=\"M19 3H5c-1.1 0-2 .9-2 2v14c0 1.1.9 2 2 2h14c1.1 0 2-.9 2-2V5c0-1.1-.9-2-2-2zM9 17H7v-7h2v7zm4 0h-2V7h2v10zm4 0h-2v-4h2v4z\"/>\n",
              "    </g>\n",
              "</svg>\n",
              "  </button>\n",
              "\n",
              "<style>\n",
              "  .colab-df-quickchart {\n",
              "      --bg-color: #E8F0FE;\n",
              "      --fill-color: #1967D2;\n",
              "      --hover-bg-color: #E2EBFA;\n",
              "      --hover-fill-color: #174EA6;\n",
              "      --disabled-fill-color: #AAA;\n",
              "      --disabled-bg-color: #DDD;\n",
              "  }\n",
              "\n",
              "  [theme=dark] .colab-df-quickchart {\n",
              "      --bg-color: #3B4455;\n",
              "      --fill-color: #D2E3FC;\n",
              "      --hover-bg-color: #434B5C;\n",
              "      --hover-fill-color: #FFFFFF;\n",
              "      --disabled-bg-color: #3B4455;\n",
              "      --disabled-fill-color: #666;\n",
              "  }\n",
              "\n",
              "  .colab-df-quickchart {\n",
              "    background-color: var(--bg-color);\n",
              "    border: none;\n",
              "    border-radius: 50%;\n",
              "    cursor: pointer;\n",
              "    display: none;\n",
              "    fill: var(--fill-color);\n",
              "    height: 32px;\n",
              "    padding: 0;\n",
              "    width: 32px;\n",
              "  }\n",
              "\n",
              "  .colab-df-quickchart:hover {\n",
              "    background-color: var(--hover-bg-color);\n",
              "    box-shadow: 0 1px 2px rgba(60, 64, 67, 0.3), 0 1px 3px 1px rgba(60, 64, 67, 0.15);\n",
              "    fill: var(--button-hover-fill-color);\n",
              "  }\n",
              "\n",
              "  .colab-df-quickchart-complete:disabled,\n",
              "  .colab-df-quickchart-complete:disabled:hover {\n",
              "    background-color: var(--disabled-bg-color);\n",
              "    fill: var(--disabled-fill-color);\n",
              "    box-shadow: none;\n",
              "  }\n",
              "\n",
              "  .colab-df-spinner {\n",
              "    border: 2px solid var(--fill-color);\n",
              "    border-color: transparent;\n",
              "    border-bottom-color: var(--fill-color);\n",
              "    animation:\n",
              "      spin 1s steps(1) infinite;\n",
              "  }\n",
              "\n",
              "  @keyframes spin {\n",
              "    0% {\n",
              "      border-color: transparent;\n",
              "      border-bottom-color: var(--fill-color);\n",
              "      border-left-color: var(--fill-color);\n",
              "    }\n",
              "    20% {\n",
              "      border-color: transparent;\n",
              "      border-left-color: var(--fill-color);\n",
              "      border-top-color: var(--fill-color);\n",
              "    }\n",
              "    30% {\n",
              "      border-color: transparent;\n",
              "      border-left-color: var(--fill-color);\n",
              "      border-top-color: var(--fill-color);\n",
              "      border-right-color: var(--fill-color);\n",
              "    }\n",
              "    40% {\n",
              "      border-color: transparent;\n",
              "      border-right-color: var(--fill-color);\n",
              "      border-top-color: var(--fill-color);\n",
              "    }\n",
              "    60% {\n",
              "      border-color: transparent;\n",
              "      border-right-color: var(--fill-color);\n",
              "    }\n",
              "    80% {\n",
              "      border-color: transparent;\n",
              "      border-right-color: var(--fill-color);\n",
              "      border-bottom-color: var(--fill-color);\n",
              "    }\n",
              "    90% {\n",
              "      border-color: transparent;\n",
              "      border-bottom-color: var(--fill-color);\n",
              "    }\n",
              "  }\n",
              "</style>\n",
              "\n",
              "  <script>\n",
              "    async function quickchart(key) {\n",
              "      const quickchartButtonEl =\n",
              "        document.querySelector('#' + key + ' button');\n",
              "      quickchartButtonEl.disabled = true;  // To prevent multiple clicks.\n",
              "      quickchartButtonEl.classList.add('colab-df-spinner');\n",
              "      try {\n",
              "        const charts = await google.colab.kernel.invokeFunction(\n",
              "            'suggestCharts', [key], {});\n",
              "      } catch (error) {\n",
              "        console.error('Error during call to suggestCharts:', error);\n",
              "      }\n",
              "      quickchartButtonEl.classList.remove('colab-df-spinner');\n",
              "      quickchartButtonEl.classList.add('colab-df-quickchart-complete');\n",
              "    }\n",
              "    (() => {\n",
              "      let quickchartButtonEl =\n",
              "        document.querySelector('#df-f18e35c4-a3f0-4686-aea0-d62292b16a34 button');\n",
              "      quickchartButtonEl.style.display =\n",
              "        google.colab.kernel.accessAllowed ? 'block' : 'none';\n",
              "    })();\n",
              "  </script>\n",
              "</div>\n",
              "\n",
              "  <div id=\"id_e21ea57a-af83-4f46-817e-857decfb197a\">\n",
              "    <style>\n",
              "      .colab-df-generate {\n",
              "        background-color: #E8F0FE;\n",
              "        border: none;\n",
              "        border-radius: 50%;\n",
              "        cursor: pointer;\n",
              "        display: none;\n",
              "        fill: #1967D2;\n",
              "        height: 32px;\n",
              "        padding: 0 0 0 0;\n",
              "        width: 32px;\n",
              "      }\n",
              "\n",
              "      .colab-df-generate:hover {\n",
              "        background-color: #E2EBFA;\n",
              "        box-shadow: 0px 1px 2px rgba(60, 64, 67, 0.3), 0px 1px 3px 1px rgba(60, 64, 67, 0.15);\n",
              "        fill: #174EA6;\n",
              "      }\n",
              "\n",
              "      [theme=dark] .colab-df-generate {\n",
              "        background-color: #3B4455;\n",
              "        fill: #D2E3FC;\n",
              "      }\n",
              "\n",
              "      [theme=dark] .colab-df-generate:hover {\n",
              "        background-color: #434B5C;\n",
              "        box-shadow: 0px 1px 3px 1px rgba(0, 0, 0, 0.15);\n",
              "        filter: drop-shadow(0px 1px 2px rgba(0, 0, 0, 0.3));\n",
              "        fill: #FFFFFF;\n",
              "      }\n",
              "    </style>\n",
              "    <button class=\"colab-df-generate\" onclick=\"generateWithVariable('df_dns')\"\n",
              "            title=\"Generate code using this dataframe.\"\n",
              "            style=\"display:none;\">\n",
              "\n",
              "  <svg xmlns=\"http://www.w3.org/2000/svg\" height=\"24px\"viewBox=\"0 0 24 24\"\n",
              "       width=\"24px\">\n",
              "    <path d=\"M7,19H8.4L18.45,9,17,7.55,7,17.6ZM5,21V16.75L18.45,3.32a2,2,0,0,1,2.83,0l1.4,1.43a1.91,1.91,0,0,1,.58,1.4,1.91,1.91,0,0,1-.58,1.4L9.25,21ZM18.45,9,17,7.55Zm-12,3A5.31,5.31,0,0,0,4.9,8.1,5.31,5.31,0,0,0,1,6.5,5.31,5.31,0,0,0,4.9,4.9,5.31,5.31,0,0,0,6.5,1,5.31,5.31,0,0,0,8.1,4.9,5.31,5.31,0,0,0,12,6.5,5.46,5.46,0,0,0,6.5,12Z\"/>\n",
              "  </svg>\n",
              "    </button>\n",
              "    <script>\n",
              "      (() => {\n",
              "      const buttonEl =\n",
              "        document.querySelector('#id_e21ea57a-af83-4f46-817e-857decfb197a button.colab-df-generate');\n",
              "      buttonEl.style.display =\n",
              "        google.colab.kernel.accessAllowed ? 'block' : 'none';\n",
              "\n",
              "      buttonEl.onclick = () => {\n",
              "        google.colab.notebook.generateWithVariable('df_dns');\n",
              "      }\n",
              "      })();\n",
              "    </script>\n",
              "  </div>\n",
              "\n",
              "    </div>\n",
              "  </div>\n"
            ],
            "application/vnd.google.colaboratory.intrinsic+json": {
              "type": "dataframe",
              "variable_name": "df_dns",
              "summary": "{\n  \"name\": \"df_dns\",\n  \"rows\": 34,\n  \"fields\": [\n    {\n      \"column\": \"Denmark\",\n      \"properties\": {\n        \"dtype\": \"number\",\n        \"std\": 60,\n        \"min\": 62,\n        \"max\": 299,\n        \"num_unique_values\": 23,\n        \"samples\": [\n          81,\n          111,\n          272\n        ],\n        \"semantic_type\": \"\",\n        \"description\": \"\"\n      }\n    },\n    {\n      \"column\": \"Norway\",\n      \"properties\": {\n        \"dtype\": \"number\",\n        \"std\": 20,\n        \"min\": 31,\n        \"max\": 116,\n        \"num_unique_values\": 27,\n        \"samples\": [\n          73,\n          92,\n          76\n        ],\n        \"semantic_type\": \"\",\n        \"description\": \"\"\n      }\n    },\n    {\n      \"column\": \"Sweden\",\n      \"properties\": {\n        \"dtype\": \"number\",\n        \"std\": 39,\n        \"min\": 123,\n        \"max\": 308,\n        \"num_unique_values\": 30,\n        \"samples\": [\n          159,\n          161,\n          205\n        ],\n        \"semantic_type\": \"\",\n        \"description\": \"\"\n      }\n    }\n  ]\n}"
            }
          },
          "metadata": {},
          "execution_count": 39
        }
      ],
      "execution_count": 39
    },
    {
      "cell_type": "code",
      "source": [
        "#Create figure and axes\n",
        "fig, ax = plt.subplots(figsize=(10, 4))\n",
        "ax.hist(df_dns)\n",
        "ax.set_title('Immigration from Denmark, Norway, and Sweden from 1980 - 2013')\n",
        "ax.set_xlabel('Number of Immigrants')\n",
        "ax.set_ylabel('Number of Years')\n",
        "ax.legend(['Denmark', 'Norway', 'Sweden'])\n",
        "#Display the plot\n",
        "plt.show()"
      ],
      "metadata": {
        "colab": {
          "base_uri": "https://localhost:8080/",
          "height": 70
        },
        "id": "1WWdnvTqA9Ml",
        "outputId": "ebd332cb-e427-41f5-fce7-2ac2e73b4611"
      },
      "outputs": [
        {
          "output_type": "execute_result",
          "data": {
            "text/plain": [
              "\"fig, ax = plt.subplots(figsize=(10, 4))\\nax.hist(df_dns)\\nax.set_title('Immigration from Denmark, Norway, and Sweden from 1980 - 2013') \\nax.set_xlabel('Number of Immigrants')\\nax.set_ylabel('Number of Years')\\nax.legend(['Denmark', 'Norway', 'Sweden'])\\n#Display the plot\\nplt.show()\""
            ],
            "application/vnd.google.colaboratory.intrinsic+json": {
              "type": "string"
            }
          },
          "metadata": {},
          "execution_count": 41
        }
      ],
      "execution_count": 41
    },
    {
      "cell_type": "markdown",
      "source": [
        "### Question: What is the immigration distribution for China and India for years 2000 to 2013?\n"
      ],
      "metadata": {
        "id": "QSWk54taA9Ml"
      }
    },
    {
      "cell_type": "code",
      "source": [
        "# let's quickly view the dataset\n",
        "df=df_can.groupby(['Country'])[years].sum()\n",
        "y=list(map(str,range(2000, 2014)))\n",
        "df_ci=df.loc[['China', 'India'], y]\n",
        "df_ci=df_ci.T\n",
        "#df_ci\n",
        "fig, ax = plt.subplots(figsize=(10, 4))\n",
        "ax.hist(df_ci)\n",
        "ax.set_title('Immigration from Denmark, Norway, and Sweden from 1980 - 2013')\n",
        "ax.set_xlabel('Number of Immigrants')\n",
        "ax.set_ylabel('Number of Years')\n",
        "ax.legend(['China', 'India'])\n",
        "#Display the plot\n",
        "plt.show()"
      ],
      "metadata": {
        "colab": {
          "base_uri": "https://localhost:8080/",
          "height": 87
        },
        "id": "oLEhyWFJA9Ml",
        "outputId": "872060ab-9c55-4ba8-dcbc-0a80363b672d"
      },
      "outputs": [
        {
          "output_type": "execute_result",
          "data": {
            "text/plain": [
              "\"df=df_can.groupby(['Country'])[years].sum()\\ny=list(map(str,range(2000, 2014)))\\ndf_ci=df.loc[['China', 'India'], y]\\ndf_ci=df_ci.T\\n#df_ci\\nfig, ax = plt.subplots(figsize=(10, 4))\\nax.hist(df_ci)\\nax.set_title('Immigration from Denmark, Norway, and Sweden from 1980 - 2013') \\nax.set_xlabel('Number of Immigrants')\\nax.set_ylabel('Number of Years')\\nax.legend(['China', 'India'])\\n#Display the plot\\nplt.show()\""
            ],
            "application/vnd.google.colaboratory.intrinsic+json": {
              "type": "string"
            }
          },
          "metadata": {},
          "execution_count": 43
        }
      ],
      "execution_count": 43
    },
    {
      "cell_type": "markdown",
      "source": [
        "<details><summary>Click here for a sample python solution</summary>\n",
        "\n",
        "```python\n",
        "    # let's quickly view the dataset\n",
        "    df=df_can.groupby(['Country'])[years].sum()\n",
        "    y=list(map(str,range(2000, 2014)))\n",
        "    df_ci=df.loc[['China', 'India'], y]\n",
        "    df_ci=df_ci.T\n",
        "    #df_ci\n",
        "    fig, ax = plt.subplots(figsize=(10, 4))\n",
        "    ax.hist(df_ci)\n",
        "    ax.set_title('Immigration from Denmark, Norway, and Sweden from 1980 - 2013')\n",
        "    ax.set_xlabel('Number of Immigrants')\n",
        "    ax.set_ylabel('Number of Years')\n",
        "    ax.legend(['China', 'India'])\n",
        "    #Display the plot\n",
        "    plt.show()\n",
        "```\n",
        "</details>\n"
      ],
      "metadata": {
        "id": "kialFwdxA9Ml"
      }
    },
    {
      "cell_type": "markdown",
      "source": [
        "---\n"
      ],
      "metadata": {
        "id": "tUKKxwMaA9Ml"
      }
    },
    {
      "cell_type": "markdown",
      "source": [
        "# Pie Chart<a id=\"14\"></a>\n",
        "\n",
        "A pie chart represents the proportion or percentage distribution of different categories in a dataset using sectors of a circular pie.\n",
        "<br> Let's create a pie chart representing the 'Total Immigrants' for the year 1980 to 1985\n"
      ],
      "metadata": {
        "id": "WvJX1EW9A9Ml"
      }
    },
    {
      "cell_type": "code",
      "source": [
        "fig,ax=plt.subplots()\n",
        "\n",
        "#Pie on immigrants\n",
        "ax.pie(total_immigrants[0:5], labels=years[0:5],\n",
        "       colors = ['gold','blue','lightgreen','coral','cyan'],\n",
        "       autopct='%1.1f%%',explode = [0,0,0,0,0.1]) #using explode to highlight the lowest\n",
        "\n",
        "ax.set_aspect('equal')  # Ensure pie is drawn as a circle\n",
        "\n",
        "plt.title('Distribution of Immigrants from 1980 to 1985')\n",
        "#plt.legend(years[0:5]), include legend, if you donot want to pass the labels\n",
        "plt.show()"
      ],
      "metadata": {
        "colab": {
          "base_uri": "https://localhost:8080/",
          "height": 105
        },
        "id": "a6dp6xiEA9Ml",
        "outputId": "533d7122-7bf6-49f3-b557-cc0abeae7d0f"
      },
      "outputs": [
        {
          "output_type": "execute_result",
          "data": {
            "text/plain": [
              "\"fig,ax=plt.subplots()\\n\\n#Pie on immigrants\\nax.pie(total_immigrants[0:5], labels=years[0:5], \\n       colors = ['gold','blue','lightgreen','coral','cyan'],\\n       autopct='%1.1f%%',explode = [0,0,0,0,0.1]) #using explode to highlight the lowest \\n\\nax.set_aspect('equal')  # Ensure pie is drawn as a circle\\n\\nplt.title('Distribution of Immigrants from 1980 to 1985')\\n#plt.legend(years[0:5]), include legend, if you donot want to pass the labels\\nplt.show()\""
            ],
            "application/vnd.google.colaboratory.intrinsic+json": {
              "type": "string"
            }
          },
          "metadata": {},
          "execution_count": 45
        }
      ],
      "execution_count": 45
    },
    {
      "cell_type": "markdown",
      "source": [
        "### Question: Create a pie chart representing the total immigrants proportion for each continent\n",
        "\n",
        "First, you will have to group the data over continents and get the sum on total. Then you can pass this data to the pie function\n"
      ],
      "metadata": {
        "id": "9XLKSQGwA9Ml"
      }
    },
    {
      "cell_type": "code",
      "source": [
        "#Creating data for plotting pie\n",
        "df_con=df_can.groupby('Continent')['Total'].sum().reset_index()\n",
        "label=list(df_con.Continent)\n",
        "label[3] = 'LAC'\n",
        "label[4] = 'NA'\n",
        "df_con"
      ],
      "metadata": {
        "colab": {
          "base_uri": "https://localhost:8080/",
          "height": 238
        },
        "id": "7WnulqGAA9Ml",
        "outputId": "730333a6-fa34-4ee7-cfa5-c995438a3c55"
      },
      "outputs": [
        {
          "output_type": "execute_result",
          "data": {
            "text/plain": [
              "                         Continent    Total\n",
              "0                           Africa   618948\n",
              "1                             Asia  3317794\n",
              "2                           Europe  1410947\n",
              "3  Latin America and the Caribbean   765148\n",
              "4                 Northern America   241142\n",
              "5                          Oceania    55174"
            ],
            "text/html": [
              "\n",
              "  <div id=\"df-7a263dfb-48b2-4d25-9611-feb7d708ab6f\" class=\"colab-df-container\">\n",
              "    <div>\n",
              "<style scoped>\n",
              "    .dataframe tbody tr th:only-of-type {\n",
              "        vertical-align: middle;\n",
              "    }\n",
              "\n",
              "    .dataframe tbody tr th {\n",
              "        vertical-align: top;\n",
              "    }\n",
              "\n",
              "    .dataframe thead th {\n",
              "        text-align: right;\n",
              "    }\n",
              "</style>\n",
              "<table border=\"1\" class=\"dataframe\">\n",
              "  <thead>\n",
              "    <tr style=\"text-align: right;\">\n",
              "      <th></th>\n",
              "      <th>Continent</th>\n",
              "      <th>Total</th>\n",
              "    </tr>\n",
              "  </thead>\n",
              "  <tbody>\n",
              "    <tr>\n",
              "      <th>0</th>\n",
              "      <td>Africa</td>\n",
              "      <td>618948</td>\n",
              "    </tr>\n",
              "    <tr>\n",
              "      <th>1</th>\n",
              "      <td>Asia</td>\n",
              "      <td>3317794</td>\n",
              "    </tr>\n",
              "    <tr>\n",
              "      <th>2</th>\n",
              "      <td>Europe</td>\n",
              "      <td>1410947</td>\n",
              "    </tr>\n",
              "    <tr>\n",
              "      <th>3</th>\n",
              "      <td>Latin America and the Caribbean</td>\n",
              "      <td>765148</td>\n",
              "    </tr>\n",
              "    <tr>\n",
              "      <th>4</th>\n",
              "      <td>Northern America</td>\n",
              "      <td>241142</td>\n",
              "    </tr>\n",
              "    <tr>\n",
              "      <th>5</th>\n",
              "      <td>Oceania</td>\n",
              "      <td>55174</td>\n",
              "    </tr>\n",
              "  </tbody>\n",
              "</table>\n",
              "</div>\n",
              "    <div class=\"colab-df-buttons\">\n",
              "\n",
              "  <div class=\"colab-df-container\">\n",
              "    <button class=\"colab-df-convert\" onclick=\"convertToInteractive('df-7a263dfb-48b2-4d25-9611-feb7d708ab6f')\"\n",
              "            title=\"Convert this dataframe to an interactive table.\"\n",
              "            style=\"display:none;\">\n",
              "\n",
              "  <svg xmlns=\"http://www.w3.org/2000/svg\" height=\"24px\" viewBox=\"0 -960 960 960\">\n",
              "    <path d=\"M120-120v-720h720v720H120Zm60-500h600v-160H180v160Zm220 220h160v-160H400v160Zm0 220h160v-160H400v160ZM180-400h160v-160H180v160Zm440 0h160v-160H620v160ZM180-180h160v-160H180v160Zm440 0h160v-160H620v160Z\"/>\n",
              "  </svg>\n",
              "    </button>\n",
              "\n",
              "  <style>\n",
              "    .colab-df-container {\n",
              "      display:flex;\n",
              "      gap: 12px;\n",
              "    }\n",
              "\n",
              "    .colab-df-convert {\n",
              "      background-color: #E8F0FE;\n",
              "      border: none;\n",
              "      border-radius: 50%;\n",
              "      cursor: pointer;\n",
              "      display: none;\n",
              "      fill: #1967D2;\n",
              "      height: 32px;\n",
              "      padding: 0 0 0 0;\n",
              "      width: 32px;\n",
              "    }\n",
              "\n",
              "    .colab-df-convert:hover {\n",
              "      background-color: #E2EBFA;\n",
              "      box-shadow: 0px 1px 2px rgba(60, 64, 67, 0.3), 0px 1px 3px 1px rgba(60, 64, 67, 0.15);\n",
              "      fill: #174EA6;\n",
              "    }\n",
              "\n",
              "    .colab-df-buttons div {\n",
              "      margin-bottom: 4px;\n",
              "    }\n",
              "\n",
              "    [theme=dark] .colab-df-convert {\n",
              "      background-color: #3B4455;\n",
              "      fill: #D2E3FC;\n",
              "    }\n",
              "\n",
              "    [theme=dark] .colab-df-convert:hover {\n",
              "      background-color: #434B5C;\n",
              "      box-shadow: 0px 1px 3px 1px rgba(0, 0, 0, 0.15);\n",
              "      filter: drop-shadow(0px 1px 2px rgba(0, 0, 0, 0.3));\n",
              "      fill: #FFFFFF;\n",
              "    }\n",
              "  </style>\n",
              "\n",
              "    <script>\n",
              "      const buttonEl =\n",
              "        document.querySelector('#df-7a263dfb-48b2-4d25-9611-feb7d708ab6f button.colab-df-convert');\n",
              "      buttonEl.style.display =\n",
              "        google.colab.kernel.accessAllowed ? 'block' : 'none';\n",
              "\n",
              "      async function convertToInteractive(key) {\n",
              "        const element = document.querySelector('#df-7a263dfb-48b2-4d25-9611-feb7d708ab6f');\n",
              "        const dataTable =\n",
              "          await google.colab.kernel.invokeFunction('convertToInteractive',\n",
              "                                                    [key], {});\n",
              "        if (!dataTable) return;\n",
              "\n",
              "        const docLinkHtml = 'Like what you see? Visit the ' +\n",
              "          '<a target=\"_blank\" href=https://colab.research.google.com/notebooks/data_table.ipynb>data table notebook</a>'\n",
              "          + ' to learn more about interactive tables.';\n",
              "        element.innerHTML = '';\n",
              "        dataTable['output_type'] = 'display_data';\n",
              "        await google.colab.output.renderOutput(dataTable, element);\n",
              "        const docLink = document.createElement('div');\n",
              "        docLink.innerHTML = docLinkHtml;\n",
              "        element.appendChild(docLink);\n",
              "      }\n",
              "    </script>\n",
              "  </div>\n",
              "\n",
              "\n",
              "<div id=\"df-5177a49c-13a7-40a0-919a-e5f833c995f0\">\n",
              "  <button class=\"colab-df-quickchart\" onclick=\"quickchart('df-5177a49c-13a7-40a0-919a-e5f833c995f0')\"\n",
              "            title=\"Suggest charts\"\n",
              "            style=\"display:none;\">\n",
              "\n",
              "<svg xmlns=\"http://www.w3.org/2000/svg\" height=\"24px\"viewBox=\"0 0 24 24\"\n",
              "     width=\"24px\">\n",
              "    <g>\n",
              "        <path d=\"M19 3H5c-1.1 0-2 .9-2 2v14c0 1.1.9 2 2 2h14c1.1 0 2-.9 2-2V5c0-1.1-.9-2-2-2zM9 17H7v-7h2v7zm4 0h-2V7h2v10zm4 0h-2v-4h2v4z\"/>\n",
              "    </g>\n",
              "</svg>\n",
              "  </button>\n",
              "\n",
              "<style>\n",
              "  .colab-df-quickchart {\n",
              "      --bg-color: #E8F0FE;\n",
              "      --fill-color: #1967D2;\n",
              "      --hover-bg-color: #E2EBFA;\n",
              "      --hover-fill-color: #174EA6;\n",
              "      --disabled-fill-color: #AAA;\n",
              "      --disabled-bg-color: #DDD;\n",
              "  }\n",
              "\n",
              "  [theme=dark] .colab-df-quickchart {\n",
              "      --bg-color: #3B4455;\n",
              "      --fill-color: #D2E3FC;\n",
              "      --hover-bg-color: #434B5C;\n",
              "      --hover-fill-color: #FFFFFF;\n",
              "      --disabled-bg-color: #3B4455;\n",
              "      --disabled-fill-color: #666;\n",
              "  }\n",
              "\n",
              "  .colab-df-quickchart {\n",
              "    background-color: var(--bg-color);\n",
              "    border: none;\n",
              "    border-radius: 50%;\n",
              "    cursor: pointer;\n",
              "    display: none;\n",
              "    fill: var(--fill-color);\n",
              "    height: 32px;\n",
              "    padding: 0;\n",
              "    width: 32px;\n",
              "  }\n",
              "\n",
              "  .colab-df-quickchart:hover {\n",
              "    background-color: var(--hover-bg-color);\n",
              "    box-shadow: 0 1px 2px rgba(60, 64, 67, 0.3), 0 1px 3px 1px rgba(60, 64, 67, 0.15);\n",
              "    fill: var(--button-hover-fill-color);\n",
              "  }\n",
              "\n",
              "  .colab-df-quickchart-complete:disabled,\n",
              "  .colab-df-quickchart-complete:disabled:hover {\n",
              "    background-color: var(--disabled-bg-color);\n",
              "    fill: var(--disabled-fill-color);\n",
              "    box-shadow: none;\n",
              "  }\n",
              "\n",
              "  .colab-df-spinner {\n",
              "    border: 2px solid var(--fill-color);\n",
              "    border-color: transparent;\n",
              "    border-bottom-color: var(--fill-color);\n",
              "    animation:\n",
              "      spin 1s steps(1) infinite;\n",
              "  }\n",
              "\n",
              "  @keyframes spin {\n",
              "    0% {\n",
              "      border-color: transparent;\n",
              "      border-bottom-color: var(--fill-color);\n",
              "      border-left-color: var(--fill-color);\n",
              "    }\n",
              "    20% {\n",
              "      border-color: transparent;\n",
              "      border-left-color: var(--fill-color);\n",
              "      border-top-color: var(--fill-color);\n",
              "    }\n",
              "    30% {\n",
              "      border-color: transparent;\n",
              "      border-left-color: var(--fill-color);\n",
              "      border-top-color: var(--fill-color);\n",
              "      border-right-color: var(--fill-color);\n",
              "    }\n",
              "    40% {\n",
              "      border-color: transparent;\n",
              "      border-right-color: var(--fill-color);\n",
              "      border-top-color: var(--fill-color);\n",
              "    }\n",
              "    60% {\n",
              "      border-color: transparent;\n",
              "      border-right-color: var(--fill-color);\n",
              "    }\n",
              "    80% {\n",
              "      border-color: transparent;\n",
              "      border-right-color: var(--fill-color);\n",
              "      border-bottom-color: var(--fill-color);\n",
              "    }\n",
              "    90% {\n",
              "      border-color: transparent;\n",
              "      border-bottom-color: var(--fill-color);\n",
              "    }\n",
              "  }\n",
              "</style>\n",
              "\n",
              "  <script>\n",
              "    async function quickchart(key) {\n",
              "      const quickchartButtonEl =\n",
              "        document.querySelector('#' + key + ' button');\n",
              "      quickchartButtonEl.disabled = true;  // To prevent multiple clicks.\n",
              "      quickchartButtonEl.classList.add('colab-df-spinner');\n",
              "      try {\n",
              "        const charts = await google.colab.kernel.invokeFunction(\n",
              "            'suggestCharts', [key], {});\n",
              "      } catch (error) {\n",
              "        console.error('Error during call to suggestCharts:', error);\n",
              "      }\n",
              "      quickchartButtonEl.classList.remove('colab-df-spinner');\n",
              "      quickchartButtonEl.classList.add('colab-df-quickchart-complete');\n",
              "    }\n",
              "    (() => {\n",
              "      let quickchartButtonEl =\n",
              "        document.querySelector('#df-5177a49c-13a7-40a0-919a-e5f833c995f0 button');\n",
              "      quickchartButtonEl.style.display =\n",
              "        google.colab.kernel.accessAllowed ? 'block' : 'none';\n",
              "    })();\n",
              "  </script>\n",
              "</div>\n",
              "\n",
              "  <div id=\"id_d86d0701-7ae3-4b92-97f9-f5782426ed70\">\n",
              "    <style>\n",
              "      .colab-df-generate {\n",
              "        background-color: #E8F0FE;\n",
              "        border: none;\n",
              "        border-radius: 50%;\n",
              "        cursor: pointer;\n",
              "        display: none;\n",
              "        fill: #1967D2;\n",
              "        height: 32px;\n",
              "        padding: 0 0 0 0;\n",
              "        width: 32px;\n",
              "      }\n",
              "\n",
              "      .colab-df-generate:hover {\n",
              "        background-color: #E2EBFA;\n",
              "        box-shadow: 0px 1px 2px rgba(60, 64, 67, 0.3), 0px 1px 3px 1px rgba(60, 64, 67, 0.15);\n",
              "        fill: #174EA6;\n",
              "      }\n",
              "\n",
              "      [theme=dark] .colab-df-generate {\n",
              "        background-color: #3B4455;\n",
              "        fill: #D2E3FC;\n",
              "      }\n",
              "\n",
              "      [theme=dark] .colab-df-generate:hover {\n",
              "        background-color: #434B5C;\n",
              "        box-shadow: 0px 1px 3px 1px rgba(0, 0, 0, 0.15);\n",
              "        filter: drop-shadow(0px 1px 2px rgba(0, 0, 0, 0.3));\n",
              "        fill: #FFFFFF;\n",
              "      }\n",
              "    </style>\n",
              "    <button class=\"colab-df-generate\" onclick=\"generateWithVariable('df_con')\"\n",
              "            title=\"Generate code using this dataframe.\"\n",
              "            style=\"display:none;\">\n",
              "\n",
              "  <svg xmlns=\"http://www.w3.org/2000/svg\" height=\"24px\"viewBox=\"0 0 24 24\"\n",
              "       width=\"24px\">\n",
              "    <path d=\"M7,19H8.4L18.45,9,17,7.55,7,17.6ZM5,21V16.75L18.45,3.32a2,2,0,0,1,2.83,0l1.4,1.43a1.91,1.91,0,0,1,.58,1.4,1.91,1.91,0,0,1-.58,1.4L9.25,21ZM18.45,9,17,7.55Zm-12,3A5.31,5.31,0,0,0,4.9,8.1,5.31,5.31,0,0,0,1,6.5,5.31,5.31,0,0,0,4.9,4.9,5.31,5.31,0,0,0,6.5,1,5.31,5.31,0,0,0,8.1,4.9,5.31,5.31,0,0,0,12,6.5,5.46,5.46,0,0,0,6.5,12Z\"/>\n",
              "  </svg>\n",
              "    </button>\n",
              "    <script>\n",
              "      (() => {\n",
              "      const buttonEl =\n",
              "        document.querySelector('#id_d86d0701-7ae3-4b92-97f9-f5782426ed70 button.colab-df-generate');\n",
              "      buttonEl.style.display =\n",
              "        google.colab.kernel.accessAllowed ? 'block' : 'none';\n",
              "\n",
              "      buttonEl.onclick = () => {\n",
              "        google.colab.notebook.generateWithVariable('df_con');\n",
              "      }\n",
              "      })();\n",
              "    </script>\n",
              "  </div>\n",
              "\n",
              "    </div>\n",
              "  </div>\n"
            ],
            "application/vnd.google.colaboratory.intrinsic+json": {
              "type": "dataframe",
              "variable_name": "df_con",
              "summary": "{\n  \"name\": \"df_con\",\n  \"rows\": 6,\n  \"fields\": [\n    {\n      \"column\": \"Continent\",\n      \"properties\": {\n        \"dtype\": \"string\",\n        \"num_unique_values\": 6,\n        \"samples\": [\n          \"Africa\",\n          \"Asia\",\n          \"Oceania\"\n        ],\n        \"semantic_type\": \"\",\n        \"description\": \"\"\n      }\n    },\n    {\n      \"column\": \"Total\",\n      \"properties\": {\n        \"dtype\": \"number\",\n        \"std\": 1198504,\n        \"min\": 55174,\n        \"max\": 3317794,\n        \"num_unique_values\": 6,\n        \"samples\": [\n          618948,\n          3317794,\n          55174\n        ],\n        \"semantic_type\": \"\",\n        \"description\": \"\"\n      }\n    }\n  ]\n}"
            }
          },
          "metadata": {},
          "execution_count": 46
        }
      ],
      "execution_count": 46
    },
    {
      "cell_type": "code",
      "source": [
        "fig,ax=plt.subplots(figsize=(10, 4))\n",
        "\n",
        "#Pie on immigrants\n",
        "ax.pie(df_con['Total'], colors = ['gold','blue','lightgreen','coral','cyan','red'],\n",
        "       autopct='%1.1f%%', pctdistance=1.25)\n",
        "\n",
        "ax.set_aspect('equal')  # Ensure pie is drawn as a circle\n",
        "\n",
        "plt.title('Continent-wise distribution of immigrants')\n",
        "ax.legend(label,bbox_to_anchor=(1, 0, 0.5, 1))\n",
        "plt.show()"
      ],
      "metadata": {
        "colab": {
          "base_uri": "https://localhost:8080/",
          "height": 87
        },
        "id": "EFTP4_bgA9Ml",
        "outputId": "137fc882-2daa-43e0-efa8-13a57837f1d7"
      },
      "outputs": [
        {
          "output_type": "execute_result",
          "data": {
            "text/plain": [
              "\"fig,ax=plt.subplots(figsize=(10, 4))\\n\\n#Pie on immigrants\\nax.pie(df_con['Total'], colors = ['gold','blue','lightgreen','coral','cyan','red'],\\n       autopct='%1.1f%%', pctdistance=1.25)\\n\\nax.set_aspect('equal')  # Ensure pie is drawn as a circle\\n\\nplt.title('Continent-wise distribution of immigrants')\\nax.legend(label,bbox_to_anchor=(1, 0, 0.5, 1))\\nplt.show()\""
            ],
            "application/vnd.google.colaboratory.intrinsic+json": {
              "type": "string"
            }
          },
          "metadata": {},
          "execution_count": 48
        }
      ],
      "execution_count": 48
    },
    {
      "cell_type": "markdown",
      "source": [
        "<details><summary>Click here for a sample python solution</summary>\n",
        "\n",
        "```python\n",
        "    fig,ax=plt.subplots(figsize=(10, 4))\n",
        "\n",
        "    #Pie on immigrants\n",
        "    ax.pie(df_con['Total'], colors = ['gold','blue','lightgreen','coral','cyan','red'],\n",
        "           autopct='%1.1f%%', pctdistance=1.25)\n",
        "\n",
        "    ax.set_aspect('equal')  # Ensure pie is drawn as a circle\n",
        "\n",
        "    plt.title('Continent-wise distribution of immigrants')\n",
        "    ax.legend(label,bbox_to_anchor=(1, 0, 0.5, 1))\n",
        "    plt.show()\n",
        " ```\n",
        "    </details>\n"
      ],
      "metadata": {
        "id": "4c1XdvgEA9Ml"
      }
    },
    {
      "cell_type": "markdown",
      "source": [
        "---\n"
      ],
      "metadata": {
        "id": "vX5_XPqsA9Ml"
      }
    },
    {
      "cell_type": "markdown",
      "source": [
        "# Sub-plotting<a id=\"18\"></a>\n"
      ],
      "metadata": {
        "id": "k8M3-bDXA9Mm"
      }
    },
    {
      "cell_type": "markdown",
      "source": [
        "Let us explore how to display more than one plot on the same figure and specify the number of rows and columns to be created to the subplots function.  \n",
        "\n",
        "For instance, let’s create a line and scatter plot in one row <br>\n",
        "plt.subplots() <br>\n",
        "You can use the same functions using which you plotte lne and scatter plots at the start of this lab\n",
        "<br>\n",
        "Both the subplots will be sharing the same y-axis as the data in the y-axis is the same. So, assign the ‘Sharey’ parameter as True in the code below. Also notice the use of 'suptitle'\n"
      ],
      "metadata": {
        "id": "-8bjqB5xA9Mm"
      }
    },
    {
      "cell_type": "code",
      "source": [
        "# Create a figure with two axes in a row\n",
        "\n",
        "fig, axs = plt.subplots(1, 2, sharey=True)\n",
        "\n",
        "#Plotting in first axes - the left one\n",
        "axs[0].plot(total_immigrants)\n",
        "axs[0].set_title(\"Line plot on immigrants\")\n",
        "\n",
        "#Plotting in second axes - the right one\n",
        "axs[1].scatter(total_immigrants.index, total_immigrants)\n",
        "axs[1].set_title(\"Scatter plot on immigrants\")\n",
        "\n",
        "axs[0].set_ylabel(\"Number of Immigrants\")\n",
        "\n",
        "#Adding a Title for the Overall Figure\n",
        "fig.suptitle('Subplotting Example', fontsize=15)\n",
        "\n",
        "# Adjust spacing between subplots\n",
        "fig.tight_layout()\n",
        "\n",
        "\n",
        "# Show the figure\n",
        "plt.show()"
      ],
      "metadata": {
        "colab": {
          "base_uri": "https://localhost:8080/",
          "height": 122
        },
        "id": "abwu7vXuA9Mm",
        "outputId": "cf6c172b-6fc0-402a-9bba-24a0f6586a2c"
      },
      "outputs": [
        {
          "output_type": "execute_result",
          "data": {
            "text/plain": [
              "'\\nfig, axs = plt.subplots(1, 2, sharey=True)\\n\\n#Plotting in first axes - the left one\\naxs[0].plot(total_immigrants)\\naxs[0].set_title(\"Line plot on immigrants\")\\n\\n#Plotting in second axes - the right one\\naxs[1].scatter(total_immigrants.index, total_immigrants)\\naxs[1].set_title(\"Scatter plot on immigrants\")\\n\\naxs[0].set_ylabel(\"Number of Immigrants\")\\n            \\n#Adding a Title for the Overall Figure\\nfig.suptitle(\\'Subplotting Example\\', fontsize=15)\\n\\n# Adjust spacing between subplots\\nfig.tight_layout()\\n\\n\\n# Show the figure\\nplt.show()'"
            ],
            "application/vnd.google.colaboratory.intrinsic+json": {
              "type": "string"
            }
          },
          "metadata": {},
          "execution_count": 50
        }
      ],
      "execution_count": 50
    },
    {
      "cell_type": "markdown",
      "source": [
        "You can also implement the subplotting with **add_subplot()** as below:-\n"
      ],
      "metadata": {
        "id": "bIlVw1hVA9Mm"
      }
    },
    {
      "cell_type": "code",
      "source": [
        "# Create a figure with Four axes - two rows, two columns\n",
        "fig = plt.figure(figsize=(8,4))\n",
        "\n",
        "# Add the first subplot (top-left)\n",
        "axs1 = fig.add_subplot(1, 2, 1)\n",
        "#Plotting in first axes - the left one\n",
        "axs1.plot(total_immigrants)\n",
        "axs1.set_title(\"Line plot on immigrants\")\n",
        "\n",
        "# Add the second subplot (top-right)\n",
        "axs2 = fig.add_subplot(1, 2, 2)\n",
        "#Plotting in second axes - the right one\n",
        "axs2.barh(total_immigrants.index, total_immigrants) #Notice the use of 'barh' for creating horizontal bar plot\n",
        "axs2.set_title(\"Bar plot on immigrants\")\n",
        "\n",
        "#Adding a Title for the Overall Figure\n",
        "fig.suptitle('Subplotting Example', fontsize=15)\n",
        "\n",
        "# Adjust spacing between subplots\n",
        "fig.tight_layout()\n",
        "\n",
        "\n",
        "# Show the figure\n",
        "plt.show()"
      ],
      "metadata": {
        "colab": {
          "base_uri": "https://localhost:8080/",
          "height": 140
        },
        "id": "Sm5dR73yA9Mm",
        "outputId": "442d8e5c-5f6f-4aef-dbbf-d163aa4edb87"
      },
      "outputs": [
        {
          "output_type": "execute_result",
          "data": {
            "text/plain": [
              "'fig = plt.figure(figsize=(8,4))\\n\\n# Add the first subplot (top-left)\\naxs1 = fig.add_subplot(1, 2, 1)\\n#Plotting in first axes - the left one\\naxs1.plot(total_immigrants)\\naxs1.set_title(\"Line plot on immigrants\")\\n\\n# Add the second subplot (top-right)\\naxs2 = fig.add_subplot(1, 2, 2)\\n#Plotting in second axes - the right one\\naxs2.barh(total_immigrants.index, total_immigrants) #Notice the use of \\'barh\\' for creating horizontal bar plot\\naxs2.set_title(\"Bar plot on immigrants\")\\n            \\n#Adding a Title for the Overall Figure\\nfig.suptitle(\\'Subplotting Example\\', fontsize=15)\\n\\n# Adjust spacing between subplots\\nfig.tight_layout()\\n\\n\\n# Show the figure\\nplt.show()'"
            ],
            "application/vnd.google.colaboratory.intrinsic+json": {
              "type": "string"
            }
          },
          "metadata": {},
          "execution_count": 52
        }
      ],
      "execution_count": 52
    },
    {
      "cell_type": "markdown",
      "source": [
        "### Question: Choose any four plots, which you have developed in this lab, with subplotting display them in a 2x2 display\n"
      ],
      "metadata": {
        "id": "ge8Ui3-eA9Mn"
      }
    },
    {
      "cell_type": "code",
      "source": [
        "# Create a figure with Four axes - two rows, two columns\n",
        "fig = plt.figure(figsize=(10, 10))\n",
        "\n",
        "# Add the first subplot (top-left)\n",
        "ax1 = fig.add_subplot(2, 2, 1)\n",
        "ax1.plot(total_immigrants)\n",
        "ax1.set_title('Plot 1 - Line Plot')\n",
        "\n",
        "# Add the second subplot (top-right)\n",
        "ax2 = fig.add_subplot(2, 2, 2)\n",
        "ax2.scatter(total_immigrants.index, total_immigrants)\n",
        "ax2.set_title('Plot 2 - Scatter plot')\n",
        "\n",
        "# Add the third subplot (bottom-left)\n",
        "ax3 = fig.add_subplot(2, 2, 3)\n",
        "ax3.hist(df_dns)\n",
        "ax3.set_title('Plot3 - Histogram')\n",
        "ax3.set_xlabel('Number of Immigrants')\n",
        "ax3.set_ylabel('Number of Years')\n",
        "\n",
        "# Add the fourth subplot (bottom-right)\n",
        "ax4 = fig.add_subplot(2, 2, 4)\n",
        "ax4.pie(total_immigrants[0:5], labels=years[0:5],\n",
        "       colors = ['gold','blue','lightgreen','coral','cyan'],\n",
        "       autopct='%1.1f%%')\n",
        "ax4.set_aspect('equal')\n",
        "ax4.set_title('Plot 5 - Pie Chart')\n",
        "\n",
        "#Adding a Title for the Overall Figure\n",
        "fig.suptitle('Four Plots in a Figure Example', fontsize=15)\n",
        "\n",
        "# Adjust spacing between subplots\n",
        "fig.tight_layout()\n",
        "\n",
        "\n",
        "# Show the figure\n",
        "plt.show()"
      ],
      "metadata": {
        "colab": {
          "base_uri": "https://localhost:8080/",
          "height": 192
        },
        "id": "kFwgiek3A9Mn",
        "outputId": "fc5c7fb3-6982-4848-d93e-a3eaed5ff0b5"
      },
      "outputs": [
        {
          "output_type": "execute_result",
          "data": {
            "text/plain": [
              "\"fig = plt.figure(figsize=(10, 10))\\n\\n# Add the first subplot (top-left)\\nax1 = fig.add_subplot(2, 2, 1)\\nax1.plot(total_immigrants)\\nax1.set_title('Plot 1 - Line Plot')\\n\\n# Add the second subplot (top-right)\\nax2 = fig.add_subplot(2, 2, 2)\\nax2.scatter(total_immigrants.index, total_immigrants)\\nax2.set_title('Plot 2 - Scatter plot')\\n\\n# Add the third subplot (bottom-left)\\nax3 = fig.add_subplot(2, 2, 3)\\nax3.hist(df_dns)\\nax3.set_title('Plot3 - Histogram') \\nax3.set_xlabel('Number of Immigrants')\\nax3.set_ylabel('Number of Years')\\n\\n# Add the fourth subplot (bottom-right)\\nax4 = fig.add_subplot(2, 2, 4)\\nax4.pie(total_immigrants[0:5], labels=years[0:5], \\n       colors = ['gold','blue','lightgreen','coral','cyan'],\\n       autopct='%1.1f%%')\\nax4.set_aspect('equal')  \\nax4.set_title('Plot 5 - Pie Chart')\\n\\n#Adding a Title for the Overall Figure\\nfig.suptitle('Four Plots in a Figure Example', fontsize=15)\\n\\n# Adjust spacing between subplots\\nfig.tight_layout()\\n\\n\\n# Show the figure\\nplt.show()\""
            ],
            "application/vnd.google.colaboratory.intrinsic+json": {
              "type": "string"
            }
          },
          "metadata": {},
          "execution_count": 54
        }
      ],
      "execution_count": 54
    },
    {
      "cell_type": "markdown",
      "source": [
        "\n",
        "<details><summary>Click here for a sample python solution</summary>\n",
        "\n",
        "```python\n",
        "    # Create a figure with Four axes - two rows, two columns\n",
        "    fig = plt.figure(figsize=(10, 10))\n",
        "\n",
        "    # Add the first subplot (top-left)\n",
        "    ax1 = fig.add_subplot(2, 2, 1)\n",
        "    ax1.plot(total_immigrants)\n",
        "    ax1.set_title('Plot 1 - Line Plot')\n",
        "\n",
        "    # Add the second subplot (top-right)\n",
        "    ax2 = fig.add_subplot(2, 2, 2)\n",
        "    ax2.scatter(total_immigrants.index, total_immigrants)\n",
        "    ax2.set_title('Plot 2 - Scatter plot')\n",
        "\n",
        "    # Add the third subplot (bottom-left)\n",
        "    ax3 = fig.add_subplot(2, 2, 3)\n",
        "    ax3.hist(df_dns)\n",
        "    ax3.set_title('Plot3 - Histogram')\n",
        "    ax3.set_xlabel('Number of Immigrants')\n",
        "    ax3.set_ylabel('Number of Years')\n",
        "\n",
        "    # Add the fourth subplot (bottom-right)\n",
        "    ax4 = fig.add_subplot(2, 2, 4)\n",
        "    ax4.pie(total_immigrants[0:5], labels=years[0:5],\n",
        "           colors = ['gold','blue','lightgreen','coral','cyan'],\n",
        "           autopct='%1.1f%%')\n",
        "    ax4.set_aspect('equal')  \n",
        "    ax4.set_title('Plot 5 - Pie Chart')\n",
        "\n",
        "    #Adding a Title for the Overall Figure\n",
        "    fig.suptitle('Four Plots in a Figure Example', fontsize=15)\n",
        "\n",
        "    # Adjust spacing between subplots\n",
        "    fig.tight_layout()\n",
        "\n",
        "\n",
        "    # Show the figure\n",
        "    plt.show()\n",
        "  ```\n",
        "    </details>\n"
      ],
      "metadata": {
        "id": "H-0UFpppA9Mn"
      }
    },
    {
      "cell_type": "markdown",
      "source": [
        "---\n"
      ],
      "metadata": {
        "id": "hWmMGyh0A9Mn"
      }
    },
    {
      "cell_type": "markdown",
      "source": [
        "### Congratulations! you have completed this lab!\n",
        "\n",
        "## Author\n",
        "\n",
        "[Dr. Pooja]()\n",
        "\n",
        "### Other Contributors\n",
        "\n",
        "\n",
        "\n",
        "\n",
        "## Change Log\n",
        "\n",
        "| Date (YYYY-MM-DD) | Version | Changed By    | Change Description                 |\n",
        "| ----------------- | ------- | ------------- | ---------------------------------- |\n",
        "| 2023-06-19        | 1.0     | Dr. Pooja        | initial version created   |\n",
        "\n",
        "## <h3 align=\"center\"> © IBM Corporation 2020. All rights reserved. <h3/>\n"
      ],
      "metadata": {
        "id": "BPCADcqkA9Mn"
      }
    },
    {
      "cell_type": "code",
      "source": [],
      "metadata": {
        "id": "7JSU5SbCA9Mn"
      },
      "outputs": [],
      "execution_count": null
    }
  ]
}